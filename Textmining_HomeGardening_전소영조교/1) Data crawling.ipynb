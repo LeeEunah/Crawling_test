{
 "cells": [
  {
   "cell_type": "markdown",
   "metadata": {},
   "source": [
    "## Data crawling"
   ]
  },
  {
   "cell_type": "code",
   "execution_count": null,
   "metadata": {},
   "outputs": [],
   "source": [
    "!pip install beautifulSoup4"
   ]
  },
  {
   "cell_type": "code",
   "execution_count": null,
   "metadata": {},
   "outputs": [],
   "source": [
    "import requests\n",
    "from urllib import request\n",
    "from bs4 import BeautifulSoup\n",
    "import time\n",
    "\n",
    "BASE_URL = \"https://gall.dcinside.com/board/lists\"\n",
    "ARTICLE_BASE_URL = \"https://gall.dcinside.com\"\n",
    "headers = [{'User-Agent' : 'Mozilla/5.0 (Windows NT 10.0; Win64; x64) AppleWebKit/537.36 (KHTML, like Gecko) Chrome/90.0.4430.212 Safari/537.36'},]"
   ]
  },
  {
   "cell_type": "code",
   "execution_count": null,
   "metadata": {},
   "outputs": [],
   "source": [
    "article_urls = []\n",
    "pages = 100 # demo: 5000, original: 50000\n",
    "for i in range(pages):\n",
    "    print(i,'번째 페이지 시작')\n",
    "    url = \"https://gall.dcinside.com/board/lists/?id=tree&page=\" + str(i+1)\n",
    "    response = requests.get(url,headers = headers[0])\n",
    "    soup = BeautifulSoup(response.text, 'html.parser')\n",
    "    article_list = soup.select(\"tbody > tr\")\n",
    "    for article in article_list:        \n",
    "        try:\n",
    "            art_url = 'https://gall.dcinside.com' + str(article.select('a')[0].attrs['href'])\n",
    "            if art_url == \"https://gall.dcinside.comjavascript:;\":\n",
    "                art_url = \"nan\"\n",
    "            article_urls.append(art_url)\n",
    "        except:\n",
    "            pass\n",
    "uurl = pandas.DataFrame(article_urls)        "
   ]
  },
  {
   "cell_type": "code",
   "execution_count": null,
   "metadata": {},
   "outputs": [],
   "source": [
    "import random\n",
    "num=0\n",
    "title_list=[]\n",
    "content_list=[]\n",
    "for url in uurl:\n",
    "    t = np.nan\n",
    "    c = np.nan\n",
    "    print(num,'번째 글 시작')\n",
    "    response = requests.get(url,headers = headers[0])\n",
    "    time.sleep(random.random() + 0.3)\n",
    "    soup = BeautifulSoup(response.text, 'html.parser')\n",
    "    \n",
    "    try :\n",
    "        #제목\n",
    "        t = soup.select(\"h3.title.ub-word > span.title_subject\")[0].get_text()\n",
    "        title_list.append(t)\n",
    "        time.sleep(random.random() + 0.3)\n",
    "        #내용\n",
    "        article_contents = soup.select('div.write_div')\n",
    "        c= article_contents[0].get_text()\n",
    "        content_list.append(c)\n",
    "        time.sleep(0.3)\n",
    "        \n",
    "    except:\n",
    "        t= 'nan'\n",
    "        c= 'nan'\n",
    "        title_list.append(t)\n",
    "        content_list.append(c)\n",
    "        \n",
    "    print('제목:',t)\n",
    "    print('내용:',c)\n",
    "    num=num+1"
   ]
  },
  {
   "cell_type": "code",
   "execution_count": null,
   "metadata": {},
   "outputs": [],
   "source": [
    "tt = pd.DataFrame(title_list)\n",
    "cc = pd.DataFrame(content_list)\n",
    "df = pd.concat([tt,cc],axis=1)\n",
    "ttcc.to_csv('tc_v1.csv',encoding='utf-8')"
   ]
  }
 ],
 "metadata": {
  "kernelspec": {
   "display_name": "Python 3",
   "language": "python",
   "name": "python3"
  },
  "language_info": {
   "codemirror_mode": {
    "name": "ipython",
    "version": 3
   },
   "file_extension": ".py",
   "mimetype": "text/x-python",
   "name": "python",
   "nbconvert_exporter": "python",
   "pygments_lexer": "ipython3",
   "version": "3.7.4"
  }
 },
 "nbformat": 4,
 "nbformat_minor": 2
}
