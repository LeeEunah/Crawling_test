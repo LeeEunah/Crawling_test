{
 "cells": [
  {
   "cell_type": "code",
   "execution_count": 2,
   "metadata": {},
   "outputs": [],
   "source": [
    "import pandas as pd"
   ]
  },
  {
   "cell_type": "markdown",
   "metadata": {},
   "source": [
    "### 데이터 읽기(중요도/만족도 파일)"
   ]
  },
  {
   "cell_type": "code",
   "execution_count": 5,
   "metadata": {},
   "outputs": [],
   "source": [
    "# 중요도 df 읽기\n",
    "si= pd.read_csv('scaled_importance.csv') # 이미 스케일링 완료된 파일\n",
    "td = pd.read_csv('topictable.csv')"
   ]
  },
  {
   "cell_type": "code",
   "execution_count": 6,
   "metadata": {},
   "outputs": [
    {
     "data": {
      "text/plain": [
       "0      2.205309\n",
       "1      3.260706\n",
       "2      8.195008\n",
       "3     10.000000\n",
       "4      0.000000\n",
       "5      3.525818\n",
       "6      4.487929\n",
       "7      1.572658\n",
       "8      6.419331\n",
       "9      9.682030\n",
       "10     0.147989\n",
       "11     2.927326\n",
       "Name: 0, dtype: float64"
      ]
     },
     "execution_count": 6,
     "metadata": {},
     "output_type": "execute_result"
    }
   ],
   "source": [
    "si['0']"
   ]
  },
  {
   "cell_type": "code",
   "execution_count": 13,
   "metadata": {},
   "outputs": [],
   "source": [
    "toptopic = td['가장 비중이 높은 토픽']"
   ]
  },
  {
   "cell_type": "code",
   "execution_count": 9,
   "metadata": {},
   "outputs": [],
   "source": [
    "# 만족도(감성 분석) df 읽기\n",
    "sent = pd.read_csv('sentiment.csv')"
   ]
  },
  {
   "cell_type": "code",
   "execution_count": 14,
   "metadata": {},
   "outputs": [],
   "source": [
    "sent['toptopic'] = toptopic"
   ]
  },
  {
   "cell_type": "code",
   "execution_count": 83,
   "metadata": {},
   "outputs": [
    {
     "data": {
      "text/html": [
       "<div>\n",
       "<style scoped>\n",
       "    .dataframe tbody tr th:only-of-type {\n",
       "        vertical-align: middle;\n",
       "    }\n",
       "\n",
       "    .dataframe tbody tr th {\n",
       "        vertical-align: top;\n",
       "    }\n",
       "\n",
       "    .dataframe thead th {\n",
       "        text-align: right;\n",
       "    }\n",
       "</style>\n",
       "<table border=\"1\" class=\"dataframe\">\n",
       "  <thead>\n",
       "    <tr style=\"text-align: right;\">\n",
       "      <th></th>\n",
       "      <th>text_tokenized_3</th>\n",
       "      <th>sentiment</th>\n",
       "      <th>toptopic</th>\n",
       "    </tr>\n",
       "  </thead>\n",
       "  <tbody>\n",
       "    <tr>\n",
       "      <th>0</th>\n",
       "      <td>['칼라', '아악', '무', '재다', '다육', '키우다', '경험', '작년...</td>\n",
       "      <td>0.583522</td>\n",
       "      <td>2.0</td>\n",
       "    </tr>\n",
       "    <tr>\n",
       "      <th>1</th>\n",
       "      <td>['두더지', '닭장', '밑', '고구마', '심다', '놓다', '두더지', '...</td>\n",
       "      <td>0.459360</td>\n",
       "      <td>7.0</td>\n",
       "    </tr>\n",
       "    <tr>\n",
       "      <th>2</th>\n",
       "      <td>['미래', '집', '인공', '태양', '베란다', '해바라기', '키우다']</td>\n",
       "      <td>0.604976</td>\n",
       "      <td>2.0</td>\n",
       "    </tr>\n",
       "    <tr>\n",
       "      <th>3</th>\n",
       "      <td>['땅', '떨어지다', '버찌', '줍다', '발아', '가능']</td>\n",
       "      <td>0.546978</td>\n",
       "      <td>1.0</td>\n",
       "    </tr>\n",
       "    <tr>\n",
       "      <th>4</th>\n",
       "      <td>['다이소', '한련화', '크다', '어제', '빨갛다', '꽃', '꽃', '몽...</td>\n",
       "      <td>0.598985</td>\n",
       "      <td>6.0</td>\n",
       "    </tr>\n",
       "    <tr>\n",
       "      <th>...</th>\n",
       "      <td>...</td>\n",
       "      <td>...</td>\n",
       "      <td>...</td>\n",
       "    </tr>\n",
       "    <tr>\n",
       "      <th>55192</th>\n",
       "      <td>['나무', '핀', '꽃', '꽃', '궁금하다', '감사하다']</td>\n",
       "      <td>0.719425</td>\n",
       "      <td>6.0</td>\n",
       "    </tr>\n",
       "    <tr>\n",
       "      <th>55193</th>\n",
       "      <td>['꽃', '이름', '지인', '찍다', '꽃', '예쁘다']</td>\n",
       "      <td>0.749941</td>\n",
       "      <td>6.0</td>\n",
       "    </tr>\n",
       "    <tr>\n",
       "      <th>55194</th>\n",
       "      <td>['물어보다', '다육', '화분', '버섯', '피다', '버섯', '피다', '...</td>\n",
       "      <td>0.524460</td>\n",
       "      <td>3.0</td>\n",
       "    </tr>\n",
       "    <tr>\n",
       "      <th>55195</th>\n",
       "      <td>['독특하다', '생기다', '꽃', '풀', '가요']</td>\n",
       "      <td>0.705881</td>\n",
       "      <td>6.0</td>\n",
       "    </tr>\n",
       "    <tr>\n",
       "      <th>55196</th>\n",
       "      <td>['죽다', '도와주다', '향기도', '동글동글', '재', '변하다', '이유'...</td>\n",
       "      <td>0.613720</td>\n",
       "      <td>8.0</td>\n",
       "    </tr>\n",
       "  </tbody>\n",
       "</table>\n",
       "<p>55197 rows × 3 columns</p>\n",
       "</div>"
      ],
      "text/plain": [
       "                                        text_tokenized_3  sentiment  toptopic\n",
       "0      ['칼라', '아악', '무', '재다', '다육', '키우다', '경험', '작년...   0.583522       2.0\n",
       "1      ['두더지', '닭장', '밑', '고구마', '심다', '놓다', '두더지', '...   0.459360       7.0\n",
       "2          ['미래', '집', '인공', '태양', '베란다', '해바라기', '키우다']   0.604976       2.0\n",
       "3                  ['땅', '떨어지다', '버찌', '줍다', '발아', '가능']   0.546978       1.0\n",
       "4      ['다이소', '한련화', '크다', '어제', '빨갛다', '꽃', '꽃', '몽...   0.598985       6.0\n",
       "...                                                  ...        ...       ...\n",
       "55192              ['나무', '핀', '꽃', '꽃', '궁금하다', '감사하다']   0.719425       6.0\n",
       "55193                ['꽃', '이름', '지인', '찍다', '꽃', '예쁘다']   0.749941       6.0\n",
       "55194  ['물어보다', '다육', '화분', '버섯', '피다', '버섯', '피다', '...   0.524460       3.0\n",
       "55195                    ['독특하다', '생기다', '꽃', '풀', '가요']   0.705881       6.0\n",
       "55196  ['죽다', '도와주다', '향기도', '동글동글', '재', '변하다', '이유'...   0.613720       8.0\n",
       "\n",
       "[55197 rows x 3 columns]"
      ]
     },
     "execution_count": 83,
     "metadata": {},
     "output_type": "execute_result"
    }
   ],
   "source": [
    "sent[['text_tokenized_3','sentiment','toptopic']]"
   ]
  },
  {
   "cell_type": "code",
   "execution_count": 78,
   "metadata": {},
   "outputs": [
    {
     "data": {
      "text/plain": [
       "341             ['실수', '꽃', '밟다', '버리다', '이제', '감옥', '가라']\n",
       "361                         ['벌레', '가요', '벌레', '사진', '주의']\n",
       "663                                   ['무섭다', '크다', '모르다']\n",
       "781            ['올리브', '나무', '죽다', '거죽', '건가', '못', '살리다']\n",
       "856                                     ['친구', '썩다', '건가']\n",
       "                               ...                        \n",
       "54761                                       ['살리다', '살리다']\n",
       "54850                                ['살리다', '죽다', '물어보다']\n",
       "54878    ['칼', '코', '벌레', '가요', '징그럽다', '어떡하다', '자르다', ...\n",
       "54944         ['벌레', '벌레', '벌레', '라면', '버리다', '가까이', '깜짝']\n",
       "55000                                 ['고무나무', '죽다', '건가']\n",
       "Name: text_tokenized_3, Length: 342, dtype: object"
      ]
     },
     "execution_count": 78,
     "metadata": {},
     "output_type": "execute_result"
    }
   ],
   "source": [
    "sent['text_tokenized_3'][(sent['sentiment']<0.4)] #부정 게시물"
   ]
  },
  {
   "cell_type": "code",
   "execution_count": 82,
   "metadata": {},
   "outputs": [
    {
     "data": {
      "text/plain": [
       "10                                             ['꽃', '이름']\n",
       "22                                           ['기여', '이쁘다']\n",
       "23       ['식물', '키우다', '추천', '해주다', '작다', '화분', '키우다', ...\n",
       "36       ['쪼금', '크다', '저번', '싹', '흙', '붙다', '오늘', '센티',...\n",
       "43                                     ['꽃', '이름', '궁금하다']\n",
       "                               ...                        \n",
       "55158                                    ['꽃', '예쁘다', '꽃']\n",
       "55170                                        ['꽃', '결혼식장']\n",
       "55192                ['나무', '핀', '꽃', '꽃', '궁금하다', '감사하다']\n",
       "55193                  ['꽃', '이름', '지인', '찍다', '꽃', '예쁘다']\n",
       "55195                      ['독특하다', '생기다', '꽃', '풀', '가요']\n",
       "Name: text_tokenized_3, Length: 3985, dtype: object"
      ]
     },
     "execution_count": 82,
     "metadata": {},
     "output_type": "execute_result"
    }
   ],
   "source": [
    "sent['text_tokenized_3'][(sent['sentiment']>0.7)] #긍정 게시물"
   ]
  },
  {
   "cell_type": "code",
   "execution_count": 19,
   "metadata": {},
   "outputs": [],
   "source": [
    "se = sent[['sentiment','toptopic']]"
   ]
  },
  {
   "cell_type": "markdown",
   "metadata": {},
   "source": [
    "### 감성 점수 스케일링"
   ]
  },
  {
   "cell_type": "code",
   "execution_count": 21,
   "metadata": {},
   "outputs": [],
   "source": [
    "mean_se = se.groupby(['toptopic'], as_index=False).mean()"
   ]
  },
  {
   "cell_type": "code",
   "execution_count": 24,
   "metadata": {},
   "outputs": [],
   "source": [
    "satisfaction = mean_se['sentiment']"
   ]
  },
  {
   "cell_type": "code",
   "execution_count": 25,
   "metadata": {},
   "outputs": [],
   "source": [
    "min_satisfaction = min(satisfaction)\n",
    "max_satisfaction = max(satisfaction)"
   ]
  },
  {
   "cell_type": "code",
   "execution_count": 26,
   "metadata": {},
   "outputs": [],
   "source": [
    "scaled_satisfaction= []\n",
    "for i in range(12):\n",
    "    a= 10 *((satisfaction[i]-min_satisfaction)/(max_satisfaction-min_satisfaction))\n",
    "    scaled_satisfaction.append(a)"
   ]
  },
  {
   "cell_type": "code",
   "execution_count": 28,
   "metadata": {},
   "outputs": [],
   "source": [
    "sd = scaled_satisfaction"
   ]
  },
  {
   "cell_type": "code",
   "execution_count": 31,
   "metadata": {},
   "outputs": [],
   "source": [
    "si['satisfaction'] = sd"
   ]
  },
  {
   "cell_type": "code",
   "execution_count": 32,
   "metadata": {},
   "outputs": [
    {
     "data": {
      "text/html": [
       "<div>\n",
       "<style scoped>\n",
       "    .dataframe tbody tr th:only-of-type {\n",
       "        vertical-align: middle;\n",
       "    }\n",
       "\n",
       "    .dataframe tbody tr th {\n",
       "        vertical-align: top;\n",
       "    }\n",
       "\n",
       "    .dataframe thead th {\n",
       "        text-align: right;\n",
       "    }\n",
       "</style>\n",
       "<table border=\"1\" class=\"dataframe\">\n",
       "  <thead>\n",
       "    <tr style=\"text-align: right;\">\n",
       "      <th></th>\n",
       "      <th>Unnamed: 0</th>\n",
       "      <th>0</th>\n",
       "      <th>satisfaction</th>\n",
       "    </tr>\n",
       "  </thead>\n",
       "  <tbody>\n",
       "    <tr>\n",
       "      <th>0</th>\n",
       "      <td>0</td>\n",
       "      <td>2.205309</td>\n",
       "      <td>0.237519</td>\n",
       "    </tr>\n",
       "    <tr>\n",
       "      <th>1</th>\n",
       "      <td>1</td>\n",
       "      <td>3.260706</td>\n",
       "      <td>4.264627</td>\n",
       "    </tr>\n",
       "    <tr>\n",
       "      <th>2</th>\n",
       "      <td>2</td>\n",
       "      <td>8.195008</td>\n",
       "      <td>5.533715</td>\n",
       "    </tr>\n",
       "    <tr>\n",
       "      <th>3</th>\n",
       "      <td>3</td>\n",
       "      <td>10.000000</td>\n",
       "      <td>10.000000</td>\n",
       "    </tr>\n",
       "    <tr>\n",
       "      <th>4</th>\n",
       "      <td>4</td>\n",
       "      <td>0.000000</td>\n",
       "      <td>4.555861</td>\n",
       "    </tr>\n",
       "    <tr>\n",
       "      <th>5</th>\n",
       "      <td>5</td>\n",
       "      <td>3.525818</td>\n",
       "      <td>3.931234</td>\n",
       "    </tr>\n",
       "    <tr>\n",
       "      <th>6</th>\n",
       "      <td>6</td>\n",
       "      <td>4.487929</td>\n",
       "      <td>9.467019</td>\n",
       "    </tr>\n",
       "    <tr>\n",
       "      <th>7</th>\n",
       "      <td>7</td>\n",
       "      <td>1.572658</td>\n",
       "      <td>3.665073</td>\n",
       "    </tr>\n",
       "    <tr>\n",
       "      <th>8</th>\n",
       "      <td>8</td>\n",
       "      <td>6.419331</td>\n",
       "      <td>2.587763</td>\n",
       "    </tr>\n",
       "    <tr>\n",
       "      <th>9</th>\n",
       "      <td>9</td>\n",
       "      <td>9.682030</td>\n",
       "      <td>0.000000</td>\n",
       "    </tr>\n",
       "    <tr>\n",
       "      <th>10</th>\n",
       "      <td>10</td>\n",
       "      <td>0.147989</td>\n",
       "      <td>5.323083</td>\n",
       "    </tr>\n",
       "    <tr>\n",
       "      <th>11</th>\n",
       "      <td>11</td>\n",
       "      <td>2.927326</td>\n",
       "      <td>1.371125</td>\n",
       "    </tr>\n",
       "  </tbody>\n",
       "</table>\n",
       "</div>"
      ],
      "text/plain": [
       "    Unnamed: 0          0  satisfaction\n",
       "0            0   2.205309      0.237519\n",
       "1            1   3.260706      4.264627\n",
       "2            2   8.195008      5.533715\n",
       "3            3  10.000000     10.000000\n",
       "4            4   0.000000      4.555861\n",
       "5            5   3.525818      3.931234\n",
       "6            6   4.487929      9.467019\n",
       "7            7   1.572658      3.665073\n",
       "8            8   6.419331      2.587763\n",
       "9            9   9.682030      0.000000\n",
       "10          10   0.147989      5.323083\n",
       "11          11   2.927326      1.371125"
      ]
     },
     "execution_count": 32,
     "metadata": {},
     "output_type": "execute_result"
    }
   ],
   "source": [
    "si"
   ]
  },
  {
   "cell_type": "code",
   "execution_count": 33,
   "metadata": {},
   "outputs": [],
   "source": [
    "si.drop(columns = [\"Unnamed: 0\"], inplace=True)"
   ]
  },
  {
   "cell_type": "code",
   "execution_count": 34,
   "metadata": {},
   "outputs": [],
   "source": [
    "si.columns = ['importance', 'satisfaction']"
   ]
  },
  {
   "cell_type": "code",
   "execution_count": 37,
   "metadata": {},
   "outputs": [],
   "source": [
    "# count \n",
    "count_td = td.groupby(['가장 비중이 높은 토픽'], as_index=False).count()"
   ]
  },
  {
   "cell_type": "code",
   "execution_count": 41,
   "metadata": {},
   "outputs": [],
   "source": [
    "co = count_td['Unnamed: 0']\n",
    "si['count'] = co"
   ]
  },
  {
   "cell_type": "code",
   "execution_count": 56,
   "metadata": {},
   "outputs": [],
   "source": [
    "si['group'] =[\"1\",'2','3','4','5','6','7','8','9','10','11','12']"
   ]
  },
  {
   "cell_type": "code",
   "execution_count": 64,
   "metadata": {},
   "outputs": [],
   "source": [
    "si.to_csv('total.csv') # R에서 활용할 예정"
   ]
  },
  {
   "cell_type": "code",
   "execution_count": 51,
   "metadata": {},
   "outputs": [
    {
     "name": "stderr",
     "output_type": "stream",
     "text": [
      "C:\\Anaconda3\\lib\\site-packages\\statsmodels\\tools\\_testing.py:19: FutureWarning: pandas.util.testing is deprecated. Use the functions in the public API at pandas.testing instead.\n",
      "  import pandas.util.testing as tm\n"
     ]
    }
   ],
   "source": [
    "import matplotlib.pyplot as plt\n",
    "import numpy as np\n",
    "import seaborn as sns"
   ]
  },
  {
   "cell_type": "code",
   "execution_count": 69,
   "metadata": {},
   "outputs": [
    {
     "data": {
      "text/plain": [
       "[634, 756, 1489, 2859, 3163, 3497, 3730, 4610, 6492, 8288, 9769, 9910]"
      ]
     },
     "execution_count": 69,
     "metadata": {},
     "output_type": "execute_result"
    }
   ],
   "source": [
    "sorted(si['count'])"
   ]
  },
  {
   "cell_type": "code",
   "execution_count": 70,
   "metadata": {},
   "outputs": [
    {
     "data": {
      "text/html": [
       "<div>\n",
       "<style scoped>\n",
       "    .dataframe tbody tr th:only-of-type {\n",
       "        vertical-align: middle;\n",
       "    }\n",
       "\n",
       "    .dataframe tbody tr th {\n",
       "        vertical-align: top;\n",
       "    }\n",
       "\n",
       "    .dataframe thead th {\n",
       "        text-align: right;\n",
       "    }\n",
       "</style>\n",
       "<table border=\"1\" class=\"dataframe\">\n",
       "  <thead>\n",
       "    <tr style=\"text-align: right;\">\n",
       "      <th></th>\n",
       "      <th>importance</th>\n",
       "      <th>satisfaction</th>\n",
       "      <th>count</th>\n",
       "      <th>group</th>\n",
       "    </tr>\n",
       "  </thead>\n",
       "  <tbody>\n",
       "    <tr>\n",
       "      <th>0</th>\n",
       "      <td>2.205309</td>\n",
       "      <td>0.237519</td>\n",
       "      <td>2859</td>\n",
       "      <td>1</td>\n",
       "    </tr>\n",
       "    <tr>\n",
       "      <th>1</th>\n",
       "      <td>3.260706</td>\n",
       "      <td>4.264627</td>\n",
       "      <td>3497</td>\n",
       "      <td>2</td>\n",
       "    </tr>\n",
       "    <tr>\n",
       "      <th>2</th>\n",
       "      <td>8.195008</td>\n",
       "      <td>5.533715</td>\n",
       "      <td>8288</td>\n",
       "      <td>3</td>\n",
       "    </tr>\n",
       "    <tr>\n",
       "      <th>3</th>\n",
       "      <td>10.000000</td>\n",
       "      <td>10.000000</td>\n",
       "      <td>9769</td>\n",
       "      <td>4</td>\n",
       "    </tr>\n",
       "    <tr>\n",
       "      <th>4</th>\n",
       "      <td>0.000000</td>\n",
       "      <td>4.555861</td>\n",
       "      <td>756</td>\n",
       "      <td>5</td>\n",
       "    </tr>\n",
       "    <tr>\n",
       "      <th>5</th>\n",
       "      <td>3.525818</td>\n",
       "      <td>3.931234</td>\n",
       "      <td>3730</td>\n",
       "      <td>6</td>\n",
       "    </tr>\n",
       "    <tr>\n",
       "      <th>6</th>\n",
       "      <td>4.487929</td>\n",
       "      <td>9.467019</td>\n",
       "      <td>4610</td>\n",
       "      <td>7</td>\n",
       "    </tr>\n",
       "    <tr>\n",
       "      <th>7</th>\n",
       "      <td>1.572658</td>\n",
       "      <td>3.665073</td>\n",
       "      <td>1489</td>\n",
       "      <td>8</td>\n",
       "    </tr>\n",
       "    <tr>\n",
       "      <th>8</th>\n",
       "      <td>6.419331</td>\n",
       "      <td>2.587763</td>\n",
       "      <td>6492</td>\n",
       "      <td>9</td>\n",
       "    </tr>\n",
       "    <tr>\n",
       "      <th>9</th>\n",
       "      <td>9.682030</td>\n",
       "      <td>0.000000</td>\n",
       "      <td>9910</td>\n",
       "      <td>10</td>\n",
       "    </tr>\n",
       "    <tr>\n",
       "      <th>10</th>\n",
       "      <td>0.147989</td>\n",
       "      <td>5.323083</td>\n",
       "      <td>634</td>\n",
       "      <td>11</td>\n",
       "    </tr>\n",
       "    <tr>\n",
       "      <th>11</th>\n",
       "      <td>2.927326</td>\n",
       "      <td>1.371125</td>\n",
       "      <td>3163</td>\n",
       "      <td>12</td>\n",
       "    </tr>\n",
       "  </tbody>\n",
       "</table>\n",
       "</div>"
      ],
      "text/plain": [
       "    importance  satisfaction  count group\n",
       "0     2.205309      0.237519   2859     1\n",
       "1     3.260706      4.264627   3497     2\n",
       "2     8.195008      5.533715   8288     3\n",
       "3    10.000000     10.000000   9769     4\n",
       "4     0.000000      4.555861    756     5\n",
       "5     3.525818      3.931234   3730     6\n",
       "6     4.487929      9.467019   4610     7\n",
       "7     1.572658      3.665073   1489     8\n",
       "8     6.419331      2.587763   6492     9\n",
       "9     9.682030      0.000000   9910    10\n",
       "10    0.147989      5.323083    634    11\n",
       "11    2.927326      1.371125   3163    12"
      ]
     },
     "execution_count": 70,
     "metadata": {},
     "output_type": "execute_result"
    }
   ],
   "source": [
    "si"
   ]
  },
  {
   "cell_type": "code",
   "execution_count": 46,
   "metadata": {},
   "outputs": [],
   "source": [
    "plt.rcParams['figure.figsize'] = [10, 8] # setting figure size"
   ]
  },
  {
   "cell_type": "code",
   "execution_count": 49,
   "metadata": {},
   "outputs": [
    {
     "data": {
      "image/png": "[encoded data removed]",
      "text/plain": [
       "<Figure size 720x576 with 1 Axes>"
      ]
     },
     "metadata": {
      "needs_background": "light"
     },
     "output_type": "display_data"
    }
   ],
   "source": [
    "# 자세한 그래프 표현은 R 파일(5-2) 확인!\n",
    "# scatter plot\n",
    "si.plot(kind='scatter', x='importance', y='satisfaction', s='count',label='group') \n",
    "\n",
    "#plt.legend(loc = \"best\")\n",
    "plt.xlabel('importance')\n",
    "plt.ylabel('satisfaction')\n",
    "plt.show()"
   ]
  }
 ],
 "metadata": {
  "kernelspec": {
   "display_name": "Python 3",
   "language": "python",
   "name": "python3"
  },
  "language_info": {
   "codemirror_mode": {
    "name": "ipython",
    "version": 3
   },
   "file_extension": ".py",
   "mimetype": "text/x-python",
   "name": "python",
   "nbconvert_exporter": "python",
   "pygments_lexer": "ipython3",
   "version": "3.7.4"
  }
 },
 "nbformat": 4,
 "nbformat_minor": 2
}
