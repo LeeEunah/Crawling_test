{
 "cells": [
  {
   "cell_type": "markdown",
   "metadata": {},
   "source": [
    "# Week 6-1 nltk와 konlpy  맛보기 Lab"
   ]
  },
  {
   "cell_type": "markdown",
   "metadata": {},
   "source": [
    "1. 다음은 LG 냉장고에 대한 아마존 리뷰 중 하나이다. 이를 이용해서 다음을 수행하시오."
   ]
  },
  {
   "cell_type": "code",
   "execution_count": 1,
   "metadata": {},
   "outputs": [],
   "source": [
    "review1 = \"\"\"\n",
    "I’ve had many LG appliances, and loved their refrigerators. So i’m our new home we went for their new top model.\n",
    "Less then a year in it stopped working. It took weeks to get a repair scheduled, order part, and after replacing compressor and board, still dead.\n",
    "The Customer Service admitted it was taking too long and sent in for refund. But it was denied because the repairman did not report it unfixable.\n",
    "Well, he couldn’t fix it!!! Two months of running to garage for food, thanks giving, Christmas...we gave up and bought a new (Samsung).\n",
    "So don’t ignore it the multiple reviews about declining quality and poor customer service, like I did...\n",
    "\"\"\""
   ]
  },
  {
   "cell_type": "code",
   "execution_count": 2,
   "metadata": {},
   "outputs": [],
   "source": [
    "from nltk.tokenize import word_tokenize"
   ]
  },
  {
   "cell_type": "code",
   "execution_count": 3,
   "metadata": {},
   "outputs": [
    {
     "name": "stdout",
     "output_type": "stream",
     "text": [
      "['I', '’', 've', 'had', 'many', 'LG', 'appliances', ',', 'and', 'loved', 'their', 'refrigerators', '.', 'So', 'i', '’', 'm', 'our', 'new', 'home', 'we', 'went', 'for', 'their', 'new', 'top', 'model', '.', 'Less', 'then', 'a', 'year', 'in', 'it', 'stopped', 'working', '.', 'It', 'took', 'weeks', 'to', 'get', 'a', 'repair', 'scheduled', ',', 'order', 'part', ',', 'and', 'after', 'replacing', 'compressor', 'and', 'board', ',', 'still', 'dead', '.', 'The', 'Customer', 'Service', 'admitted', 'it', 'was', 'taking', 'too', 'long', 'and', 'sent', 'in', 'for', 'refund', '.', 'But', 'it', 'was', 'denied', 'because', 'the', 'repairman', 'did', 'not', 'report', 'it', 'unfixable', '.', 'Well', ',', 'he', 'couldn', '’', 't', 'fix', 'it', '!', '!', '!', 'Two', 'months', 'of', 'running', 'to', 'garage', 'for', 'food', ',', 'thanks', 'giving', ',', 'Christmas', '...', 'we', 'gave', 'up', 'and', 'bought', 'a', 'new', '(', 'Samsung', ')', '.', 'So', 'don', '’', 't', 'ignore', 'it', 'the', 'multiple', 'reviews', 'about', 'declining', 'quality', 'and', 'poor', 'customer', 'service', ',', 'like', 'I', 'did', '...']\n"
     ]
    }
   ],
   "source": [
    "print(word_tokenize(review1))"
   ]
  },
  {
   "cell_type": "code",
   "execution_count": 4,
   "metadata": {},
   "outputs": [],
   "source": [
    "from nltk.tokenize import sent_tokenize"
   ]
  },
  {
   "cell_type": "code",
   "execution_count": 5,
   "metadata": {},
   "outputs": [
    {
     "name": "stdout",
     "output_type": "stream",
     "text": [
      "['\\nI’ve had many LG appliances, and loved their refrigerators.', 'So i’m our new home we went for their new top model.', 'Less then a year in it stopped working.', 'It took weeks to get a repair scheduled, order part, and after replacing compressor and board, still dead.', 'The Customer Service admitted it was taking too long and sent in for refund.', 'But it was denied because the repairman did not report it unfixable.', 'Well, he couldn’t fix it!!!', 'Two months of running to garage for food, thanks giving, Christmas...we gave up and bought a new (Samsung).', 'So don’t ignore it the multiple reviews about declining quality and poor customer service, like I did...']\n"
     ]
    }
   ],
   "source": [
    "print(sent_tokenize(review1))"
   ]
  },
  {
   "cell_type": "markdown",
   "metadata": {},
   "source": [
    "2. 단어별 토큰화를 하시오."
   ]
  },
  {
   "cell_type": "markdown",
   "metadata": {},
   "source": [
    "3. 문장별 토큰화를 하시오."
   ]
  },
  {
   "cell_type": "markdown",
   "metadata": {},
   "source": [
    "다음은 LG 냉장고에 대한 한글 리뷰 2개이다. 다음을 수행하시오."
   ]
  },
  {
   "cell_type": "code",
   "execution_count": 6,
   "metadata": {},
   "outputs": [],
   "source": [
    "review1 = \"이사하는데 냉장고가 없어서 빠른배송 하나보고 구매했네요... 콕 찍힌곳이 한군데 보이긴 하는데...애가아직 어리니 이런건 흠으로도 안보이네요... 근데 냉동실이나 냉장실문 서랍깊이가 낮아서 아이스큼도 자꾸 떨어지고 긴건 놓을수가 없어 불편하네요. 아이가 작은문도 냉장고큰문을 닫는것처럼 닫으니 열려있는 경우도 허다하네요...\"\n",
    "review2 = \"주문하고3일만에도착했어요현관문이작아서베란다창문뜯고냉장고문짝분리해서겨우들어왔네요두분이서친절하게잘설명해주시고설치도너무잘해주시고가셨어요좋네요10년넘게쓰던냉장고드뎌보내줬네요이것도오래쓸수있겠죠\""
   ]
  },
  {
   "cell_type": "code",
   "execution_count": 7,
   "metadata": {},
   "outputs": [],
   "source": [
    "import konlpy\n",
    "from konlpy.tag import Okt"
   ]
  },
  {
   "cell_type": "code",
   "execution_count": 8,
   "metadata": {},
   "outputs": [
    {
     "data": {
      "text/plain": [
       "'3.7.4 (default, Aug  9 2019, 18:34:13) [MSC v.1915 64 bit (AMD64)]'"
      ]
     },
     "execution_count": 8,
     "metadata": {},
     "output_type": "execute_result"
    }
   ],
   "source": [
    "import sys\n",
    "sys.version"
   ]
  },
  {
   "cell_type": "code",
   "execution_count": 9,
   "metadata": {},
   "outputs": [],
   "source": [
    "okt = Okt()"
   ]
  },
  {
   "cell_type": "code",
   "execution_count": 11,
   "metadata": {},
   "outputs": [
    {
     "name": "stdout",
     "output_type": "stream",
     "text": [
      "['이사', '하는데', '냉장고', '가', '없어서', '빠른', '배송', '하나', '보고', '구매', '했네요', '...', '콕', '찍힌', '곳', '이', '한', '군데', '보이긴', '하는데', '...', '애가', '아직', '어리니', '이런건', '흠', '으로도', '안', '보이네요', '...', '근데', '냉동', '실', '이나', '냉장', '실문', '서랍', '깊이', '가', '낮아서', '아이스', '큼도', '자꾸', '떨어지고', '긴건', '놓을수가', '없어', '불편하네요', '.', '아이', '가', '작은', '문도', '냉장고', '큰', '문', '을', '닫는것처럼', '닫으니', '열려있는', '경우', '도', '허다하네요', '...']\n",
      "['이사', '하다', '냉장고', '가', '없다', '빠르다', '배송', '하나', '보고', '구매', '하다', '...', '콕', '찍히다', '곳', '이', '한', '군데', '보이다', '하다', '...', '애가', '아직', '어리다', '이렇다', '흠', '으로도', '안', '보이다', '...', '근데', '냉동', '실', '이나', '냉장', '실문', '서랍', '깊이', '가', '낮다', '아이스', '크다', '자꾸', '떨어지다', '기다', '놓다', '없다', '불편하다', '.', '아이', '가', '작다', '문도', '냉장고', '크다', '문', '을', '닫다', '닫다', '열리다', '경우', '도', '허다', '...']\n",
      "['주문', '하고', '3일', '만에도착했어요현관문이작아서베란다창문뜯고냉장고문짝분리해서겨우들어왔네요두분이서친절하게잘설명해주시고설치도너무잘해주시고가셨어요좋네요', '10년', '넘게쓰던냉장고드뎌보내줬네요이것도오래쓸수있겠죠']\n",
      "['주문', '하고', '3일', '만에도착했어요현관문이작아서베란다창문뜯고냉장고문짝분리해서겨우들어왔네요두분이서친절하게잘설명해주시고설치도너무잘해주시고가셨어요좋네요', '10년', '넘게쓰던냉장고드뎌보내줬네요이것도오래쓸수있겠죠']\n"
     ]
    }
   ],
   "source": [
    "print(okt.morphs(review1))\n",
    "print(okt.morphs(review1, stem=True))\n",
    "print(okt.morphs(review2))\n",
    "print(okt.morphs(review2, stem=True))"
   ]
  },
  {
   "cell_type": "code",
   "execution_count": 12,
   "metadata": {},
   "outputs": [
    {
     "name": "stdout",
     "output_type": "stream",
     "text": [
      "['이사', '냉장고', '배송', '하나', '보고', '구매', '콕', '곳', '군데', '애가', '흠', '냉동', '실', '냉장', '실문', '서랍', '깊이', '아이스', '자꾸', '아이', '문도', '냉장고', '문', '경우']\n"
     ]
    }
   ],
   "source": [
    "print(okt.nouns(review1))"
   ]
  },
  {
   "cell_type": "code",
   "execution_count": 13,
   "metadata": {},
   "outputs": [
    {
     "name": "stdout",
     "output_type": "stream",
     "text": [
      "['주문']\n"
     ]
    }
   ],
   "source": [
    "print(okt.nouns(review2))"
   ]
  },
  {
   "cell_type": "code",
   "execution_count": 14,
   "metadata": {},
   "outputs": [
    {
     "name": "stdout",
     "output_type": "stream",
     "text": [
      "['이사', '냉장고', '빠른배송', '빠른배송 하나보고', '빠른배송 하나보고 구매', '콕 찍힌곳', '한군데', '애가', '이런건 흠', '냉동실', '냉장실문', '냉장실문 서랍깊이', '아이스', '자꾸', '아이', '작은문도', '작은문도 냉장고', '작은문도 냉장고큰문', '경우', '배송', '하나', '보고', '구매', '냉동', '냉장', '실문', '서랍', '깊이', '문도']\n"
     ]
    }
   ],
   "source": [
    "print(okt.phrases(review1))"
   ]
  },
  {
   "cell_type": "code",
   "execution_count": 15,
   "metadata": {},
   "outputs": [
    {
     "name": "stdout",
     "output_type": "stream",
     "text": [
      "['주문', '3일', '10년']\n"
     ]
    }
   ],
   "source": [
    "print(okt.phrases(review2))"
   ]
  },
  {
   "cell_type": "code",
   "execution_count": 16,
   "metadata": {},
   "outputs": [
    {
     "ename": "SyntaxError",
     "evalue": "unexpected EOF while parsing (<ipython-input-16-2158d2163134>, line 2)",
     "output_type": "error",
     "traceback": [
      "\u001b[1;36m  File \u001b[1;32m\"<ipython-input-16-2158d2163134>\"\u001b[1;36m, line \u001b[1;32m2\u001b[0m\n\u001b[1;33m    print(okt.pos(review1, join=True)\u001b[0m\n\u001b[1;37m                                     ^\u001b[0m\n\u001b[1;31mSyntaxError\u001b[0m\u001b[1;31m:\u001b[0m unexpected EOF while parsing\n"
     ]
    }
   ],
   "source": [
    "print(okt.pos(review1))\n",
    "print(okt.pos(review1, join=True)"
   ]
  },
  {
   "cell_type": "code",
   "execution_count": 18,
   "metadata": {},
   "outputs": [
    {
     "ename": "NameError",
     "evalue": "name 'Kkma' is not defined",
     "output_type": "error",
     "traceback": [
      "\u001b[1;31m---------------------------------------------------------------------------\u001b[0m",
      "\u001b[1;31mNameError\u001b[0m                                 Traceback (most recent call last)",
      "\u001b[1;32m<ipython-input-18-cc71610f1ef4>\u001b[0m in \u001b[0;36m<module>\u001b[1;34m\u001b[0m\n\u001b[1;32m----> 1\u001b[1;33m \u001b[0mprint\u001b[0m\u001b[1;33m(\u001b[0m\u001b[0mKkma\u001b[0m\u001b[1;33m.\u001b[0m\u001b[0mpos\u001b[0m\u001b[1;33m(\u001b[0m\u001b[0mreview1\u001b[0m\u001b[1;33m)\u001b[0m\u001b[1;33m)\u001b[0m\u001b[1;33m\u001b[0m\u001b[1;33m\u001b[0m\u001b[0m\n\u001b[0m",
      "\u001b[1;31mNameError\u001b[0m: name 'Kkma' is not defined"
     ]
    }
   ],
   "source": [
    "print(Kkma.pos(review1))"
   ]
  },
  {
   "cell_type": "code",
   "execution_count": 19,
   "metadata": {},
   "outputs": [],
   "source": [
    "import konlpy\n",
    "from konlpy.tag import Okt\n",
    "okt = Okt()"
   ]
  },
  {
   "cell_type": "code",
   "execution_count": 20,
   "metadata": {},
   "outputs": [
    {
     "name": "stdout",
     "output_type": "stream",
     "text": [
      "[('이사', 'Noun'), ('하는데', 'Verb'), ('냉장고', 'Noun'), ('가', 'Josa'), ('없어서', 'Adjective'), ('빠른', 'Adjective'), ('배송', 'Noun'), ('하나', 'Noun'), ('보고', 'Noun'), ('구매', 'Noun'), ('했네요', 'Verb'), ('...', 'Punctuation'), ('콕', 'Noun'), ('찍힌', 'Verb'), ('곳', 'Noun'), ('이', 'Josa'), ('한', 'Determiner'), ('군데', 'Noun'), ('보이긴', 'Verb'), ('하는데', 'Verb'), ('...', 'Punctuation'), ('애가', 'Noun'), ('아직', 'Adverb'), ('어리니', 'Verb'), ('이런건', 'Adjective'), ('흠', 'Noun'), ('으로도', 'Josa'), ('안', 'VerbPrefix'), ('보이네요', 'Verb'), ('...', 'Punctuation'), ('근데', 'Adverb'), ('냉동', 'Noun'), ('실', 'Noun'), ('이나', 'Josa'), ('냉장', 'Noun'), ('실문', 'Noun'), ('서랍', 'Noun'), ('깊이', 'Noun'), ('가', 'Josa'), ('낮아서', 'Adjective'), ('아이스', 'Noun'), ('큼도', 'Verb'), ('자꾸', 'Noun'), ('떨어지고', 'Verb'), ('긴건', 'Verb'), ('놓을수가', 'Verb'), ('없어', 'Adjective'), ('불편하네요', 'Adjective'), ('.', 'Punctuation'), ('아이', 'Noun'), ('가', 'Josa'), ('작은', 'Adjective'), ('문도', 'Noun'), ('냉장고', 'Noun'), ('큰', 'Verb'), ('문', 'Noun'), ('을', 'Josa'), ('닫는것처럼', 'Verb'), ('닫으니', 'Verb'), ('열려있는', 'Verb'), ('경우', 'Noun'), ('도', 'Josa'), ('허다하네요', 'Verb'), ('...', 'Punctuation')]\n",
      "['이사/Noun', '하는데/Verb', '냉장고/Noun', '가/Josa', '없어서/Adjective', '빠른/Adjective', '배송/Noun', '하나/Noun', '보고/Noun', '구매/Noun', '했네요/Verb', '.../Punctuation', '콕/Noun', '찍힌/Verb', '곳/Noun', '이/Josa', '한/Determiner', '군데/Noun', '보이긴/Verb', '하는데/Verb', '.../Punctuation', '애가/Noun', '아직/Adverb', '어리니/Verb', '이런건/Adjective', '흠/Noun', '으로도/Josa', '안/VerbPrefix', '보이네요/Verb', '.../Punctuation', '근데/Adverb', '냉동/Noun', '실/Noun', '이나/Josa', '냉장/Noun', '실문/Noun', '서랍/Noun', '깊이/Noun', '가/Josa', '낮아서/Adjective', '아이스/Noun', '큼도/Verb', '자꾸/Noun', '떨어지고/Verb', '긴건/Verb', '놓을수가/Verb', '없어/Adjective', '불편하네요/Adjective', './Punctuation', '아이/Noun', '가/Josa', '작은/Adjective', '문도/Noun', '냉장고/Noun', '큰/Verb', '문/Noun', '을/Josa', '닫는것처럼/Verb', '닫으니/Verb', '열려있는/Verb', '경우/Noun', '도/Josa', '허다하네요/Verb', '.../Punctuation']\n"
     ]
    }
   ],
   "source": [
    "print(okt.pos(review1))\n",
    "print(okt.pos(review1, join=True))"
   ]
  },
  {
   "cell_type": "code",
   "execution_count": null,
   "metadata": {},
   "outputs": [],
   "source": []
  },
  {
   "cell_type": "code",
   "execution_count": null,
   "metadata": {},
   "outputs": [],
   "source": []
  },
  {
   "cell_type": "markdown",
   "metadata": {},
   "source": [
    "4. Kkma 형태소 분석기를 이용하여 형태소 단위로 나누시오."
   ]
  },
  {
   "cell_type": "markdown",
   "metadata": {},
   "source": [
    "5. 동일한 작업을 Okt 형태소 분석기를 이용하여 형태소 단위로 나누시오"
   ]
  },
  {
   "cell_type": "markdown",
   "metadata": {},
   "source": [
    "6. Okt 형태소 분석기를 이용하여 형태소 단위로 나눈 후 어간을 추출하시오."
   ]
  },
  {
   "cell_type": "markdown",
   "metadata": {},
   "source": [
    "7. Kkma 형태소 분석기를 이용하여 명사를 추출하시오."
   ]
  },
  {
   "cell_type": "markdown",
   "metadata": {},
   "source": [
    "8. okt 형태소 분석기를 이용하여 명사를 추출하시오."
   ]
  },
  {
   "cell_type": "markdown",
   "metadata": {},
   "source": [
    "9. Kkma를 이용하여 품사 태깅을 하시오."
   ]
  },
  {
   "cell_type": "markdown",
   "metadata": {},
   "source": [
    "10. okt를 이용하여 품사 태깅을 하시오."
   ]
  }
 ],
 "metadata": {
  "kernelspec": {
   "display_name": "Python 3",
   "language": "python",
   "name": "python3"
  },
  "language_info": {
   "codemirror_mode": {
    "name": "ipython",
    "version": 3
   },
   "file_extension": ".py",
   "mimetype": "text/x-python",
   "name": "python",
   "nbconvert_exporter": "python",
   "pygments_lexer": "ipython3",
   "version": "3.7.4"
  }
 },
 "nbformat": 4,
 "nbformat_minor": 4
}
