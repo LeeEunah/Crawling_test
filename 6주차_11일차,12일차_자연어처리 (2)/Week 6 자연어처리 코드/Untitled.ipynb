{
 "cells": [
  {
   "cell_type": "code",
   "execution_count": 1,
   "metadata": {},
   "outputs": [
    {
     "data": {
      "text/plain": [
       "0    [['화가난다. ㅜㅜ 스벅도 테익아웃만 되는뎅 ㅜㅜㅜ'], ['다행히 저희 지역은 ...\n",
       "1    [['둘째 육휴끝나고 복직 10개월차입니다 혼자다할수없고   \\n베이비시터 이모가 ...\n",
       "2                                 [['오늘하루도 힘내세요 ㅠㅠ!']]\n",
       "3    [['일쉬면 더 앙도와주는거같아요 포기하구 살아여저는...'], ['집안일 육아 모...\n",
       "4    [['각방쓰고 그냥 내려놨어요 ㅎ결혼10년차입니다'], ['2222'], ['저도요...\n",
       "5    [['오전에 기분 좋다가 막판에 온통 파랗게 끝났네요. 저도 마음이 겨울이네요 ㅠ'...\n",
       "6    [['저는..완벽이랑 거리가 엄청 멀어요..놓았다잡았다. 잘하는건지.굴러가는데로.....\n",
       "7    [['혼자서 키울 자신 있으세요?\\n정말 힘듭니다.\\n남편분과 많은 대화하시고..\\...\n",
       "8    [['그럼 이야기 나눠보세요 서운하다구.. 커뮤니케이션이 진짜 중요해용 ㅎ'], [...\n",
       "9    [['남편꺼 빼고 해줘보세요 빨래부터 시작해보시길…'], ['애들이...커서.......\n",
       "Name: comment, dtype: object"
      ]
     },
     "execution_count": 1,
     "metadata": {},
     "output_type": "execute_result"
    }
   ],
   "source": [
    "import pandas as pd\n",
    "import matplotlib.pyplot as plt\n",
    "import seaborn as sns\n",
    "import os\n",
    "\n",
    "os.chdir(r'C:\\Users\\Administrator\\Downloads\\과제\\2주차 3일차 4일차 원본 (2)')\n",
    "review_df=pd.read_csv(\"cafe_view_data.csv\")\n",
    "review_df['comment']"
   ]
  },
  {
   "cell_type": "code",
   "execution_count": 2,
   "metadata": {},
   "outputs": [],
   "source": [
    "import re\n",
    "\n",
    "p=re.compile(\"[^가-힣ㄱ-ㅎㅏ-ㅣA-Za-z0-9_.,!?]+\")\n",
    "\n",
    "review_df['comment']=review_df['comment'].apply(lambda x: p.sub(\" \",x))"
   ]
  },
  {
   "cell_type": "code",
   "execution_count": 3,
   "metadata": {},
   "outputs": [
    {
     "data": {
      "text/plain": [
       "0     화가난다. ㅜㅜ 스벅도 테익아웃만 되는뎅 ㅜㅜㅜ , 다행히 저희 지역은 2.5단계...\n",
       "1     둘째 육휴끝나고 복직 10개월차입니다 혼자다할수없고 n베이비시터 이모가 종일도와주...\n",
       "2                                      오늘하루도 힘내세요 ㅠㅠ! \n",
       "3     일쉬면 더 앙도와주는거같아요 포기하구 살아여저는... , 집안일 육아 모두 혼자하...\n",
       "4     각방쓰고 그냥 내려놨어요 ㅎ결혼10년차입니다 , 2222 , 저도요 ㅠㅠ , 저도...\n",
       "5     오전에 기분 좋다가 막판에 온통 파랗게 끝났네요. 저도 마음이 겨울이네요 ㅠ , ...\n",
       "6     저는..완벽이랑 거리가 엄청 멀어요..놓았다잡았다. 잘하는건지.굴러가는데로..ㅡ....\n",
       "7     혼자서 키울 자신 있으세요? n정말 힘듭니다. n남편분과 많은 대화하시고.. n시...\n",
       "8     그럼 이야기 나눠보세요 서운하다구.. 커뮤니케이션이 진짜 중요해용 ㅎ , 부부관계...\n",
       "9     남편꺼 빼고 해줘보세요 빨래부터 시작해보시길 , 애들이...커서....누치가 빠삭...\n",
       "Name: comment, dtype: object"
      ]
     },
     "execution_count": 3,
     "metadata": {},
     "output_type": "execute_result"
    }
   ],
   "source": [
    "review_df['comment']"
   ]
  },
  {
   "cell_type": "code",
   "execution_count": null,
   "metadata": {},
   "outputs": [
    {
     "name": "stderr",
     "output_type": "stream",
     "text": [
      "[Korean Sentence Splitter]: Initializing Pynori...\n"
     ]
    }
   ],
   "source": [
    "import kss\n",
    "\n",
    "review_df['comment_n']=review_df['comment'].apply(lambda x: kss.split_sentences(x,num_workers=1))"
   ]
  },
  {
   "cell_type": "code",
   "execution_count": null,
   "metadata": {},
   "outputs": [],
   "source": []
  }
 ],
 "metadata": {
  "kernelspec": {
   "display_name": "Python 3",
   "language": "python",
   "name": "python3"
  },
  "language_info": {
   "codemirror_mode": {
    "name": "ipython",
    "version": 3
   },
   "file_extension": ".py",
   "mimetype": "text/x-python",
   "name": "python",
   "nbconvert_exporter": "python",
   "pygments_lexer": "ipython3",
   "version": "3.7.4"
  }
 },
 "nbformat": 4,
 "nbformat_minor": 2
}
