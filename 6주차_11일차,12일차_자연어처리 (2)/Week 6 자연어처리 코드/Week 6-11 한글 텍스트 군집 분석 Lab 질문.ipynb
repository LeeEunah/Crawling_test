{
 "cells": [
  {
   "cell_type": "markdown",
   "metadata": {},
   "source": [
    "# Week 6-11 한글 텍스트 군집 분석 Lab"
   ]
  },
  {
   "cell_type": "markdown",
   "metadata": {},
   "source": [
    "1. smartthings_review_result.csv 파일을 열어서 review_df에 저장하시오."
   ]
  },
  {
   "cell_type": "markdown",
   "metadata": {},
   "source": [
    "2. comment_n 컬럼값을 리스트로 변환하고 다시 하나의 문자열로 만들어서 comment_n_str 컬럼을 추가하시오."
   ]
  },
  {
   "cell_type": "markdown",
   "metadata": {},
   "source": [
    "3. commnet_n_str 컬럼을 사용하여 TfidfVectorizer를 이용하여 DTM를 생성하시오(min_df=0.01, max_df=0.95로 하시오)."
   ]
  },
  {
   "cell_type": "markdown",
   "metadata": {},
   "source": [
    "4. K=10으로 해서 K-means 군집화 방법을 이용하여 군집을 생성하시오."
   ]
  },
  {
   "cell_type": "markdown",
   "metadata": {},
   "source": [
    "5. K=10으로 해서 K-means 군집화 방법을 이용하여 군집을 생성하시오.\n",
    "생성된 군집 레이블을 'cluster_label' 컬럼으로 review_df에 추가하시오."
   ]
  },
  {
   "cell_type": "markdown",
   "metadata": {},
   "source": [
    "6. 군집 0, 1, 9에 속한 레코드들을 출력하시오."
   ]
  },
  {
   "cell_type": "markdown",
   "metadata": {},
   "source": [
    "7. 각 군집별로 핵심 단어를 10개씩 추출하시오."
   ]
  },
  {
   "cell_type": "markdown",
   "metadata": {},
   "source": [
    "8. PCA를 이용해서 이차원으로 차원 축소를 하고 이 결과를 review_df에 'ftr1','ftr2' 컬럼으로 추가하시오."
   ]
  },
  {
   "cell_type": "markdown",
   "metadata": {},
   "source": [
    "9. 군집화 결과를 가시화하시오."
   ]
  },
  {
   "cell_type": "markdown",
   "metadata": {},
   "source": [
    "10. DBSCAN 방법을 이용해서 군집화를 수행하시오. 단 eps은 0.63, min_samples 는 5로 하시오."
   ]
  },
  {
   "cell_type": "markdown",
   "metadata": {},
   "source": [
    "11. 군집화 결과를 review_df의 'dbscan_cluster' 컬럼으로 추가하시오. 또 각 군집에 몇 개의 레코드들이 할당되었는지 확인하시오."
   ]
  },
  {
   "cell_type": "markdown",
   "metadata": {},
   "source": [
    "12. 군집화 결과를 가시화하시오."
   ]
  },
  {
   "cell_type": "markdown",
   "metadata": {},
   "source": [
    "13. 군집 7에 배정된 레코드들을 출력하시오."
   ]
  },
  {
   "cell_type": "markdown",
   "metadata": {},
   "source": [
    "14.  DBSCAN 방법을 이용해서 군집화를 수행하시오. 단 eps은 0.63, min_samples 는 10로 하시오. 군집의 갯수가 몇 개 생성되었는지, 각 군집에 몇 개의 레코드가 할당되었는지 확인하시오."
   ]
  }
 ],
 "metadata": {
  "kernelspec": {
   "display_name": "Python 3 (ipykernel)",
   "language": "python",
   "name": "python3"
  },
  "language_info": {
   "codemirror_mode": {
    "name": "ipython",
    "version": 3
   },
   "file_extension": ".py",
   "mimetype": "text/x-python",
   "name": "python",
   "nbconvert_exporter": "python",
   "pygments_lexer": "ipython3",
   "version": "3.8.5"
  }
 },
 "nbformat": 4,
 "nbformat_minor": 4
}
