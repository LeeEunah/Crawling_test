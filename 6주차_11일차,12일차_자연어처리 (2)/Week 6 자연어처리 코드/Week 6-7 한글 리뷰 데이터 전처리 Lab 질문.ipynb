{
 "cells": [
  {
   "cell_type": "markdown",
   "metadata": {},
   "source": [
    "# Week 6-7 한글 리뷰 데이터 전처리 Lab"
   ]
  },
  {
   "cell_type": "markdown",
   "metadata": {},
   "source": [
    "1. 삼성 smartthings에 대한 한글 리뷰 파일을 열어서 review_df에 저장하시오."
   ]
  },
  {
   "cell_type": "code",
   "execution_count": 1,
   "metadata": {},
   "outputs": [
    {
     "data": {
      "text/plain": [
       "0        SmartThings 사용을 환영합니다 사용을 계속하려면 개인정보동의 등 화면에서 ...\n",
       "1        그전엔 핸드폰과 티비(serif)와연결하면 바로 리모컨모드로 사용할 수 있었는데 업...\n",
       "2        AI power manager 회사 3구 스위치 사용중입니다. 1년전부터 사용중인데...\n",
       "3        갤럭시워치랑 스마트폰이 멀어져서 연결이 끊겼을때 워치에 분실알림 뜰수있는 기능 만들...\n",
       "4        삼성 모니터 m7과 탭뷰 연결할려고만 하면 앱이 중단됩니다. 재설치 해도 마찬가지고...\n",
       "                               ...                        \n",
       "14640                                                   최고\n",
       "14641                                                    굿\n",
       "14642                                                멋져요^^\n",
       "14643                                                 좋아요?\n",
       "14644                                                   .굿\n",
       "Name: comment, Length: 14645, dtype: object"
      ]
     },
     "execution_count": 1,
     "metadata": {},
     "output_type": "execute_result"
    }
   ],
   "source": [
    "import pandas as pd\n",
    "import matplotlib.pyplot as plt\n",
    "import seaborn as sns\n",
    "import os\n",
    "\n",
    "os.chdir(r'C:\\Users\\Administrator\\Downloads\\6주차_11일차,12일차_자연어처리\\Week6 자연어처리 Data')\n",
    "review_df=pd.read_csv(\"smartthings_review.csv\")\n",
    "review_df['comment']"
   ]
  },
  {
   "cell_type": "code",
   "execution_count": 8,
   "metadata": {},
   "outputs": [],
   "source": [
    "import re\n",
    "\n",
    "p=re.compile(\"[^가-힣ㄱ-ㅎㅏ-ㅣA-Za-z0-9_.,!?]+\")\n",
    "\n",
    "review_df['comment']=review_df['comment'].apply(lambda x: p.sub(\" \",x))"
   ]
  },
  {
   "cell_type": "code",
   "execution_count": 9,
   "metadata": {},
   "outputs": [
    {
     "data": {
      "text/plain": [
       "0        SmartThings 사용을 환영합니다 사용을 계속하려면 개인정보동의 등 화면에서 ...\n",
       "1        그전엔 핸드폰과 티비 serif 와연결하면 바로 리모컨모드로 사용할 수 있었는데 업...\n",
       "2        AI power manager 회사 3구 스위치 사용중입니다. 1년전부터 사용중인데...\n",
       "3        갤럭시워치랑 스마트폰이 멀어져서 연결이 끊겼을때 워치에 분실알림 뜰수있는 기능 만들...\n",
       "4        삼성 모니터 m7과 탭뷰 연결할려고만 하면 앱이 중단됩니다. 재설치 해도 마찬가지고...\n",
       "                               ...                        \n",
       "14640                                                   최고\n",
       "14641                                                    굿\n",
       "14642                                                 멋져요 \n",
       "14643                                                 좋아요?\n",
       "14644                                                   .굿\n",
       "Name: comment, Length: 14645, dtype: object"
      ]
     },
     "execution_count": 9,
     "metadata": {},
     "output_type": "execute_result"
    }
   ],
   "source": [
    "review_df['comment']"
   ]
  },
  {
   "cell_type": "markdown",
   "metadata": {},
   "source": [
    "2. 문장 단위로 토콘화하시오."
   ]
  },
  {
   "cell_type": "code",
   "execution_count": 10,
   "metadata": {},
   "outputs": [],
   "source": [
    "import kss\n",
    "\n",
    "review_df['comment_n']=review_df['comment'].apply(lambda x: kss.split_sentences(x,num_workers=1))"
   ]
  },
  {
   "cell_type": "code",
   "execution_count": 11,
   "metadata": {},
   "outputs": [
    {
     "data": {
      "text/plain": [
       "0        [SmartThings 사용을 환영합니다, 사용을 계속하려면 개인정보동의 등 화면에...\n",
       "1        [그전엔 핸드폰과 티비 serif 와연결하면 바로 리모컨모드로 사용할 수 있었는데 ...\n",
       "2        [AI power manager 회사 3구 스위치 사용중입니다., 1년전부터 사용중...\n",
       "3        [갤럭시워치랑 스마트폰이 멀어져서 연결이 끊겼을때 워치에 분실알림, 뜰수있는 기능 ...\n",
       "4        [삼성 모니터 m7과 탭뷰 연결할려고만 하면 앱이 중단됩니다., 재설치 해도 마찬가...\n",
       "                               ...                        \n",
       "14640                                                 [최고]\n",
       "14641                                                  [굿]\n",
       "14642                                                [멋져요]\n",
       "14643                                               [좋아요?]\n",
       "14644                                                 [.굿]\n",
       "Name: comment_n, Length: 14645, dtype: object"
      ]
     },
     "execution_count": 11,
     "metadata": {},
     "output_type": "execute_result"
    }
   ],
   "source": [
    "review_df['comment_n']"
   ]
  },
  {
   "cell_type": "markdown",
   "metadata": {},
   "source": [
    "3. 숫자, 문장부호, 특수문자를 제거하시오."
   ]
  },
  {
   "cell_type": "code",
   "execution_count": 12,
   "metadata": {},
   "outputs": [],
   "source": [
    "import re\n",
    "\n",
    "def remove_num(sent_list):\n",
    "    p=re.compile(\"[0-9]+\")\n",
    "    sent_n_remove=[]\n",
    "    for sentence in sent_list:\n",
    "        sent_n_remove.append(p.sub(\" \", sentence))\n",
    "    return(sent_n_remove)\n",
    "\n",
    "review_df['comment_n']=review_df['comment_n'].apply(lambda x: remove_num(x))"
   ]
  },
  {
   "cell_type": "code",
   "execution_count": 13,
   "metadata": {},
   "outputs": [
    {
     "data": {
      "text/plain": [
       "0        [SmartThings 사용을 환영합니다, 사용을 계속하려면 개인정보동의 등 화면에...\n",
       "1        [그전엔 핸드폰과 티비 serif 와연결하면 바로 리모컨모드로 사용할 수 있었는데 ...\n",
       "2        [AI power manager 회사  구 스위치 사용중입니다.,  년전부터 사용중...\n",
       "3        [갤럭시워치랑 스마트폰이 멀어져서 연결이 끊겼을때 워치에 분실알림, 뜰수있는 기능 ...\n",
       "4        [삼성 모니터 m 과 탭뷰 연결할려고만 하면 앱이 중단됩니다., 재설치 해도 마찬가...\n",
       "                               ...                        \n",
       "14640                                                 [최고]\n",
       "14641                                                  [굿]\n",
       "14642                                                [멋져요]\n",
       "14643                                               [좋아요?]\n",
       "14644                                                 [.굿]\n",
       "Name: comment_n, Length: 14645, dtype: object"
      ]
     },
     "execution_count": 13,
     "metadata": {},
     "output_type": "execute_result"
    }
   ],
   "source": [
    "review_df['comment_n']"
   ]
  },
  {
   "cell_type": "code",
   "execution_count": 14,
   "metadata": {},
   "outputs": [],
   "source": [
    "def remove_punc(sent_list):\n",
    "    p=re.compile(\"\\W+\")\n",
    "    sent_n_remove=[]\n",
    "    for sentence in sent_list:\n",
    "        sent_n_remove.append(p.sub(\" \", sentence))\n",
    "    return(sent_n_remove)\n",
    "\n",
    "review_df['comment_n']=review_df['comment_n'].apply(lambda x: remove_punc(x))"
   ]
  },
  {
   "cell_type": "code",
   "execution_count": 15,
   "metadata": {},
   "outputs": [
    {
     "data": {
      "text/plain": [
       "0        [SmartThings 사용을 환영합니다, 사용을 계속하려면 개인정보동의 등 화면에...\n",
       "1        [그전엔 핸드폰과 티비 serif 와연결하면 바로 리모컨모드로 사용할 수 있었는데 ...\n",
       "2        [AI power manager 회사 구 스위치 사용중입니다 ,  년전부터 사용중인...\n",
       "3        [갤럭시워치랑 스마트폰이 멀어져서 연결이 끊겼을때 워치에 분실알림, 뜰수있는 기능 ...\n",
       "4        [삼성 모니터 m 과 탭뷰 연결할려고만 하면 앱이 중단됩니다 , 재설치 해도 마찬가...\n",
       "                               ...                        \n",
       "14640                                                 [최고]\n",
       "14641                                                  [굿]\n",
       "14642                                                [멋져요]\n",
       "14643                                               [좋아요 ]\n",
       "14644                                                 [ 굿]\n",
       "Name: comment_n, Length: 14645, dtype: object"
      ]
     },
     "execution_count": 15,
     "metadata": {},
     "output_type": "execute_result"
    }
   ],
   "source": [
    "review_df['comment_n']"
   ]
  },
  {
   "cell_type": "markdown",
   "metadata": {},
   "source": [
    "4. (생략) 맞춤법 교정이 된 문장들로 대체하시오."
   ]
  },
  {
   "cell_type": "code",
   "execution_count": null,
   "metadata": {},
   "outputs": [],
   "source": []
  },
  {
   "cell_type": "markdown",
   "metadata": {},
   "source": [
    "5. 명사, 동사, 형용사, 부사, 영어단어들을 추출하시오."
   ]
  },
  {
   "cell_type": "code",
   "execution_count": 16,
   "metadata": {},
   "outputs": [],
   "source": [
    "from konlpy.tag import Okt  \n",
    "okt=Okt() \n",
    "def n_a_v_selection(sent_list): \n",
    "    sent_tokens=[]\n",
    "    for sentence in sent_list:\n",
    "        pos_result=okt.pos(sentence, stem=True)\n",
    "        filtered_result=[pair[0] for pair in pos_result if (pair[1]=='Alpha')or(pair[1]=='Noun')or(pair[1]=='Verb')or(pair[1]=='Adjective') or(pair[1]=='Adverb')]\n",
    "        sent_tokens.append(filtered_result)\n",
    "    return sent_tokens"
   ]
  },
  {
   "cell_type": "code",
   "execution_count": 17,
   "metadata": {},
   "outputs": [],
   "source": [
    "review_df['comment_n']=review_df['comment_n'].apply(lambda x: n_a_v_selection(x))"
   ]
  },
  {
   "cell_type": "code",
   "execution_count": 18,
   "metadata": {},
   "outputs": [
    {
     "data": {
      "text/plain": [
       "0        [[SmartThings, 사용, 환영, 하다], [사용, 계속, 하다, 개인정보,...\n",
       "1        [[전, 핸드폰, 티비, serif, 오다, 연결하다, 바로, 리모컨, 모드, 사용...\n",
       "2        [[AI, power, manager, 회사, 구, 스위치, 사용, 이다], [년전...\n",
       "3        [[갤럭시, 워치, 스마트폰, 멀어지다, 연결, 끊기다, 때, 워치, 분실, 알림]...\n",
       "4        [[삼성, 모니터, m, 과, 탭뷰, 연결하다, 하다, 앱, 중단, 되다], [재,...\n",
       "                               ...                        \n",
       "14640                                               [[최고]]\n",
       "14641                                                [[굿]]\n",
       "14642                                              [[멋지다]]\n",
       "14643                                               [[좋다]]\n",
       "14644                                                [[굿]]\n",
       "Name: comment_n, Length: 14645, dtype: object"
      ]
     },
     "execution_count": 18,
     "metadata": {},
     "output_type": "execute_result"
    }
   ],
   "source": [
    "review_df['comment_n']"
   ]
  },
  {
   "cell_type": "markdown",
   "metadata": {},
   "source": [
    "6. 불용어 처리를 하시오."
   ]
  },
  {
   "cell_type": "code",
   "execution_count": null,
   "metadata": {},
   "outputs": [],
   "source": [
    "import json\n",
    "\n",
    "with open('korean_stopword.json',encoding='utf8') as f:\n",
    "    stopwords = json.load(f)\n",
    "\n",
    "stopwords.extend(['안','수','거','왜','것','후','에서','고','이다','는','한','안녕','형','형님','건','안','요','거','피','질','번','용','군','영','스','좀','데','듯','넉','테','런','하다','하나요','되다','안되다','있다','없다'])"
   ]
  },
  {
   "cell_type": "code",
   "execution_count": 20,
   "metadata": {},
   "outputs": [],
   "source": [
    "def rem_n_stopwords(sent_list):\n",
    "    sent_stop=[]\n",
    "    for sentence in sent_list:\n",
    "        new_sent=[]\n",
    "        for token in sentence:\n",
    "            if token not in stopwords:\n",
    "                new_sent.append(token)\n",
    "        sent_stop.append(new_sent)\n",
    "    return(sent_stop)\n",
    "\n",
    "review_df['comment_n']=review_df['comment_n'].apply(lambda x: rem_n_stopwords(x))"
   ]
  },
  {
   "cell_type": "code",
   "execution_count": 21,
   "metadata": {},
   "outputs": [
    {
     "data": {
      "text/plain": [
       "0        [[SmartThings, 사용, 환영], [사용, 계속, 개인정보, 동의, 화면,...\n",
       "1        [[전, 핸드폰, 티비, serif, 오다, 연결하다, 리모컨, 모드, 사용, 업데...\n",
       "2        [[AI, power, manager, 회사, 스위치, 사용], [년전, 사용, 약...\n",
       "3        [[갤럭시, 워치, 스마트폰, 멀어지다, 연결, 끊기다, 워치, 분실, 알림], [...\n",
       "4        [[삼성, 모니터, m, 탭뷰, 연결하다, 앱, 중단], [재, 설치, 해도, 마찬...\n",
       "                               ...                        \n",
       "14640                                               [[최고]]\n",
       "14641                                                [[굿]]\n",
       "14642                                              [[멋지다]]\n",
       "14643                                               [[좋다]]\n",
       "14644                                                [[굿]]\n",
       "Name: comment_n, Length: 14645, dtype: object"
      ]
     },
     "execution_count": 21,
     "metadata": {},
     "output_type": "execute_result"
    }
   ],
   "source": [
    "review_df['comment_n']"
   ]
  },
  {
   "cell_type": "markdown",
   "metadata": {},
   "source": [
    "7. 빈 리스트가 된 문장들을 제거하시오. 전처리된 파일은 smartthings_review_result.csv에 저장하시오."
   ]
  },
  {
   "cell_type": "code",
   "execution_count": 22,
   "metadata": {},
   "outputs": [],
   "source": [
    "def remove_empty_list(sent_list):\n",
    "    removed_list = []\n",
    "    for sentence in sent_list:\n",
    "        if sentence: # sentence가 빈 경우가 아니면\n",
    "            removed_list.append(sentence)    \n",
    "    return removed_list\n",
    "\n",
    "review_df['comment_n']=review_df['comment_n'].apply(lambda x: remove_empty_list(x))\n",
    "\n",
    "review_df.to_csv('smartthings_review_result.csv',index=False, encoding='utf-8-sig')"
   ]
  },
  {
   "cell_type": "code",
   "execution_count": 23,
   "metadata": {},
   "outputs": [
    {
     "data": {
      "text/plain": [
       "0        [[SmartThings, 사용, 환영], [사용, 계속, 개인정보, 동의, 화면,...\n",
       "1        [[전, 핸드폰, 티비, serif, 오다, 연결하다, 리모컨, 모드, 사용, 업데...\n",
       "2        [[AI, power, manager, 회사, 스위치, 사용], [년전, 사용, 약...\n",
       "3        [[갤럭시, 워치, 스마트폰, 멀어지다, 연결, 끊기다, 워치, 분실, 알림], [...\n",
       "4        [[삼성, 모니터, m, 탭뷰, 연결하다, 앱, 중단], [재, 설치, 해도, 마찬...\n",
       "                               ...                        \n",
       "14640                                               [[최고]]\n",
       "14641                                                [[굿]]\n",
       "14642                                              [[멋지다]]\n",
       "14643                                               [[좋다]]\n",
       "14644                                                [[굿]]\n",
       "Name: comment_n, Length: 14645, dtype: object"
      ]
     },
     "execution_count": 23,
     "metadata": {},
     "output_type": "execute_result"
    }
   ],
   "source": [
    "review_df['comment_n']"
   ]
  },
  {
   "cell_type": "code",
   "execution_count": 24,
   "metadata": {},
   "outputs": [],
   "source": [
    "def one_word_list(sent_list):\n",
    "    one_list=[]\n",
    "    for sentence in sent_list:\n",
    "        one_list.extend(sentence)\n",
    "    return(one_list)\n",
    "\n",
    "review_df['comment_n']=review_df['comment_n'].apply(lambda x: one_word_list(x))"
   ]
  },
  {
   "cell_type": "code",
   "execution_count": 25,
   "metadata": {},
   "outputs": [
    {
     "data": {
      "text/plain": [
       "0        [SmartThings, 사용, 환영, 사용, 계속, 개인정보, 동의, 화면, 동의...\n",
       "1        [전, 핸드폰, 티비, serif, 오다, 연결하다, 리모컨, 모드, 사용, 업데이...\n",
       "2        [AI, power, manager, 회사, 스위치, 사용, 년전, 사용, 약, 달...\n",
       "3        [갤럭시, 워치, 스마트폰, 멀어지다, 연결, 끊기다, 워치, 분실, 알림, 뜨다,...\n",
       "4        [삼성, 모니터, m, 탭뷰, 연결하다, 앱, 중단, 재, 설치, 해도, 마찬가지,...\n",
       "                               ...                        \n",
       "14640                                                 [최고]\n",
       "14641                                                  [굿]\n",
       "14642                                                [멋지다]\n",
       "14643                                                 [좋다]\n",
       "14644                                                  [굿]\n",
       "Name: comment_n, Length: 14645, dtype: object"
      ]
     },
     "execution_count": 25,
     "metadata": {},
     "output_type": "execute_result"
    }
   ],
   "source": [
    "review_df['comment_n']"
   ]
  },
  {
   "cell_type": "markdown",
   "metadata": {},
   "source": [
    "8. Top-15 단어 빈도 그래프를 그리시오."
   ]
  },
  {
   "cell_type": "code",
   "execution_count": 26,
   "metadata": {},
   "outputs": [
    {
     "data": {
      "text/plain": [
       "좋다      5258\n",
       "사용      1986\n",
       "편하다     1898\n",
       "연결      1518\n",
       "편리하다    1479\n",
       "삼성      1205\n",
       "앱       1189\n",
       "너무      1106\n",
       "굿       1019\n",
       "에어컨     1007\n",
       "자다       949\n",
       "쓰다       771\n",
       "기능       765\n",
       "스마트      756\n",
       "어플       736\n",
       "dtype: int64"
      ]
     },
     "execution_count": 26,
     "metadata": {},
     "output_type": "execute_result"
    }
   ],
   "source": [
    "total_word=[]\n",
    "for i in range(len(review_df)):\n",
    "    total_word.extend(review_df.loc[i,'comment_n'])\n",
    "\n",
    "pd.Series(total_word).value_counts().head(15)"
   ]
  },
  {
   "cell_type": "code",
   "execution_count": 27,
   "metadata": {},
   "outputs": [
    {
     "data": {
      "text/plain": [
       "<matplotlib.axes._subplots.AxesSubplot at 0x261fdd72b88>"
      ]
     },
     "execution_count": 27,
     "metadata": {},
     "output_type": "execute_result"
    },
    {
     "data": {
      "image/png": "[encoded data removed]",
      "text/plain": [
       "<Figure size 432x288 with 1 Axes>"
      ]
     },
     "metadata": {
      "needs_background": "light"
     },
     "output_type": "display_data"
    }
   ],
   "source": [
    "from matplotlib import font_manager, rc\n",
    "\n",
    "font_name = font_manager.FontProperties(fname=\"c:/Windows/Fonts/malgun.ttf\").get_name()\n",
    "rc('font', family=font_name)\n",
    "\n",
    "pd.Series(total_word).value_counts().head(15).plot(kind='bar')"
   ]
  },
  {
   "cell_type": "code",
   "execution_count": 28,
   "metadata": {},
   "outputs": [
    {
     "data": {
      "text/plain": [
       "<matplotlib.axes._subplots.AxesSubplot at 0x261fdb77488>"
      ]
     },
     "execution_count": 28,
     "metadata": {},
     "output_type": "execute_result"
    },
    {
     "data": {
      "image/png": "[encoded data removed]",
      "text/plain": [
       "<Figure size 432x288 with 1 Axes>"
      ]
     },
     "metadata": {
      "needs_background": "light"
     },
     "output_type": "display_data"
    }
   ],
   "source": [
    "pd.Series(total_word).value_counts().head(15).plot(kind='barh')"
   ]
  },
  {
   "cell_type": "code",
   "execution_count": 29,
   "metadata": {},
   "outputs": [
    {
     "data": {
      "image/png": "[encoded data removed]",
      "text/plain": [
       "<Figure size 432x288 with 1 Axes>"
      ]
     },
     "metadata": {
      "needs_background": "light"
     },
     "output_type": "display_data"
    }
   ],
   "source": [
    "pd.Series(total_word).value_counts().head(15).plot(kind='barh').invert_yaxis()"
   ]
  },
  {
   "cell_type": "code",
   "execution_count": null,
   "metadata": {},
   "outputs": [],
   "source": []
  }
 ],
 "metadata": {
  "kernelspec": {
   "display_name": "Python 3",
   "language": "python",
   "name": "python3"
  },
  "language_info": {
   "codemirror_mode": {
    "name": "ipython",
    "version": 3
   },
   "file_extension": ".py",
   "mimetype": "text/x-python",
   "name": "python",
   "nbconvert_exporter": "python",
   "pygments_lexer": "ipython3",
   "version": "3.7.4"
  }
 },
 "nbformat": 4,
 "nbformat_minor": 4
}
