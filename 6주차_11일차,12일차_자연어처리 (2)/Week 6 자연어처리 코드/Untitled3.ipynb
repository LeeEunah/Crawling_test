{
 "cells": [
  {
   "cell_type": "code",
   "execution_count": 1,
   "metadata": {},
   "outputs": [
    {
     "name": "stderr",
     "output_type": "stream",
     "text": [
      "C:\\Users\\Administrator\\AppData\\Local\\Continuum\\anaconda3\\lib\\site-packages\\statsmodels\\tools\\_testing.py:19: FutureWarning: pandas.util.testing is deprecated. Use the functions in the public API at pandas.testing instead.\n",
      "  import pandas.util.testing as tm\n"
     ]
    },
    {
     "data": {
      "text/plain": [
       "0       [['니주제에 어떻게 그런여자구하냐해주세요^^'], ['아예 파출부 구해라고 했어요...\n",
       "1       [['상담해보셔야 할것 같아요\\n남편분의 속마음을 도통 알수가 없으니 상처만 쌓일것...\n",
       "2       [['공부시작한지 한달째 어린이집 보낸시간 넉넉히 10-4시  저녁에 8-12 이정...\n",
       "3                                        [['리뷰하고갑니다 ^^']]\n",
       "4       [['글만 봐도 행복한 기운이 전해지네요 :) 부러워요☺️ 오늘 하루 화이팅하세요!...\n",
       "                              ...                        \n",
       "4186                                                   []\n",
       "4187    [['저희 남편도 일주일에 6일 일하고 하루 쉬어요 13시간 이상 근무하고 정시 출...\n",
       "4188    [['혹시 누구셨는지 알수있을까요? 음식도잘하시는분이신것같아서요~~^^;'], ['...\n",
       "4189    [['하아..그런 문제는 아니지만 확실히 어느 한 쪽이라도 여유가 없으시니 사장님이...\n",
       "4190                                                   []\n",
       "Name: comment, Length: 4191, dtype: object"
      ]
     },
     "execution_count": 1,
     "metadata": {},
     "output_type": "execute_result"
    }
   ],
   "source": [
    "import pandas as pd\n",
    "import matplotlib.pyplot as plt\n",
    "import seaborn as sns\n",
    "import os\n",
    "\n",
    "os.chdir(r'C:\\Users\\Administrator\\Downloads')\n",
    "review_df=pd.read_csv(\"cafe_view_data.csv\")\n",
    "review_df['comment']"
   ]
  },
  {
   "cell_type": "code",
   "execution_count": 2,
   "metadata": {},
   "outputs": [],
   "source": [
    "import re\n",
    "\n",
    "p=re.compile(\"[^가-힣ㄱ-ㅎㅏ-ㅣA-Za-z0-9_.,!?]+\")\n",
    "\n",
    "review_df['comment']=review_df['comment'].apply(lambda x: p.sub(\" \",x))"
   ]
  },
  {
   "cell_type": "code",
   "execution_count": null,
   "metadata": {},
   "outputs": [
    {
     "name": "stderr",
     "output_type": "stream",
     "text": [
      "[Korean Sentence Splitter]: Initializing Pynori...\n"
     ]
    }
   ],
   "source": [
    "import kss\n",
    "\n",
    "review_df['comment_n']=review_df['comment'].apply(lambda x: kss.split_sentences(x,num_workers=1))"
   ]
  },
  {
   "cell_type": "code",
   "execution_count": null,
   "metadata": {},
   "outputs": [],
   "source": []
  }
 ],
 "metadata": {
  "kernelspec": {
   "display_name": "Python 3",
   "language": "python",
   "name": "python3"
  },
  "language_info": {
   "codemirror_mode": {
    "name": "ipython",
    "version": 3
   },
   "file_extension": ".py",
   "mimetype": "text/x-python",
   "name": "python",
   "nbconvert_exporter": "python",
   "pygments_lexer": "ipython3",
   "version": "3.7.4"
  }
 },
 "nbformat": 4,
 "nbformat_minor": 2
}
