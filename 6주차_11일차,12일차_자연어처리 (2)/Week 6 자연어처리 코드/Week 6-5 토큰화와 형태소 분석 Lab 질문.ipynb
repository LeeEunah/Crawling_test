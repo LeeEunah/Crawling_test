{
 "cells": [
  {
   "cell_type": "markdown",
   "metadata": {},
   "source": [
    "# Week 6-5 토큰화와 형태소 분석 Lab"
   ]
  },
  {
   "cell_type": "markdown",
   "metadata": {},
   "source": [
    "다음은 BusinessKorea에 2021년 9월23일 LG전자에 대한 기사이다. 이 기사를 사용하여 다음을 수행하시오."
   ]
  },
  {
   "cell_type": "code",
   "execution_count": 1,
   "metadata": {},
   "outputs": [],
   "source": [
    "article=\"\"\"LG Electronics announced on Sept. 22 that it has won a total of ten awards including one Gold at the International Design Excellence Awards (IDEA) 2021.\n",
    "The IDEA is one of the world's top three prestigious design awards along with the Red Dot Design Awards and the iF Design Awards. Organized by the Industrial Designers Society of America (IDSA), the design award marks its 41st anniversary this year.\n",
    "The winner of the Gold award, which is the highest award, was StandbyMe, a plugless monitor that is attracting popularity in Korea despite its hefty price tag of 1.29 million won (US$1,130) and exclusive online offering. The innovative TV also won the main prize at the iF Design Awards 2021 and the Red Dot Design Awards 2021.\n",
    "Different from other TVs or displays, LG’s StandbyMe comes in a moving stand design. Its screen position can be adjusted according to viewing postures. The display supports the swivel position, which allows the viewer to adjust the left and right sides of the display to up to 65 degrees, a 25-degree tilt and a clockwise and counterclockwise 90-degree rotation. Its screen can be extended by up to 20 centimeters vertically.\n",
    "In addition, four products nabbed four Bronze awards. They were Gallery Stand, which makes LG OLED Evo's slim design stand out, LG Sound Bar Eclair that used curves, breaking away from bar-type design, LG Wash Tower, a one-body washer and drier which secured seamless design by minimizing lines and margins and LG Puricare 360° Air Purifier Alpha.\n",
    "Apart from them, five products were selected as finalists -- LG Styler, LG Code Zero A9S Object Collection, LG Puricare Dual Water Purifier, LG Instagram View ThinQ Oven, and LG Ultra Gear Gaming Speaker.\n",
    "\"\"\""
   ]
  },
  {
   "cell_type": "markdown",
   "metadata": {},
   "source": [
    "1. nltk 패키지의 word_tokenize를 이용하여 단어 토큰화를 수행하시오. 생성된 단어의 개수를 확인하시오."
   ]
  },
  {
   "cell_type": "code",
   "execution_count": 15,
   "metadata": {},
   "outputs": [
    {
     "name": "stdout",
     "output_type": "stream",
     "text": [
      "328\n"
     ]
    }
   ],
   "source": [
    "from nltk.tokenize import word_tokenize  \n",
    "print(len(word_tokenize(article)))"
   ]
  },
  {
   "cell_type": "markdown",
   "metadata": {},
   "source": [
    "2. nltk 패키지의 sent_tokenize() 함수를 이용하여 문장 토큰화를 수행하시오. 몇 문장이 생성되었는지 확인하시오."
   ]
  },
  {
   "cell_type": "code",
   "execution_count": 16,
   "metadata": {},
   "outputs": [
    {
     "name": "stdout",
     "output_type": "stream",
     "text": [
      "12\n"
     ]
    }
   ],
   "source": [
    "from nltk.tokenize import sent_tokenize\n",
    "\n",
    "print(len(sent_tokenize(article)))"
   ]
  },
  {
   "cell_type": "code",
   "execution_count": 23,
   "metadata": {},
   "outputs": [
    {
     "data": {
      "text/plain": [
       "[['LG',\n",
       "  'Electronics',\n",
       "  'announced',\n",
       "  'on',\n",
       "  'Sept.',\n",
       "  '22',\n",
       "  'that',\n",
       "  'it',\n",
       "  'has',\n",
       "  'won',\n",
       "  'a',\n",
       "  'total',\n",
       "  'of',\n",
       "  'ten',\n",
       "  'awards',\n",
       "  'including',\n",
       "  'one',\n",
       "  'Gold',\n",
       "  'at',\n",
       "  'the',\n",
       "  'International',\n",
       "  'Design',\n",
       "  'Excellence',\n",
       "  'Awards',\n",
       "  '(',\n",
       "  'IDEA',\n",
       "  ')',\n",
       "  '2021',\n",
       "  '.'],\n",
       " ['The',\n",
       "  'IDEA',\n",
       "  'is',\n",
       "  'one',\n",
       "  'of',\n",
       "  'the',\n",
       "  'world',\n",
       "  \"'s\",\n",
       "  'top',\n",
       "  'three',\n",
       "  'prestigious',\n",
       "  'design',\n",
       "  'awards',\n",
       "  'along',\n",
       "  'with',\n",
       "  'the',\n",
       "  'Red',\n",
       "  'Dot',\n",
       "  'Design',\n",
       "  'Awards',\n",
       "  'and',\n",
       "  'the',\n",
       "  'iF',\n",
       "  'Design',\n",
       "  'Awards',\n",
       "  '.'],\n",
       " ['Organized',\n",
       "  'by',\n",
       "  'the',\n",
       "  'Industrial',\n",
       "  'Designers',\n",
       "  'Society',\n",
       "  'of',\n",
       "  'America',\n",
       "  '(',\n",
       "  'IDSA',\n",
       "  ')',\n",
       "  ',',\n",
       "  'the',\n",
       "  'design',\n",
       "  'award',\n",
       "  'marks',\n",
       "  'its',\n",
       "  '41st',\n",
       "  'anniversary',\n",
       "  'this',\n",
       "  'year',\n",
       "  '.'],\n",
       " ['The',\n",
       "  'winner',\n",
       "  'of',\n",
       "  'the',\n",
       "  'Gold',\n",
       "  'award',\n",
       "  ',',\n",
       "  'which',\n",
       "  'is',\n",
       "  'the',\n",
       "  'highest',\n",
       "  'award',\n",
       "  ',',\n",
       "  'was',\n",
       "  'StandbyMe',\n",
       "  ',',\n",
       "  'a',\n",
       "  'plugless',\n",
       "  'monitor',\n",
       "  'that',\n",
       "  'is',\n",
       "  'attracting',\n",
       "  'popularity',\n",
       "  'in',\n",
       "  'Korea',\n",
       "  'despite',\n",
       "  'its',\n",
       "  'hefty',\n",
       "  'price',\n",
       "  'tag',\n",
       "  'of',\n",
       "  '1.29',\n",
       "  'million',\n",
       "  'won',\n",
       "  '(',\n",
       "  'US',\n",
       "  '$',\n",
       "  '1,130',\n",
       "  ')',\n",
       "  'and',\n",
       "  'exclusive',\n",
       "  'online',\n",
       "  'offering',\n",
       "  '.'],\n",
       " ['The',\n",
       "  'innovative',\n",
       "  'TV',\n",
       "  'also',\n",
       "  'won',\n",
       "  'the',\n",
       "  'main',\n",
       "  'prize',\n",
       "  'at',\n",
       "  'the',\n",
       "  'iF',\n",
       "  'Design',\n",
       "  'Awards',\n",
       "  '2021',\n",
       "  'and',\n",
       "  'the',\n",
       "  'Red',\n",
       "  'Dot',\n",
       "  'Design',\n",
       "  'Awards',\n",
       "  '2021',\n",
       "  '.'],\n",
       " ['Different',\n",
       "  'from',\n",
       "  'other',\n",
       "  'TVs',\n",
       "  'or',\n",
       "  'displays',\n",
       "  ',',\n",
       "  'LG',\n",
       "  '’',\n",
       "  's',\n",
       "  'StandbyMe',\n",
       "  'comes',\n",
       "  'in',\n",
       "  'a',\n",
       "  'moving',\n",
       "  'stand',\n",
       "  'design',\n",
       "  '.'],\n",
       " ['Its',\n",
       "  'screen',\n",
       "  'position',\n",
       "  'can',\n",
       "  'be',\n",
       "  'adjusted',\n",
       "  'according',\n",
       "  'to',\n",
       "  'viewing',\n",
       "  'postures',\n",
       "  '.'],\n",
       " ['The',\n",
       "  'display',\n",
       "  'supports',\n",
       "  'the',\n",
       "  'swivel',\n",
       "  'position',\n",
       "  ',',\n",
       "  'which',\n",
       "  'allows',\n",
       "  'the',\n",
       "  'viewer',\n",
       "  'to',\n",
       "  'adjust',\n",
       "  'the',\n",
       "  'left',\n",
       "  'and',\n",
       "  'right',\n",
       "  'sides',\n",
       "  'of',\n",
       "  'the',\n",
       "  'display',\n",
       "  'to',\n",
       "  'up',\n",
       "  'to',\n",
       "  '65',\n",
       "  'degrees',\n",
       "  ',',\n",
       "  'a',\n",
       "  '25-degree',\n",
       "  'tilt',\n",
       "  'and',\n",
       "  'a',\n",
       "  'clockwise',\n",
       "  'and',\n",
       "  'counterclockwise',\n",
       "  '90-degree',\n",
       "  'rotation',\n",
       "  '.'],\n",
       " ['Its',\n",
       "  'screen',\n",
       "  'can',\n",
       "  'be',\n",
       "  'extended',\n",
       "  'by',\n",
       "  'up',\n",
       "  'to',\n",
       "  '20',\n",
       "  'centimeters',\n",
       "  'vertically',\n",
       "  '.'],\n",
       " ['In',\n",
       "  'addition',\n",
       "  ',',\n",
       "  'four',\n",
       "  'products',\n",
       "  'nabbed',\n",
       "  'four',\n",
       "  'Bronze',\n",
       "  'awards',\n",
       "  '.'],\n",
       " ['They',\n",
       "  'were',\n",
       "  'Gallery',\n",
       "  'Stand',\n",
       "  ',',\n",
       "  'which',\n",
       "  'makes',\n",
       "  'LG',\n",
       "  'OLED',\n",
       "  'Evo',\n",
       "  \"'s\",\n",
       "  'slim',\n",
       "  'design',\n",
       "  'stand',\n",
       "  'out',\n",
       "  ',',\n",
       "  'LG',\n",
       "  'Sound',\n",
       "  'Bar',\n",
       "  'Eclair',\n",
       "  'that',\n",
       "  'used',\n",
       "  'curves',\n",
       "  ',',\n",
       "  'breaking',\n",
       "  'away',\n",
       "  'from',\n",
       "  'bar-type',\n",
       "  'design',\n",
       "  ',',\n",
       "  'LG',\n",
       "  'Wash',\n",
       "  'Tower',\n",
       "  ',',\n",
       "  'a',\n",
       "  'one-body',\n",
       "  'washer',\n",
       "  'and',\n",
       "  'drier',\n",
       "  'which',\n",
       "  'secured',\n",
       "  'seamless',\n",
       "  'design',\n",
       "  'by',\n",
       "  'minimizing',\n",
       "  'lines',\n",
       "  'and',\n",
       "  'margins',\n",
       "  'and',\n",
       "  'LG',\n",
       "  'Puricare',\n",
       "  '360°',\n",
       "  'Air',\n",
       "  'Purifier',\n",
       "  'Alpha',\n",
       "  '.'],\n",
       " ['Apart',\n",
       "  'from',\n",
       "  'them',\n",
       "  ',',\n",
       "  'five',\n",
       "  'products',\n",
       "  'were',\n",
       "  'selected',\n",
       "  'as',\n",
       "  'finalists',\n",
       "  '--',\n",
       "  'LG',\n",
       "  'Styler',\n",
       "  ',',\n",
       "  'LG',\n",
       "  'Code',\n",
       "  'Zero',\n",
       "  'A9S',\n",
       "  'Object',\n",
       "  'Collection',\n",
       "  ',',\n",
       "  'LG',\n",
       "  'Puricare',\n",
       "  'Dual',\n",
       "  'Water',\n",
       "  'Purifier',\n",
       "  ',',\n",
       "  'LG',\n",
       "  'Instagram',\n",
       "  'View',\n",
       "  'ThinQ',\n",
       "  'Oven',\n",
       "  ',',\n",
       "  'and',\n",
       "  'LG',\n",
       "  'Ultra',\n",
       "  'Gear',\n",
       "  'Gaming',\n",
       "  'Speaker',\n",
       "  '.']]"
      ]
     },
     "execution_count": 23,
     "metadata": {},
     "output_type": "execute_result"
    }
   ],
   "source": [
    "final=[word_tokenize(sent) for sent in sent_tokenize(article)]\n",
    "final"
   ]
  },
  {
   "cell_type": "markdown",
   "metadata": {},
   "source": [
    "3. 문장 토큰화를 수행하고, 문장 내에서 단어 토큰화를 수행하시오."
   ]
  },
  {
   "cell_type": "code",
   "execution_count": 20,
   "metadata": {},
   "outputs": [
    {
     "data": {
      "text/plain": [
       "[['LG',\n",
       "  'Electronics',\n",
       "  'announced',\n",
       "  'on',\n",
       "  'Sept.',\n",
       "  '22',\n",
       "  'that',\n",
       "  'it',\n",
       "  'has',\n",
       "  'won',\n",
       "  'a',\n",
       "  'total',\n",
       "  'of',\n",
       "  'ten',\n",
       "  'awards',\n",
       "  'including',\n",
       "  'one',\n",
       "  'Gold',\n",
       "  'at',\n",
       "  'the',\n",
       "  'International',\n",
       "  'Design',\n",
       "  'Excellence',\n",
       "  'Awards',\n",
       "  '(',\n",
       "  'IDEA',\n",
       "  ')',\n",
       "  '2021',\n",
       "  '.'],\n",
       " ['The',\n",
       "  'IDEA',\n",
       "  'is',\n",
       "  'one',\n",
       "  'of',\n",
       "  'the',\n",
       "  'world',\n",
       "  \"'s\",\n",
       "  'top',\n",
       "  'three',\n",
       "  'prestigious',\n",
       "  'design',\n",
       "  'awards',\n",
       "  'along',\n",
       "  'with',\n",
       "  'the',\n",
       "  'Red',\n",
       "  'Dot',\n",
       "  'Design',\n",
       "  'Awards',\n",
       "  'and',\n",
       "  'the',\n",
       "  'iF',\n",
       "  'Design',\n",
       "  'Awards',\n",
       "  '.'],\n",
       " ['Organized',\n",
       "  'by',\n",
       "  'the',\n",
       "  'Industrial',\n",
       "  'Designers',\n",
       "  'Society',\n",
       "  'of',\n",
       "  'America',\n",
       "  '(',\n",
       "  'IDSA',\n",
       "  ')',\n",
       "  ',',\n",
       "  'the',\n",
       "  'design',\n",
       "  'award',\n",
       "  'marks',\n",
       "  'its',\n",
       "  '41st',\n",
       "  'anniversary',\n",
       "  'this',\n",
       "  'year',\n",
       "  '.'],\n",
       " ['The',\n",
       "  'winner',\n",
       "  'of',\n",
       "  'the',\n",
       "  'Gold',\n",
       "  'award',\n",
       "  ',',\n",
       "  'which',\n",
       "  'is',\n",
       "  'the',\n",
       "  'highest',\n",
       "  'award',\n",
       "  ',',\n",
       "  'was',\n",
       "  'StandbyMe',\n",
       "  ',',\n",
       "  'a',\n",
       "  'plugless',\n",
       "  'monitor',\n",
       "  'that',\n",
       "  'is',\n",
       "  'attracting',\n",
       "  'popularity',\n",
       "  'in',\n",
       "  'Korea',\n",
       "  'despite',\n",
       "  'its',\n",
       "  'hefty',\n",
       "  'price',\n",
       "  'tag',\n",
       "  'of',\n",
       "  '1.29',\n",
       "  'million',\n",
       "  'won',\n",
       "  '(',\n",
       "  'US',\n",
       "  '$',\n",
       "  '1,130',\n",
       "  ')',\n",
       "  'and',\n",
       "  'exclusive',\n",
       "  'online',\n",
       "  'offering',\n",
       "  '.'],\n",
       " ['The',\n",
       "  'innovative',\n",
       "  'TV',\n",
       "  'also',\n",
       "  'won',\n",
       "  'the',\n",
       "  'main',\n",
       "  'prize',\n",
       "  'at',\n",
       "  'the',\n",
       "  'iF',\n",
       "  'Design',\n",
       "  'Awards',\n",
       "  '2021',\n",
       "  'and',\n",
       "  'the',\n",
       "  'Red',\n",
       "  'Dot',\n",
       "  'Design',\n",
       "  'Awards',\n",
       "  '2021',\n",
       "  '.'],\n",
       " ['Different',\n",
       "  'from',\n",
       "  'other',\n",
       "  'TVs',\n",
       "  'or',\n",
       "  'displays',\n",
       "  ',',\n",
       "  'LG',\n",
       "  '’',\n",
       "  's',\n",
       "  'StandbyMe',\n",
       "  'comes',\n",
       "  'in',\n",
       "  'a',\n",
       "  'moving',\n",
       "  'stand',\n",
       "  'design',\n",
       "  '.'],\n",
       " ['Its',\n",
       "  'screen',\n",
       "  'position',\n",
       "  'can',\n",
       "  'be',\n",
       "  'adjusted',\n",
       "  'according',\n",
       "  'to',\n",
       "  'viewing',\n",
       "  'postures',\n",
       "  '.'],\n",
       " ['The',\n",
       "  'display',\n",
       "  'supports',\n",
       "  'the',\n",
       "  'swivel',\n",
       "  'position',\n",
       "  ',',\n",
       "  'which',\n",
       "  'allows',\n",
       "  'the',\n",
       "  'viewer',\n",
       "  'to',\n",
       "  'adjust',\n",
       "  'the',\n",
       "  'left',\n",
       "  'and',\n",
       "  'right',\n",
       "  'sides',\n",
       "  'of',\n",
       "  'the',\n",
       "  'display',\n",
       "  'to',\n",
       "  'up',\n",
       "  'to',\n",
       "  '65',\n",
       "  'degrees',\n",
       "  ',',\n",
       "  'a',\n",
       "  '25-degree',\n",
       "  'tilt',\n",
       "  'and',\n",
       "  'a',\n",
       "  'clockwise',\n",
       "  'and',\n",
       "  'counterclockwise',\n",
       "  '90-degree',\n",
       "  'rotation',\n",
       "  '.'],\n",
       " ['Its',\n",
       "  'screen',\n",
       "  'can',\n",
       "  'be',\n",
       "  'extended',\n",
       "  'by',\n",
       "  'up',\n",
       "  'to',\n",
       "  '20',\n",
       "  'centimeters',\n",
       "  'vertically',\n",
       "  '.'],\n",
       " ['In',\n",
       "  'addition',\n",
       "  ',',\n",
       "  'four',\n",
       "  'products',\n",
       "  'nabbed',\n",
       "  'four',\n",
       "  'Bronze',\n",
       "  'awards',\n",
       "  '.'],\n",
       " ['They',\n",
       "  'were',\n",
       "  'Gallery',\n",
       "  'Stand',\n",
       "  ',',\n",
       "  'which',\n",
       "  'makes',\n",
       "  'LG',\n",
       "  'OLED',\n",
       "  'Evo',\n",
       "  \"'s\",\n",
       "  'slim',\n",
       "  'design',\n",
       "  'stand',\n",
       "  'out',\n",
       "  ',',\n",
       "  'LG',\n",
       "  'Sound',\n",
       "  'Bar',\n",
       "  'Eclair',\n",
       "  'that',\n",
       "  'used',\n",
       "  'curves',\n",
       "  ',',\n",
       "  'breaking',\n",
       "  'away',\n",
       "  'from',\n",
       "  'bar-type',\n",
       "  'design',\n",
       "  ',',\n",
       "  'LG',\n",
       "  'Wash',\n",
       "  'Tower',\n",
       "  ',',\n",
       "  'a',\n",
       "  'one-body',\n",
       "  'washer',\n",
       "  'and',\n",
       "  'drier',\n",
       "  'which',\n",
       "  'secured',\n",
       "  'seamless',\n",
       "  'design',\n",
       "  'by',\n",
       "  'minimizing',\n",
       "  'lines',\n",
       "  'and',\n",
       "  'margins',\n",
       "  'and',\n",
       "  'LG',\n",
       "  'Puricare',\n",
       "  '360°',\n",
       "  'Air',\n",
       "  'Purifier',\n",
       "  'Alpha',\n",
       "  '.'],\n",
       " ['Apart',\n",
       "  'from',\n",
       "  'them',\n",
       "  ',',\n",
       "  'five',\n",
       "  'products',\n",
       "  'were',\n",
       "  'selected',\n",
       "  'as',\n",
       "  'finalists',\n",
       "  '--',\n",
       "  'LG',\n",
       "  'Styler',\n",
       "  ',',\n",
       "  'LG',\n",
       "  'Code',\n",
       "  'Zero',\n",
       "  'A9S',\n",
       "  'Object',\n",
       "  'Collection',\n",
       "  ',',\n",
       "  'LG',\n",
       "  'Puricare',\n",
       "  'Dual',\n",
       "  'Water',\n",
       "  'Purifier',\n",
       "  ',',\n",
       "  'LG',\n",
       "  'Instagram',\n",
       "  'View',\n",
       "  'ThinQ',\n",
       "  'Oven',\n",
       "  ',',\n",
       "  'and',\n",
       "  'LG',\n",
       "  'Ultra',\n",
       "  'Gear',\n",
       "  'Gaming',\n",
       "  'Speaker',\n",
       "  '.']]"
      ]
     },
     "execution_count": 20,
     "metadata": {},
     "output_type": "execute_result"
    }
   ],
   "source": [
    "final=[]\n",
    "for sent in sent_tokenize(article):\n",
    "    final.append(word_tokenize(sent))\n",
    "final"
   ]
  },
  {
   "cell_type": "code",
   "execution_count": 28,
   "metadata": {},
   "outputs": [
    {
     "data": {
      "text/plain": [
       "[('LG', 'NN')]"
      ]
     },
     "execution_count": 28,
     "metadata": {},
     "output_type": "execute_result"
    }
   ],
   "source": [
    "from nltk.tag import pos_tag\n",
    "x=word_tokenize(word_tokenize(article)[0])\n",
    "pos_tag(x)"
   ]
  },
  {
   "cell_type": "code",
   "execution_count": 26,
   "metadata": {},
   "outputs": [
    {
     "name": "stdout",
     "output_type": "stream",
     "text": [
      "['LG', 'Electronics', 'announced', 'on', 'Sept.', '22', 'that', 'it', 'has', 'won', 'a', 'total', 'of', 'ten', 'awards', 'including', 'one', 'Gold', 'at', 'the', 'International', 'Design', 'Excellence', 'Awards', '(', 'IDEA', ')', '2021', '.', 'The', 'IDEA', 'is', 'one', 'of', 'the', 'world', \"'s\", 'top', 'three', 'prestigious', 'design', 'awards', 'along', 'with', 'the', 'Red', 'Dot', 'Design', 'Awards', 'and', 'the', 'iF', 'Design', 'Awards', '.', 'Organized', 'by', 'the', 'Industrial', 'Designers', 'Society', 'of', 'America', '(', 'IDSA', ')', ',', 'the', 'design', 'award', 'marks', 'its', '41st', 'anniversary', 'this', 'year', '.', 'The', 'winner', 'of', 'the', 'Gold', 'award', ',', 'which', 'is', 'the', 'highest', 'award', ',', 'was', 'StandbyMe', ',', 'a', 'plugless', 'monitor', 'that', 'is', 'attracting', 'popularity', 'in', 'Korea', 'despite', 'its', 'hefty', 'price', 'tag', 'of', '1.29', 'million', 'won', '(', 'US', '$', '1,130', ')', 'and', 'exclusive', 'online', 'offering', '.', 'The', 'innovative', 'TV', 'also', 'won', 'the', 'main', 'prize', 'at', 'the', 'iF', 'Design', 'Awards', '2021', 'and', 'the', 'Red', 'Dot', 'Design', 'Awards', '2021', '.', 'Different', 'from', 'other', 'TVs', 'or', 'displays', ',', 'LG', '’', 's', 'StandbyMe', 'comes', 'in', 'a', 'moving', 'stand', 'design', '.', 'Its', 'screen', 'position', 'can', 'be', 'adjusted', 'according', 'to', 'viewing', 'postures', '.', 'The', 'display', 'supports', 'the', 'swivel', 'position', ',', 'which', 'allows', 'the', 'viewer', 'to', 'adjust', 'the', 'left', 'and', 'right', 'sides', 'of', 'the', 'display', 'to', 'up', 'to', '65', 'degrees', ',', 'a', '25-degree', 'tilt', 'and', 'a', 'clockwise', 'and', 'counterclockwise', '90-degree', 'rotation', '.', 'Its', 'screen', 'can', 'be', 'extended', 'by', 'up', 'to', '20', 'centimeters', 'vertically', '.', 'In', 'addition', ',', 'four', 'products', 'nabbed', 'four', 'Bronze', 'awards', '.', 'They', 'were', 'Gallery', 'Stand', ',', 'which', 'makes', 'LG', 'OLED', 'Evo', \"'s\", 'slim', 'design', 'stand', 'out', ',', 'LG', 'Sound', 'Bar', 'Eclair', 'that', 'used', 'curves', ',', 'breaking', 'away', 'from', 'bar-type', 'design', ',', 'LG', 'Wash', 'Tower', ',', 'a', 'one-body', 'washer', 'and', 'drier', 'which', 'secured', 'seamless', 'design', 'by', 'minimizing', 'lines', 'and', 'margins', 'and', 'LG', 'Puricare', '360°', 'Air', 'Purifier', 'Alpha', '.', 'Apart', 'from', 'them', ',', 'five', 'products', 'were', 'selected', 'as', 'finalists', '--', 'LG', 'Styler', ',', 'LG', 'Code', 'Zero', 'A9S', 'Object', 'Collection', ',', 'LG', 'Puricare', 'Dual', 'Water', 'Purifier', ',', 'LG', 'Instagram', 'View', 'ThinQ', 'Oven', ',', 'and', 'LG', 'Ultra', 'Gear', 'Gaming', 'Speaker', '.']\n"
     ]
    }
   ],
   "source": [
    "from nltk.tokenize import word_tokenize  \n",
    "print(word_tokenize(article))"
   ]
  },
  {
   "cell_type": "markdown",
   "metadata": {},
   "source": [
    "4. 첫 번째 문장에 대하여 품사 태깅을 하시오"
   ]
  },
  {
   "cell_type": "code",
   "execution_count": 27,
   "metadata": {},
   "outputs": [
    {
     "data": {
      "text/plain": [
       "[('LG', 'NN')]"
      ]
     },
     "execution_count": 27,
     "metadata": {},
     "output_type": "execute_result"
    }
   ],
   "source": [
    "from nltk.tag import pos_tag\n",
    "x=word_tokenize(word_tokenize(article)[0])\n",
    "pos_tag(x)"
   ]
  },
  {
   "cell_type": "markdown",
   "metadata": {},
   "source": [
    "다음은 zdnetKorea에 9월 22일자 기사이다. 이 기사를 사용하여 다음을 수행하시오."
   ]
  },
  {
   "cell_type": "code",
   "execution_count": 3,
   "metadata": {},
   "outputs": [],
   "source": [
    "k_article=\"\"\"LG전자가 세계적 권위를 인정받는 디자인상 IDEA에서 최고상을 포함해 총 10개 상을 받았다고 22일 밝혔다.\n",
    "무선 프라이빗 스크린 LG 스탠바이미가 어워드 최고상에 해당하는 금상을 수상했다. LG 스탠바이미는 앞서 iF 디자인 어워드 2021과 레드닷 디자인 어워드 2021에서도 본상을 수상하며 올해 열린 세계 3대 디자인상을 석권했다.\n",
    "금상 수상작인 LG 스탠바이미는 기존 TV와는 차별화된 무빙스탠드 디자인이 특징이다. 패브릭 마감 후면은 깔끔하면서도 고급스러운 느낌을 주고, 화면을 시청하지 않을 때에 인테리어 오브제로도 충분히 활용할 수 있다.\n",
    "올레드 TV, 워시타워 등 LG전자를 대표하는 프리미엄 가전들도 두루 차별화된 디자인 경쟁력을 인정받았다.\n",
    "LG 스타일러, LG 코드제로 A9S 오브제컬렉션, LG 퓨리케어 듀얼정수기, LG 인스타뷰 씽큐 오븐, LG 울트라기어 게이밍 스피커 등 총 5개 제품도 본상를 받으며 디자인 우수성을 인정받았다.\n",
    "LG전자 디자인경영센터장 이철배 전무는 “좋은 디자인은 고객이 추구하는 라이프스타일을 실현하고 개성을 표현할 수 있도록 돕는 것”이라며 “앞으로도 고객의 삶에 영감을 주는 디자인을 지속 선보일 것”이라고 말했다. \n",
    "\"\"\""
   ]
  },
  {
   "cell_type": "markdown",
   "metadata": {},
   "source": [
    "5. Okt 패키지를 이용하여 다음을 수행하시오.\n",
    "(1) 형태소들을 추출하시오.\n",
    "(2) 품사 태깅을 하시오.\n",
    "(3) 명사만 추출하시오."
   ]
  },
  {
   "cell_type": "code",
   "execution_count": 34,
   "metadata": {},
   "outputs": [
    {
     "name": "stdout",
     "output_type": "stream",
     "text": [
      "['LG', '전자', '가', '세계', '적', '권위', '를', '인정받는', '디자인상', 'IDEA', '에서', '최고', '상', '을', '포함', '해', '총', '10', '개', '상', '을', '받았다고', '22일', '밝혔다', '.', '\\n', '무선', '프라이', '빗', '스크린', 'LG', '스탠바이', '미가', '어워드', '최고', '상', '에', '해당', '하는', '금', '상', '을', '수상했다', '.', 'LG', '스탠바이', '미는', '앞서', 'iF', '디자인', '어워드', '2021', '과', '레드', '닷', '디자인', '어워드', '2021', '에서도', '본상', '을', '수상하며', '올해', '열린', '세계', '3', '대', '디자인상', '을', '석권', '했다', '.', '\\n', '금', '상', '수상작', '인', 'LG', '스탠바이', '미는', '기존', 'TV', '와는', '차별', '화', '된', '무빙', '스탠드', '디자인', '이', '특징', '이다', '.', '패', '브릭', '마감', '후', '면', '은', '깔끔하면서도', '고급스러운', '느낌', '을', '주고', ',', '화면', '을', '시청', '하지', '않을', '때', '에', '인테리어', '오브', '제로', '도', '충분히', '활용', '할', '수', '있다', '.', '\\n', '올', '레드', 'TV', ',', '워', '시', '타워', '등', 'LG', '전자', '를', '대표', '하는', '프리미엄', '가전', '들', '도', '두루', '차별', '화', '된', '디자인', '경쟁력', '을', '인정받았다', '.', '\\n', 'LG', '스타', '일러', ',', 'LG', '코드', '제로', 'A', '9', 'S', '오브', '제', '컬렉션', ',', 'LG', '퓨리', '케어', '듀얼', '정수기', ',', 'LG', '인스타', '뷰', '씽', '큐', '오븐', ',', 'LG', '울트라', '기어', '게이', '밍', '스피커', '등', '총', '5', '개', '제품', '도', '본상', '를', '받으며', '디자인', '우수', '성', '을', '인정받았다', '.', '\\n', 'LG', '전자', '디자인', '경', '영', '센터', '장', '이철', '배', '전무', '는', '“', '좋은', '디자인', '은', '고객', '이', '추구', '하는', '라이프스타일', '을', '실현', '하고', '개성', '을', '표현', '할', '수', '있도록', '돕는', '것', '”', '이', '라며', '“', '앞', '으로도', '고객', '의', '삶', '에', '영감', '을', '주는', '디자인', '을', '지속', '선보일', '것', '”', '이라고', '말', '했다', '.']\n"
     ]
    }
   ],
   "source": [
    "from konlpy.tag import Okt  \n",
    "okt=Okt()  \n",
    "print(okt.morphs(k_article))"
   ]
  },
  {
   "cell_type": "code",
   "execution_count": 35,
   "metadata": {},
   "outputs": [
    {
     "name": "stdout",
     "output_type": "stream",
     "text": [
      "['LG', '전자', '가', '세계', '적', '권위', '를', '인정받는', '디자인상', 'IDEA', '에서', '최고', '상', '을', '포함', '해', '총', '10', '개', '상', '을', '받았다고', '22일', '밝혔다', '.', '\\n', '무선', '프라이', '빗', '스크린', 'LG', '스탠바이', '미가', '어워드', '최고', '상', '에', '해당', '하는', '금', '상', '을', '수상했다', '.', 'LG', '스탠바이', '미는', '앞서', 'iF', '디자인', '어워드', '2021', '과', '레드', '닷', '디자인', '어워드', '2021', '에서도', '본상', '을', '수상하며', '올해', '열린', '세계', '3', '대', '디자인상', '을', '석권', '했다', '.', '\\n', '금', '상', '수상작', '인', 'LG', '스탠바이', '미는', '기존', 'TV', '와는', '차별', '화', '된', '무빙', '스탠드', '디자인', '이', '특징', '이다', '.', '패', '브릭', '마감', '후', '면', '은', '깔끔하면서도', '고급스러운', '느낌', '을', '주고', ',', '화면', '을', '시청', '하지', '않을', '때', '에', '인테리어', '오브', '제로', '도', '충분히', '활용', '할', '수', '있다', '.', '\\n', '올', '레드', 'TV', ',', '워', '시', '타워', '등', 'LG', '전자', '를', '대표', '하는', '프리미엄', '가전', '들', '도', '두루', '차별', '화', '된', '디자인', '경쟁력', '을', '인정받았다', '.', '\\n', 'LG', '스타', '일러', ',', 'LG', '코드', '제로', 'A', '9', 'S', '오브', '제', '컬렉션', ',', 'LG', '퓨리', '케어', '듀얼', '정수기', ',', 'LG', '인스타', '뷰', '씽', '큐', '오븐', ',', 'LG', '울트라', '기어', '게이', '밍', '스피커', '등', '총', '5', '개', '제품', '도', '본상', '를', '받으며', '디자인', '우수', '성', '을', '인정받았다', '.', '\\n', 'LG', '전자', '디자인', '경', '영', '센터', '장', '이철', '배', '전무', '는', '“', '좋은', '디자인', '은', '고객', '이', '추구', '하는', '라이프스타일', '을', '실현', '하고', '개성', '을', '표현', '할', '수', '있도록', '돕는', '것', '”', '이', '라며', '“', '앞', '으로도', '고객', '의', '삶', '에', '영감', '을', '주는', '디자인', '을', '지속', '선보일', '것', '”', '이라고', '말', '했다', '.']\n"
     ]
    }
   ],
   "source": [
    "print(okt.morphs(k_article))"
   ]
  },
  {
   "cell_type": "code",
   "execution_count": 37,
   "metadata": {},
   "outputs": [
    {
     "name": "stdout",
     "output_type": "stream",
     "text": [
      "[('LG', 'Alpha'), ('전자', 'Noun'), ('가', 'Josa'), ('세계', 'Noun'), ('적', 'Suffix'), ('권위', 'Noun'), ('를', 'Josa'), ('인정받는', 'Verb'), ('디자인상', 'Noun'), ('IDEA', 'Alpha'), ('에서', 'Josa'), ('최고', 'Noun'), ('상', 'Suffix'), ('을', 'Josa'), ('포함', 'Noun'), ('해', 'Verb'), ('총', 'Noun'), ('10', 'Number'), ('개', 'Noun'), ('상', 'Noun'), ('을', 'Josa'), ('받았다고', 'Verb'), ('22일', 'Number'), ('밝혔다', 'Verb'), ('.', 'Punctuation'), ('\\n', 'Foreign'), ('무선', 'Noun'), ('프라이', 'Noun'), ('빗', 'Noun'), ('스크린', 'Noun'), ('LG', 'Alpha'), ('스탠바이', 'Noun'), ('미가', 'Noun'), ('어워드', 'Noun'), ('최고', 'Noun'), ('상', 'Suffix'), ('에', 'Josa'), ('해당', 'Noun'), ('하는', 'Verb'), ('금', 'Noun'), ('상', 'Suffix'), ('을', 'Josa'), ('수상했다', 'Adjective'), ('.', 'Punctuation'), ('LG', 'Alpha'), ('스탠바이', 'Noun'), ('미는', 'Adjective'), ('앞서', 'Noun'), ('iF', 'Alpha'), ('디자인', 'Noun'), ('어워드', 'Noun'), ('2021', 'Number'), ('과', 'Noun'), ('레드', 'Noun'), ('닷', 'Noun'), ('디자인', 'Noun'), ('어워드', 'Noun'), ('2021', 'Number'), ('에서도', 'Josa'), ('본상', 'Noun'), ('을', 'Josa'), ('수상하며', 'Adjective'), ('올해', 'Noun'), ('열린', 'Verb'), ('세계', 'Noun'), ('3', 'Number'), ('대', 'Verb'), ('디자인상', 'Noun'), ('을', 'Josa'), ('석권', 'Noun'), ('했다', 'Verb'), ('.', 'Punctuation'), ('\\n', 'Foreign'), ('금', 'Noun'), ('상', 'Suffix'), ('수상작', 'Noun'), ('인', 'Josa'), ('LG', 'Alpha'), ('스탠바이', 'Noun'), ('미는', 'Adjective'), ('기존', 'Noun'), ('TV', 'Alpha'), ('와는', 'Josa'), ('차별', 'Noun'), ('화', 'Suffix'), ('된', 'Verb'), ('무빙', 'Noun'), ('스탠드', 'Noun'), ('디자인', 'Noun'), ('이', 'Josa'), ('특징', 'Noun'), ('이다', 'Josa'), ('.', 'Punctuation'), ('패', 'Noun'), ('브릭', 'Noun'), ('마감', 'Noun'), ('후', 'Noun'), ('면', 'Josa'), ('은', 'Noun'), ('깔끔하면서도', 'Adjective'), ('고급스러운', 'Adjective'), ('느낌', 'Noun'), ('을', 'Josa'), ('주고', 'Verb'), (',', 'Punctuation'), ('화면', 'Noun'), ('을', 'Josa'), ('시청', 'Noun'), ('하지', 'Verb'), ('않을', 'Verb'), ('때', 'Noun'), ('에', 'Josa'), ('인테리어', 'Noun'), ('오브', 'Noun'), ('제로', 'Noun'), ('도', 'Josa'), ('충분히', 'Adjective'), ('활용', 'Noun'), ('할', 'Verb'), ('수', 'Noun'), ('있다', 'Adjective'), ('.', 'Punctuation'), ('\\n', 'Foreign'), ('올', 'Modifier'), ('레드', 'Noun'), ('TV', 'Alpha'), (',', 'Punctuation'), ('워', 'Noun'), ('시', 'Modifier'), ('타워', 'Noun'), ('등', 'Noun'), ('LG', 'Alpha'), ('전자', 'Noun'), ('를', 'Josa'), ('대표', 'Noun'), ('하는', 'Verb'), ('프리미엄', 'Noun'), ('가전', 'Noun'), ('들', 'Suffix'), ('도', 'Josa'), ('두루', 'Noun'), ('차별', 'Noun'), ('화', 'Suffix'), ('된', 'Verb'), ('디자인', 'Noun'), ('경쟁력', 'Noun'), ('을', 'Josa'), ('인정받았다', 'Verb'), ('.', 'Punctuation'), ('\\n', 'Foreign'), ('LG', 'Alpha'), ('스타', 'Noun'), ('일러', 'Verb'), (',', 'Punctuation'), ('LG', 'Alpha'), ('코드', 'Noun'), ('제로', 'Noun'), ('A', 'Alpha'), ('9', 'Number'), ('S', 'Alpha'), ('오브', 'Noun'), ('제', 'Modifier'), ('컬렉션', 'Noun'), (',', 'Punctuation'), ('LG', 'Alpha'), ('퓨리', 'Noun'), ('케어', 'Noun'), ('듀얼', 'Noun'), ('정수기', 'Noun'), (',', 'Punctuation'), ('LG', 'Alpha'), ('인스타', 'Noun'), ('뷰', 'Noun'), ('씽', 'Adverb'), ('큐', 'Noun'), ('오븐', 'Noun'), (',', 'Punctuation'), ('LG', 'Alpha'), ('울트라', 'Noun'), ('기어', 'Noun'), ('게이', 'Noun'), ('밍', 'Noun'), ('스피커', 'Noun'), ('등', 'Noun'), ('총', 'Noun'), ('5', 'Number'), ('개', 'Noun'), ('제품', 'Noun'), ('도', 'Josa'), ('본상', 'Noun'), ('를', 'Noun'), ('받으며', 'Verb'), ('디자인', 'Noun'), ('우수', 'Noun'), ('성', 'Suffix'), ('을', 'Josa'), ('인정받았다', 'Verb'), ('.', 'Punctuation'), ('\\n', 'Foreign'), ('LG', 'Alpha'), ('전자', 'Noun'), ('디자인', 'Noun'), ('경', 'Modifier'), ('영', 'Modifier'), ('센터', 'Noun'), ('장', 'Suffix'), ('이철', 'Noun'), ('배', 'Noun'), ('전무', 'Noun'), ('는', 'Josa'), ('“', 'Foreign'), ('좋은', 'Adjective'), ('디자인', 'Noun'), ('은', 'Josa'), ('고객', 'Noun'), ('이', 'Josa'), ('추구', 'Noun'), ('하는', 'Verb'), ('라이프스타일', 'Noun'), ('을', 'Josa'), ('실현', 'Noun'), ('하고', 'Josa'), ('개성', 'Noun'), ('을', 'Josa'), ('표현', 'Noun'), ('할', 'Verb'), ('수', 'Noun'), ('있도록', 'Adjective'), ('돕는', 'Verb'), ('것', 'Noun'), ('”', 'Foreign'), ('이', 'Determiner'), ('라며', 'Noun'), ('“', 'Foreign'), ('앞', 'Noun'), ('으로도', 'Josa'), ('고객', 'Noun'), ('의', 'Josa'), ('삶', 'Noun'), ('에', 'Josa'), ('영감', 'Noun'), ('을', 'Josa'), ('주는', 'Verb'), ('디자인', 'Noun'), ('을', 'Josa'), ('지속', 'Noun'), ('선보일', 'Verb'), ('것', 'Noun'), ('”', 'Foreign'), ('이라고', 'Josa'), ('말', 'Noun'), ('했다', 'Verb'), ('.', 'Punctuation')]\n"
     ]
    }
   ],
   "source": [
    "print(okt.pos(k_article))"
   ]
  },
  {
   "cell_type": "code",
   "execution_count": 39,
   "metadata": {},
   "outputs": [
    {
     "name": "stdout",
     "output_type": "stream",
     "text": [
      "['전자', '세계', '권위', '디자인상', '최고', '포함', '총', '개', '상', '무선', '프라이', '빗', '스크린', '스탠바이', '미가', '어워드', '최고', '해당', '금', '스탠바이', '앞서', '디자인', '어워드', '과', '레드', '닷', '디자인', '어워드', '본상', '올해', '세계', '디자인상', '석권', '금', '수상작', '스탠바이', '기존', '차별', '무빙', '스탠드', '디자인', '특징', '패', '브릭', '마감', '후', '은', '느낌', '화면', '시청', '때', '인테리어', '오브', '제로', '활용', '수', '레드', '워', '타워', '등', '전자', '대표', '프리미엄', '가전', '두루', '차별', '디자인', '경쟁력', '스타', '코드', '제로', '오브', '컬렉션', '퓨리', '케어', '듀얼', '정수기', '인스타', '뷰', '큐', '오븐', '울트라', '기어', '게이', '밍', '스피커', '등', '총', '개', '제품', '본상', '를', '디자인', '우수', '전자', '디자인', '센터', '이철', '배', '전무', '디자인', '고객', '추구', '라이프스타일', '실현', '개성', '표현', '수', '것', '라며', '앞', '고객', '삶', '영감', '디자인', '지속', '것', '말']\n"
     ]
    }
   ],
   "source": [
    "print(okt.nouns(k_article))"
   ]
  },
  {
   "cell_type": "markdown",
   "metadata": {},
   "source": [
    "6. Komoran 패키지를 이용하여 다음을 수행하시오.\n",
    "(1) 형태소들을 추출하시오.\n",
    "(2) 품사 태깅을 하시오.\n",
    "(3) 명사만 추출하시오."
   ]
  },
  {
   "cell_type": "code",
   "execution_count": 5,
   "metadata": {},
   "outputs": [
    {
     "name": "stdout",
     "output_type": "stream",
     "text": [
      "['LG전자', '가', '세계', '적', '권위', '를', '인정받', '는', '디자인', '상', 'IDEA', '에서', '최고상', '을', '포함', '하', '아', '총', '10', '개', '상', '을', '받', '았', '다고', '22', '일', '밝히', '었', '다', '.', '무선', '프라이', '빗', '스크린', 'LG', '스탠바이', '미', '가', '어', '워드', '최고상', '에', '해당', '하', '는', '금상', '을', '수상', '하', '았', '다', '.', 'LG', '스탠바이', '미', '는', '앞서', 'iF', '디자인', '어', '워드', '2021', '과', '레드닷 디자인 어워드', '2021', '에서', '도', '본상', '을', '수상', '하', '며', '올해', '열리', 'ㄴ', '세계', '3', '대', '디자인', '상', '을', '석권', '하', '았', '다', '.', '금상', '수상작', '이', 'ㄴ', 'LG', '스탠바이', '미', '는', '기존', 'TV', '와', '는', '차별', '화', '되', 'ㄴ', '무', '빙', '스탠드', '디자인', '이', '특징', '이', '다', '.', '패', '브릭', '마감', '후면', '은', '깔끔', '하', '면서', '도', '고급', '스럽', 'ㄴ', '느낌', '을', '주', '고', ',', '화면', '을', '시청', '하', '지', '않', '을', '때', '에', '인테리어', '오브', '제로', '도', '충분히', '활용', '하', 'ㄹ', '수', '있', '다', '.', '올', '레드', 'TV', ',', '워시타워', '등', 'LG전자', '를', '대표', '하', '는', '프리미엄', '가전', '들', '도', '두루', '차별', '화', '되', 'ㄴ', '디자인', '경쟁력', '을', '인정받', '았', '다', '.', 'LG', '스타일', '러', ',', 'LG', '코드', '제로', 'A9', 'S', '오브', '제', '컬렉션', ',', 'LG', '퓨리', '하', '게', '어', '듀얼정수기,', 'LG', '인스타뷰', '씽큐', '오븐', ',', 'LG', '울', '트', '라기', '어', '게이밍', '스피커', '등', '총', '5', '개', '제품', '도', '본상', '르', 'ㄹ', '받', '으며', '디자인', '우수', '성', '을', '인정받', '았', '다', '.', 'LG전자', '디자인', '경영', '센터', '장', '이철', '배', '전무', '는', '“', '좋', '은', '디자인', '은', '고객', '이', '추구', '하', '는', '라이프', '스타일', '을', '실현', '하', '고', '개성', '을', '표현', '하', 'ㄹ', '수', '있', '도록', '돕', '는', '것', '”', '이', '라며', '“', '앞으로', '도', '고객', '의', '삶', '에', '영감', '을', '주', '는', '디자인', '을', '지속', '선보이', 'ㄹ', '것', '”', '이라고', '말', '하', '았', '다', '.']\n"
     ]
    }
   ],
   "source": [
    "from konlpy.tag import Komoran  \n",
    "komoran=Komoran()  \n",
    "print(komoran.morphs(k_article))"
   ]
  },
  {
   "cell_type": "code",
   "execution_count": 7,
   "metadata": {},
   "outputs": [
    {
     "name": "stdout",
     "output_type": "stream",
     "text": [
      "[('LG전자', 'NNP'), ('가', 'JKS'), ('세계', 'NNG'), ('적', 'XSN'), ('권위', 'NNG'), ('를', 'JKO'), ('인정받', 'VV'), ('는', 'ETM'), ('디자인', 'NNG'), ('상', 'XSN'), ('IDEA', 'SL'), ('에서', 'JKB'), ('최고상', 'NNG'), ('을', 'JKO'), ('포함', 'NNG'), ('하', 'XSV'), ('아', 'EC'), ('총', 'MM'), ('10', 'SN'), ('개', 'NNB'), ('상', 'NNG'), ('을', 'JKO'), ('받', 'VV'), ('았', 'EP'), ('다고', 'EC'), ('22', 'SN'), ('일', 'NNB'), ('밝히', 'VV'), ('었', 'EP'), ('다', 'EF'), ('.', 'SF'), ('무선', 'NNP'), ('프라이', 'NNP'), ('빗', 'NNG'), ('스크린', 'NNP'), ('LG', 'SL'), ('스탠바이', 'NNP'), ('미', 'NNP'), ('가', 'JKS'), ('어', 'NNG'), ('워드', 'NNP'), ('최고상', 'NNG'), ('에', 'JKB'), ('해당', 'NNG'), ('하', 'XSV'), ('는', 'ETM'), ('금상', 'NNG'), ('을', 'JKO'), ('수상', 'NNG'), ('하', 'XSV'), ('았', 'EP'), ('다', 'EF'), ('.', 'SF'), ('LG', 'SL'), ('스탠바이', 'NNP'), ('미', 'NNP'), ('는', 'JX'), ('앞서', 'MAG'), ('iF', 'SL'), ('디자인', 'NNP'), ('어', 'NNG'), ('워드', 'NNP'), ('2021', 'SN'), ('과', 'JC'), ('레드닷 디자인 어워드', 'NNP'), ('2021', 'SN'), ('에서', 'JKB'), ('도', 'JX'), ('본상', 'NNG'), ('을', 'JKO'), ('수상', 'XR'), ('하', 'XSA'), ('며', 'EC'), ('올해', 'NNG'), ('열리', 'VV'), ('ㄴ', 'ETM'), ('세계', 'NNG'), ('3', 'SN'), ('대', 'NNB'), ('디자인', 'NNG'), ('상', 'XSN'), ('을', 'JKO'), ('석권', 'NNG'), ('하', 'XSV'), ('았', 'EP'), ('다', 'EF'), ('.', 'SF'), ('금상', 'NNG'), ('수상작', 'NNG'), ('이', 'VCP'), ('ㄴ', 'ETM'), ('LG', 'SL'), ('스탠바이', 'NNP'), ('미', 'NNP'), ('는', 'JX'), ('기존', 'NNG'), ('TV', 'SL'), ('와', 'JKB'), ('는', 'JX'), ('차별', 'NNG'), ('화', 'XSN'), ('되', 'XSV'), ('ㄴ', 'ETM'), ('무', 'XPN'), ('빙', 'NNG'), ('스탠드', 'NNP'), ('디자인', 'NNP'), ('이', 'JKS'), ('특징', 'NNG'), ('이', 'VCP'), ('다', 'EF'), ('.', 'SF'), ('패', 'NNG'), ('브릭', 'NNP'), ('마감', 'NNG'), ('후면', 'NNG'), ('은', 'JX'), ('깔끔', 'XR'), ('하', 'XSA'), ('면서', 'EC'), ('도', 'JX'), ('고급', 'NNG'), ('스럽', 'XSA'), ('ㄴ', 'ETM'), ('느낌', 'NNG'), ('을', 'JKO'), ('주', 'VX'), ('고', 'EC'), (',', 'SP'), ('화면', 'NNG'), ('을', 'JKO'), ('시청', 'NNG'), ('하', 'XSV'), ('지', 'EC'), ('않', 'VX'), ('을', 'ETM'), ('때', 'NNG'), ('에', 'JKB'), ('인테리어', 'NNG'), ('오브', 'NNG'), ('제로', 'NNP'), ('도', 'JX'), ('충분히', 'MAG'), ('활용', 'NNG'), ('하', 'XSV'), ('ㄹ', 'ETM'), ('수', 'NNB'), ('있', 'VX'), ('다', 'EF'), ('.', 'SF'), ('올', 'MM'), ('레드', 'NNP'), ('TV', 'SL'), (',', 'SP'), ('워시타워', 'NA'), ('등', 'NNB'), ('LG전자', 'NNP'), ('를', 'JKO'), ('대표', 'NNG'), ('하', 'XSV'), ('는', 'ETM'), ('프리미엄', 'NNP'), ('가전', 'NNG'), ('들', 'XSN'), ('도', 'JX'), ('두루', 'MAG'), ('차별', 'NNG'), ('화', 'XSN'), ('되', 'XSV'), ('ㄴ', 'ETM'), ('디자인', 'NNP'), ('경쟁력', 'NNG'), ('을', 'JKO'), ('인정받', 'VV'), ('았', 'EP'), ('다', 'EF'), ('.', 'SF'), ('LG', 'SL'), ('스타일', 'NNP'), ('러', 'NNP'), (',', 'SP'), ('LG', 'SL'), ('코드', 'NNP'), ('제로', 'NNP'), ('A9', 'NNP'), ('S', 'SL'), ('오브', 'NNG'), ('제', 'XPN'), ('컬렉션', 'NNP'), (',', 'SP'), ('LG', 'SL'), ('퓨리', 'NNP'), ('하', 'XSV'), ('게', 'EC'), ('어', 'EC'), ('듀얼정수기,', 'NA'), ('LG', 'SL'), ('인스타뷰', 'NA'), ('씽큐', 'NA'), ('오븐', 'NNP'), (',', 'SP'), ('LG', 'SL'), ('울', 'NNG'), ('트', 'VV'), ('라기', 'ETN'), ('어', 'EC'), ('게이밍', 'NA'), ('스피커', 'NNP'), ('등', 'NNB'), ('총', 'MM'), ('5', 'SN'), ('개', 'NNB'), ('제품', 'NNG'), ('도', 'JX'), ('본상', 'NNG'), ('르', 'NNG'), ('ㄹ', 'JKO'), ('받', 'VV'), ('으며', 'EC'), ('디자인', 'NNP'), ('우수', 'NNG'), ('성', 'XSN'), ('을', 'JKO'), ('인정받', 'VV'), ('았', 'EP'), ('다', 'EF'), ('.', 'SF'), ('LG전자', 'NNP'), ('디자인', 'NNP'), ('경영', 'NNP'), ('센터', 'NNP'), ('장', 'NNP'), ('이철', 'NNP'), ('배', 'NNP'), ('전무', 'NNG'), ('는', 'JX'), ('“', 'SS'), ('좋', 'VA'), ('은', 'ETM'), ('디자인', 'NNP'), ('은', 'JX'), ('고객', 'NNG'), ('이', 'JKS'), ('추구', 'NNG'), ('하', 'XSV'), ('는', 'ETM'), ('라이프', 'NNP'), ('스타일', 'NNP'), ('을', 'JKO'), ('실현', 'NNG'), ('하', 'XSV'), ('고', 'EC'), ('개성', 'NNG'), ('을', 'JKO'), ('표현', 'NNG'), ('하', 'XSV'), ('ㄹ', 'ETM'), ('수', 'NNB'), ('있', 'VV'), ('도록', 'EC'), ('돕', 'VV'), ('는', 'ETM'), ('것', 'NNB'), ('”', 'SS'), ('이', 'VCP'), ('라며', 'EC'), ('“', 'SS'), ('앞으로', 'NNP'), ('도', 'JX'), ('고객', 'NNG'), ('의', 'JKG'), ('삶', 'NNG'), ('에', 'JKB'), ('영감', 'NNG'), ('을', 'JKO'), ('주', 'VX'), ('는', 'ETM'), ('디자인', 'NNG'), ('을', 'JKO'), ('지속', 'NNG'), ('선보이', 'VV'), ('ㄹ', 'ETM'), ('것', 'NNB'), ('”', 'SS'), ('이라고', 'JKQ'), ('말', 'NNG'), ('하', 'XSV'), ('았', 'EP'), ('다', 'EF'), ('.', 'SF')]\n"
     ]
    }
   ],
   "source": [
    "print(komoran.pos(k_article))"
   ]
  },
  {
   "cell_type": "code",
   "execution_count": 8,
   "metadata": {},
   "outputs": [
    {
     "name": "stdout",
     "output_type": "stream",
     "text": [
      "['LG전자', '세계', '권위', '디자인', '최고상', '포함', '개', '상', '일', '무선', '프라이', '빗', '스크린', '스탠바이', '미', '어', '워드', '최고상', '해당', '금상', '수상', '스탠바이', '미', '디자인', '어', '워드', '레드닷 디자인 어워드', '본상', '올해', '세계', '대', '디자인', '석권', '금상', '수상작', '스탠바이', '미', '기존', '차별', '빙', '스탠드', '디자인', '특징', '패', '브릭', '마감', '후면', '고급', '느낌', '화면', '시청', '때', '인테리어', '오브', '제로', '활용', '수', '레드', '등', 'LG전자', '대표', '프리미엄', '가전', '차별', '디자인', '경쟁력', '스타일', '러', '코드', '제로', 'A9', '오브', '컬렉션', '퓨리', '오븐', '울', '스피커', '등', '개', '제품', '본상', '르', '디자인', '우수', 'LG전자', '디자인', '경영', '센터', '장', '이철', '배', '전무', '디자인', '고객', '추구', '라이프', '스타일', '실현', '개성', '표현', '수', '것', '앞으로', '고객', '삶', '영감', '디자인', '지속', '것', '말']\n"
     ]
    }
   ],
   "source": [
    "print(komoran.nouns(k_article))"
   ]
  },
  {
   "cell_type": "markdown",
   "metadata": {},
   "source": [
    " 7. kss 패키지를 이용하여 문장 토콘화를 수행하시오. 몇 개의 문장으로 분할되었는지 확인하시오."
   ]
  },
  {
   "cell_type": "code",
   "execution_count": 44,
   "metadata": {},
   "outputs": [
    {
     "name": "stderr",
     "output_type": "stream",
     "text": [
      "WARNING: Ignoring invalid distribution -ffi (c:\\users\\administrator\\appdata\\local\\continuum\\anaconda3\\lib\\site-packages)\n",
      "WARNING: Ignoring invalid distribution -ffi (c:\\users\\administrator\\appdata\\local\\continuum\\anaconda3\\lib\\site-packages)\n",
      "WARNING: Ignoring invalid distribution -ffi (c:\\users\\administrator\\appdata\\local\\continuum\\anaconda3\\lib\\site-packages)\n",
      "WARNING: Ignoring invalid distribution -ffi (c:\\users\\administrator\\appdata\\local\\continuum\\anaconda3\\lib\\site-packages)\n",
      "WARNING: Ignoring invalid distribution -ffi (c:\\users\\administrator\\appdata\\local\\continuum\\anaconda3\\lib\\site-packages)\n",
      "WARNING: Ignoring invalid distribution -ffi (c:\\users\\administrator\\appdata\\local\\continuum\\anaconda3\\lib\\site-packages)\n",
      "WARNING: You are using pip version 22.0.4; however, version 22.1.1 is available.\n",
      "You should consider upgrading via the 'c:\\users\\administrator\\appdata\\local\\continuum\\anaconda3\\python.exe -m pip install --upgrade pip' command.\n",
      "[Korean Sentence Splitter]: Initializing Pynori...\n"
     ]
    },
    {
     "name": "stdout",
     "output_type": "stream",
     "text": [
      "Requirement already satisfied: kss in c:\\users\\administrator\\appdata\\local\\continuum\\anaconda3\\lib\\site-packages (3.4.3)\n",
      "Requirement already satisfied: emoji in c:\\users\\administrator\\appdata\\local\\continuum\\anaconda3\\lib\\site-packages (from kss) (1.7.0)\n",
      "Requirement already satisfied: more-itertools in c:\\users\\administrator\\appdata\\local\\continuum\\anaconda3\\lib\\site-packages (from kss) (7.2.0)\n",
      "Requirement already satisfied: regex in c:\\users\\administrator\\appdata\\local\\continuum\\anaconda3\\lib\\site-packages (from kss) (2022.4.24)\n"
     ]
    },
    {
     "ename": "MemoryError",
     "evalue": "",
     "output_type": "error",
     "traceback": [
      "\u001b[1;31m---------------------------------------------------------------------------\u001b[0m",
      "\u001b[1;31mMemoryError\u001b[0m                               Traceback (most recent call last)",
      "\u001b[1;31mMemoryError\u001b[0m: ",
      "\nDuring handling of the above exception, another exception occurred:\n",
      "\u001b[1;31mMemoryError\u001b[0m                               Traceback (most recent call last)",
      "\u001b[1;32m<ipython-input-44-15672456d800>\u001b[0m in \u001b[0;36m<module>\u001b[1;34m\u001b[0m\n\u001b[0;32m      2\u001b[0m \u001b[1;33m\u001b[0m\u001b[0m\n\u001b[0;32m      3\u001b[0m \u001b[1;32mimport\u001b[0m \u001b[0mkss\u001b[0m\u001b[1;33m\u001b[0m\u001b[1;33m\u001b[0m\u001b[0m\n\u001b[1;32m----> 4\u001b[1;33m \u001b[0mprint\u001b[0m\u001b[1;33m(\u001b[0m\u001b[0mkss\u001b[0m\u001b[1;33m.\u001b[0m\u001b[0msplit_sentences\u001b[0m\u001b[1;33m(\u001b[0m\u001b[0mk_article\u001b[0m\u001b[1;33m)\u001b[0m\u001b[1;33m)\u001b[0m\u001b[1;33m\u001b[0m\u001b[1;33m\u001b[0m\u001b[0m\n\u001b[0m",
      "\u001b[1;32m~\\AppData\\Local\\Continuum\\anaconda3\\lib\\site-packages\\kss\\kss.py\u001b[0m in \u001b[0;36msplit_sentences\u001b[1;34m(text, use_heuristic, use_quotes_brackets_processing, max_recover_step, max_recover_length, backend, num_workers, disable_gc, disable_mp_post_process)\u001b[0m\n\u001b[0;32m     79\u001b[0m \u001b[1;33m\u001b[0m\u001b[0m\n\u001b[0;32m     80\u001b[0m     \u001b[1;32mif\u001b[0m \u001b[0mbackend\u001b[0m \u001b[1;33m==\u001b[0m \u001b[1;34m\"pynori\"\u001b[0m\u001b[1;33m:\u001b[0m\u001b[1;33m\u001b[0m\u001b[1;33m\u001b[0m\u001b[0m\n\u001b[1;32m---> 81\u001b[1;33m         \u001b[0m_morph\u001b[0m\u001b[1;33m.\u001b[0m\u001b[0mcreate_pynori\u001b[0m\u001b[1;33m(\u001b[0m\u001b[1;33m)\u001b[0m\u001b[1;33m\u001b[0m\u001b[1;33m\u001b[0m\u001b[0m\n\u001b[0m\u001b[0;32m     82\u001b[0m \u001b[1;33m\u001b[0m\u001b[0m\n\u001b[0;32m     83\u001b[0m     assert (\n",
      "\u001b[1;32m~\\AppData\\Local\\Continuum\\anaconda3\\lib\\site-packages\\kss\\morph.py\u001b[0m in \u001b[0;36mcreate_pynori\u001b[1;34m(self)\u001b[0m\n\u001b[0;32m     37\u001b[0m                 \u001b[0mstop_tags\u001b[0m\u001b[1;33m=\u001b[0m\u001b[1;32mFalse\u001b[0m\u001b[1;33m,\u001b[0m\u001b[1;33m\u001b[0m\u001b[1;33m\u001b[0m\u001b[0m\n\u001b[0;32m     38\u001b[0m                 \u001b[0msynonym_filter\u001b[0m\u001b[1;33m=\u001b[0m\u001b[1;32mFalse\u001b[0m\u001b[1;33m,\u001b[0m\u001b[1;33m\u001b[0m\u001b[1;33m\u001b[0m\u001b[0m\n\u001b[1;32m---> 39\u001b[1;33m                 \u001b[0mmode_synonym\u001b[0m\u001b[1;33m=\u001b[0m\u001b[1;32mFalse\u001b[0m\u001b[1;33m,\u001b[0m\u001b[1;33m\u001b[0m\u001b[1;33m\u001b[0m\u001b[0m\n\u001b[0m\u001b[0;32m     40\u001b[0m             )\n\u001b[0;32m     41\u001b[0m \u001b[1;33m\u001b[0m\u001b[0m\n",
      "\u001b[1;32m~\\AppData\\Local\\Continuum\\anaconda3\\lib\\site-packages\\kss\\pynori\\korean_analyzer.py\u001b[0m in \u001b[0;36m__init__\u001b[1;34m(self, path_userdict, decompound_mode, infl_decompound_mode, output_unknown_unigrams, discard_punctuation, pos_filter, stop_tags, synonym_filter, mode_synonym)\u001b[0m\n\u001b[0;32m     33\u001b[0m             \u001b[0minfl_decompound_mode\u001b[0m\u001b[1;33m,\u001b[0m\u001b[1;33m\u001b[0m\u001b[1;33m\u001b[0m\u001b[0m\n\u001b[0;32m     34\u001b[0m             \u001b[0moutput_unknown_unigrams\u001b[0m\u001b[1;33m,\u001b[0m\u001b[1;33m\u001b[0m\u001b[1;33m\u001b[0m\u001b[0m\n\u001b[1;32m---> 35\u001b[1;33m             \u001b[0mdiscard_punctuation\u001b[0m\u001b[1;33m,\u001b[0m\u001b[1;33m\u001b[0m\u001b[1;33m\u001b[0m\u001b[0m\n\u001b[0m\u001b[0;32m     36\u001b[0m         )\n\u001b[0;32m     37\u001b[0m         \u001b[0mself\u001b[0m\u001b[1;33m.\u001b[0m\u001b[0mpos_filter\u001b[0m \u001b[1;33m=\u001b[0m \u001b[0mpos_filter\u001b[0m\u001b[1;33m\u001b[0m\u001b[1;33m\u001b[0m\u001b[0m\n",
      "\u001b[1;32m~\\AppData\\Local\\Continuum\\anaconda3\\lib\\site-packages\\kss\\pynori\\korean_tokenizer.py\u001b[0m in \u001b[0;36m__init__\u001b[1;34m(self, path_userdict, decompound_mode, infl_decompound_mode, output_unknown_unigrams, discard_punctuation)\u001b[0m\n\u001b[0;32m    105\u001b[0m         )\n\u001b[0;32m    106\u001b[0m         self.kn_dict = KnownDictionary.open(\n\u001b[1;32m--> 107\u001b[1;33m             \u001b[0mPATH_CUR\u001b[0m \u001b[1;33m+\u001b[0m \u001b[1;34m\"/resources/pkl_mecab_csv/mecab_csv.pkl\"\u001b[0m\u001b[1;33m\u001b[0m\u001b[1;33m\u001b[0m\u001b[0m\n\u001b[0m\u001b[0;32m    108\u001b[0m         )\n\u001b[0;32m    109\u001b[0m         self.conn_costs = ConnectionCosts.open(\n",
      "\u001b[1;32m~\\AppData\\Local\\Continuum\\anaconda3\\lib\\site-packages\\kss\\pynori\\dict\\known_dictionary.py\u001b[0m in \u001b[0;36mopen\u001b[1;34m(KNOWN_PATH)\u001b[0m\n\u001b[0;32m     22\u001b[0m             \u001b[1;32mreturn\u001b[0m \u001b[1;32mNone\u001b[0m\u001b[1;33m\u001b[0m\u001b[1;33m\u001b[0m\u001b[0m\n\u001b[0;32m     23\u001b[0m         \u001b[1;32melse\u001b[0m\u001b[1;33m:\u001b[0m\u001b[1;33m\u001b[0m\u001b[1;33m\u001b[0m\u001b[0m\n\u001b[1;32m---> 24\u001b[1;33m             \u001b[1;32mreturn\u001b[0m \u001b[0mKnownDictionary\u001b[0m\u001b[1;33m(\u001b[0m\u001b[0mentries\u001b[0m\u001b[1;33m)\u001b[0m\u001b[1;33m\u001b[0m\u001b[1;33m\u001b[0m\u001b[0m\n\u001b[0m\u001b[0;32m     25\u001b[0m \u001b[1;33m\u001b[0m\u001b[0m\n\u001b[0;32m     26\u001b[0m     \u001b[1;32mdef\u001b[0m \u001b[0m__init__\u001b[0m\u001b[1;33m(\u001b[0m\u001b[0mself\u001b[0m\u001b[1;33m,\u001b[0m \u001b[0mentries\u001b[0m\u001b[1;33m)\u001b[0m\u001b[1;33m:\u001b[0m\u001b[1;33m\u001b[0m\u001b[1;33m\u001b[0m\u001b[0m\n",
      "\u001b[1;31mMemoryError\u001b[0m: "
     ]
    }
   ],
   "source": [
    "!pip install kss\n",
    "\n",
    "import kss\n",
    "print(kss.split_sentences(k_article))"
   ]
  },
  {
   "cell_type": "markdown",
   "metadata": {},
   "source": [
    "8. kss 패키지를 이용하여 문장 토콘화를 수행하고, Okt 패키지를 이용하여 각 문장별로 형태소를 추출하시오."
   ]
  },
  {
   "cell_type": "code",
   "execution_count": 10,
   "metadata": {},
   "outputs": [
    {
     "ename": "SyntaxError",
     "evalue": "invalid syntax (<ipython-input-10-2871eaee59b1>, line 1)",
     "output_type": "error",
     "traceback": [
      "\u001b[1;36m  File \u001b[1;32m\"<ipython-input-10-2871eaee59b1>\"\u001b[1;36m, line \u001b[1;32m1\u001b[0m\n\u001b[1;33m    final=[okt.morphs(sent) for in kss.split_sentences(k_article)]\u001b[0m\n\u001b[1;37m                                 ^\u001b[0m\n\u001b[1;31mSyntaxError\u001b[0m\u001b[1;31m:\u001b[0m invalid syntax\n"
     ]
    }
   ],
   "source": [
    "final=[okt.morphs(sent) for in kss.split_sentences(k_article)]"
   ]
  },
  {
   "cell_type": "code",
   "execution_count": null,
   "metadata": {},
   "outputs": [],
   "source": []
  },
  {
   "cell_type": "code",
   "execution_count": null,
   "metadata": {},
   "outputs": [],
   "source": []
  },
  {
   "cell_type": "code",
   "execution_count": null,
   "metadata": {},
   "outputs": [],
   "source": []
  }
 ],
 "metadata": {
  "kernelspec": {
   "display_name": "Python 3",
   "language": "python",
   "name": "python3"
  },
  "language_info": {
   "codemirror_mode": {
    "name": "ipython",
    "version": 3
   },
   "file_extension": ".py",
   "mimetype": "text/x-python",
   "name": "python",
   "nbconvert_exporter": "python",
   "pygments_lexer": "ipython3",
   "version": "3.7.4"
  }
 },
 "nbformat": 4,
 "nbformat_minor": 4
}
