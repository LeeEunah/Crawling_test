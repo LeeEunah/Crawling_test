{
 "cells": [
  {
   "cell_type": "markdown",
   "metadata": {},
   "source": [
    "# Week 6-4 한글 설치 패키지 확인 Lab"
   ]
  },
  {
   "cell_type": "code",
   "execution_count": null,
   "metadata": {},
   "outputs": [],
   "source": []
  },
  {
   "cell_type": "code",
   "execution_count": null,
   "metadata": {},
   "outputs": [],
   "source": []
  },
  {
   "cell_type": "code",
   "execution_count": null,
   "metadata": {},
   "outputs": [],
   "source": []
  },
  {
   "cell_type": "code",
   "execution_count": null,
   "metadata": {},
   "outputs": [],
   "source": []
  },
  {
   "cell_type": "code",
   "execution_count": null,
   "metadata": {},
   "outputs": [],
   "source": []
  },
  {
   "cell_type": "code",
   "execution_count": null,
   "metadata": {},
   "outputs": [],
   "source": []
  },
  {
   "cell_type": "code",
   "execution_count": null,
   "metadata": {},
   "outputs": [],
   "source": []
  },
  {
   "cell_type": "code",
   "execution_count": null,
   "metadata": {},
   "outputs": [],
   "source": []
  },
  {
   "cell_type": "markdown",
   "metadata": {},
   "source": [
    "다음은 LG 냉장고에 대한 한글 리뷰 2개이다. 다음을 수행하시오."
   ]
  },
  {
   "cell_type": "code",
   "execution_count": 2,
   "metadata": {},
   "outputs": [],
   "source": [
    "review1 = \"이사하는데 냉장고가 없어서 빠른배송 하나보고 구매했네요... 콕 찍힌곳이 한군데 보이긴 하는데...애가아직 어리니 이런건 흠으로도 안보이네요... 근데 냉동실이나 냉장실문 서랍깊이가 낮아서 아이스큼도 자꾸 떨어지고 긴건 놓을수가 없어 불편하네요. 아이가 작은문도 냉장고큰문을 닫는것처럼 닫으니 열려있는 경우도 허다하네요...\"\n",
    "review2 = \"주문하고3일만에도착했어요현관문이작아서베란다창문뜯고냉장고문짝분리해서겨우들어왔네요두분이서친절하게잘설명해주시고설치도너무잘해주시고가셨어요좋네요10년넘게쓰던냉장고드뎌보내줬네요이것도오래쓸수있겠죠\""
   ]
  },
  {
   "cell_type": "code",
   "execution_count": 12,
   "metadata": {},
   "outputs": [
    {
     "name": "stdout",
     "output_type": "stream",
     "text": [
      "['이사하는데 냉장고가 없어서 빠른배송 하나보고 구매했네요...', '콕 찍힌곳이 한군데 보이긴 하는데...', '애가아직 어리니 이런건 흠으로도 안보이네요...', '근데 냉동실이나 냉장실문 서랍깊이가 낮아서 아이스큼도 자꾸 떨어지고 긴건 놓을수가 없어 불편하네요.', '아이가 작은문도 냉장고큰문을 닫는것처럼 닫으니 열려있는 경우도 허다하네요...']\n"
     ]
    }
   ],
   "source": [
    "import kss\n",
    "\n",
    "print(kss.split_sentences(review1))"
   ]
  },
  {
   "cell_type": "code",
   "execution_count": 13,
   "metadata": {},
   "outputs": [
    {
     "name": "stdout",
     "output_type": "stream",
     "text": [
      "['주문하고3일만에도착했어요', '현관문이작아서베란다창문뜯고냉장고문짝분리해서겨우들어왔네요', '두분이서친절하게잘설명해주시고설치도너무잘해주시고가셨어요', '좋네요10년넘게쓰던냉장고드뎌보내줬네요', '이것도오래쓸수있겠죠']\n"
     ]
    }
   ],
   "source": [
    "import kss\n",
    "\n",
    "review1\n",
    "print(kss.split_sentences(review2))"
   ]
  },
  {
   "cell_type": "code",
   "execution_count": 14,
   "metadata": {},
   "outputs": [
    {
     "name": "stdout",
     "output_type": "stream",
     "text": [
      "<class 'hanspell.response.Checked'>\n"
     ]
    }
   ],
   "source": [
    "from hanspell import spell_checker\n",
    "\n",
    "print(type(spell_checker.check(review1)))"
   ]
  },
  {
   "cell_type": "code",
   "execution_count": 15,
   "metadata": {},
   "outputs": [
    {
     "name": "stdout",
     "output_type": "stream",
     "text": [
      "<class 'hanspell.response.Checked'>\n"
     ]
    }
   ],
   "source": [
    "from hanspell import spell_checker\n",
    "\n",
    "print(type(spell_checker.check(review2)))"
   ]
  },
  {
   "cell_type": "code",
   "execution_count": 16,
   "metadata": {},
   "outputs": [
    {
     "name": "stdout",
     "output_type": "stream",
     "text": [
      "Checked(result=True, original='이사하는데 냉장고가 없어서 빠른배송 하나보고 구매했네요... 콕 찍힌곳이 한군데 보이긴 하는데...애가아직 어리니 이런건 흠으로도 안보이네요... 근데 냉동실이나 냉장실문 서랍깊이가 낮아서 아이스큼도 자꾸 떨어지고 긴건 놓을수가 없어 불편하네요. 아이가 작은문도 냉장고큰문을 닫는것처럼 닫으니 열려있는 경우도 허다하네요...', checked='이사하는데 냉장고가 없어서 빠른 배송 하나 보고 구매했네요... 콕 찍힌 곳이 한군데 보이긴 하는데... 애가 아직 어리니 이런 건 흠으로도 안 보이네요... 근데 냉동실이나 냉장실 문 서랍 깊이가 낮아서 아이스 큼도 자꾸 떨어지고 긴 건 놓을 수가 없어 불편하네요. 아이가 작은 문도 냉장고 큰문을 닫는 것처럼 닫으니 열려있는 경우도 허다하네요...', errors=14, words=OrderedDict([('이사하는데', 0), ('냉장고가', 0), ('없어서', 0), ('빠른', 2), ('배송', 2), ('하나', 2), ('보고', 2), ('구매했네요...', 0), ('콕', 0), ('찍힌', 2), ('곳이', 2), ('한군데', 0), ('보이긴', 0), ('하는데...', 2), ('애가', 2), ('아직', 2), ('어리니', 0), ('이런', 2), ('건', 2), ('흠으로도', 0), ('안', 2), ('보이네요...', 2), ('근데', 0), ('냉동실이나', 0), ('냉장실', 2), ('문', 2), ('서랍', 2), ('깊이가', 2), ('낮아서', 0), ('아이스', 2), ('큼도', 2), ('자꾸', 0), ('떨어지고', 0), ('긴', 2), ('놓을', 2), ('수가', 2), ('없어', 0), ('불편하네요.', 0), ('아이가', 0), ('작은', 2), ('문도', 2), ('냉장고', 2), ('큰문을', 2), ('닫는', 2), ('것처럼', 2), ('닫으니', 0), ('열려있는', 0), ('경우도', 0), ('허다하네요...', 0)]), time=0.14357233047485352)\n"
     ]
    }
   ],
   "source": [
    "print(spell_checker.check(review1))"
   ]
  },
  {
   "cell_type": "markdown",
   "metadata": {},
   "source": [
    "2. kss를 이용하여 문장 토큰화를 수행하시오."
   ]
  },
  {
   "cell_type": "code",
   "execution_count": 17,
   "metadata": {},
   "outputs": [
    {
     "name": "stdout",
     "output_type": "stream",
     "text": [
      "Checked(result=True, original='주문하고3일만에도착했어요현관문이작아서베란다창문뜯고냉장고문짝분리해서겨우들어왔네요두분이서친절하게잘설명해주시고설치도너무잘해주시고가셨어요좋네요10년넘게쓰던냉장고드뎌보내줬네요이것도오래쓸수있겠죠', checked='주문하고 3일 만에 도착했어요 현관문이 작아서 베란다 창문 뜯고 냉장고 문짝 분리해서 겨우 들어왔네요 두 분이서 친절하게 잘 설명해주시고 설치도 너무 잘해주시고 가셨어요 좋네요 10년 넘게 쓰던 냉장고 드디어 보내줬네요 이것도 오래 쓸 수 있겠죠', errors=1, words=OrderedDict([('주문하고', 1), ('3일', 1), ('만에', 1), ('도착했어요', 1), ('현관문이', 1), ('작아서', 1), ('베란다', 1), ('창문', 1), ('뜯고', 1), ('냉장고', 1), ('문짝', 1), ('분리해서', 1), ('겨우', 1), ('들어왔네요', 1), ('두', 1), ('분이서', 1), ('친절하게', 1), ('잘', 1), ('설명해주시고', 1), ('설치도', 1), ('너무', 1), ('잘해주시고', 1), ('가셨어요', 1), ('좋네요', 1), ('10년', 1), ('넘게', 1), ('쓰던', 1), ('드디어', 1), ('보내줬네요', 1), ('이것도', 1), ('오래', 1), ('쓸', 1), ('수', 1), ('있겠죠', 1)]), time=0.16259980201721191)\n"
     ]
    }
   ],
   "source": [
    "print(spell_checker.check(review2))"
   ]
  },
  {
   "cell_type": "markdown",
   "metadata": {},
   "source": [
    "3. hanspell을 이용해서 두 리뷰에 대한 문법을 수정하시오."
   ]
  },
  {
   "cell_type": "code",
   "execution_count": 18,
   "metadata": {},
   "outputs": [
    {
     "name": "stdout",
     "output_type": "stream",
     "text": [
      "이사하는데 냉장고가 없어서 빠른배송 하나보고 구매했네요... 콕 찍힌곳이 한군데 보이긴 하는데...애가아직 어리니 이런건 흠으로도 안보이네요... 근데 냉동실이나 냉장실문 서랍깊이가 낮아서 아이스큼도 자꾸 떨어지고 긴건 놓을수가 없어 불편하네요. 아이가 작은문도 냉장고큰문을 닫는것처럼 닫으니 열려있는 경우도 허다하네요...\n",
      "\n",
      "이사하는데 냉장고가 없어서 빠른 배송 하나 보고 구매했네요... 콕 찍힌 곳이 한군데 보이긴 하는데... 애가 아직 어리니 이런 건 흠으로도 안 보이네요... 근데 냉동실이나 냉장실 문 서랍 깊이가 낮아서 아이스 큼도 자꾸 떨어지고 긴 건 놓을 수가 없어 불편하네요. 아이가 작은 문도 냉장고 큰문을 닫는 것처럼 닫으니 열려있는 경우도 허다하네요...\n"
     ]
    }
   ],
   "source": [
    "review1_spell=spell_checker.check(review1).checked\n",
    "print(review1+\"\\n\")\n",
    "print(review1_spell)"
   ]
  },
  {
   "cell_type": "code",
   "execution_count": 19,
   "metadata": {},
   "outputs": [
    {
     "name": "stdout",
     "output_type": "stream",
     "text": [
      "주문하고3일만에도착했어요현관문이작아서베란다창문뜯고냉장고문짝분리해서겨우들어왔네요두분이서친절하게잘설명해주시고설치도너무잘해주시고가셨어요좋네요10년넘게쓰던냉장고드뎌보내줬네요이것도오래쓸수있겠죠\n",
      "\n",
      "주문하고 3일 만에 도착했어요 현관문이 작아서 베란다 창문 뜯고 냉장고 문짝 분리해서 겨우 들어왔네요 두 분이서 친절하게 잘 설명해주시고 설치도 너무 잘해주시고 가셨어요 좋네요 10년 넘게 쓰던 냉장고 드디어 보내줬네요 이것도 오래 쓸 수 있겠죠\n"
     ]
    }
   ],
   "source": [
    "review2_spell=spell_checker.check(review2).checked\n",
    "print(review2+\"\\n\")\n",
    "print(review2_spell)"
   ]
  },
  {
   "cell_type": "code",
   "execution_count": null,
   "metadata": {},
   "outputs": [],
   "source": []
  }
 ],
 "metadata": {
  "kernelspec": {
   "display_name": "Python 3",
   "language": "python",
   "name": "python3"
  },
  "language_info": {
   "codemirror_mode": {
    "name": "ipython",
    "version": 3
   },
   "file_extension": ".py",
   "mimetype": "text/x-python",
   "name": "python",
   "nbconvert_exporter": "python",
   "pygments_lexer": "ipython3",
   "version": "3.7.4"
  }
 },
 "nbformat": 4,
 "nbformat_minor": 4
}
