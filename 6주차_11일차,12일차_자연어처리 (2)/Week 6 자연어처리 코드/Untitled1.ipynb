{
 "cells": [
  {
   "cell_type": "code",
   "execution_count": 1,
   "metadata": {},
   "outputs": [
    {
     "data": {
      "text/plain": [
       "0       [['맞벌이하는 집들 보니 아내쪽에서 일을 더 많이 분담하기는 하더라고요.. 그렇다...\n",
       "1       [['정말 속상하실꺼 같아요 사람은 고쳐쓰는거 아니라지만, 평생을 살 사람인데 그저...\n",
       "2       [['엄마는 집안일 하는데 아빠는 아이 보는것도 아니고 누워서 핸드폰만 하고 있다 ...\n",
       "3       [[\"저도 30분이나 한시간 정도 보여줘요~ 그게 제가 저녁 준비하고 쉬는 시간이긴...\n",
       "4       [['ㅠㅠ.. 짜증날거같기는해요... 힘내세요..!!!'], ['그래도 챙겨주시네요...\n",
       "                              ...                        \n",
       "2695    [['우리집도 여자들 긴 머리카락들이 장난 아니거든요. 외출하면서 로봇청소기 한 번...\n",
       "2696    [['아..저도 대만건물들이 노후된건물들이 많다는데는 동감합니다. 근데 아다르고 어...\n",
       "2697    [['아이 한글정도는 아빠가 혹은 둘째랑 놀아주는것도 날짜요일분담하시는게..힘들어서...\n",
       "2698    [['설거지 간편하게 김치랑 밥만주세요 \\n제새끼품고있믄데 저거하나한다고 생색은^^...\n",
       "2699    [['소고기적이랑 현미곤약떡 넘 맛있어보여요♡수고하셨어요..남은 운동도 화이팅이요....\n",
       "Name: comment, Length: 2700, dtype: object"
      ]
     },
     "execution_count": 1,
     "metadata": {},
     "output_type": "execute_result"
    }
   ],
   "source": [
    "import pandas as pd\n",
    "import matplotlib.pyplot as plt\n",
    "import seaborn as sns\n",
    "import os\n",
    "\n",
    "os.chdir(r'C:\\Users\\Administrator\\Downloads\\과제\\2주차 3일차 4일차 원본 (2)')\n",
    "review_df=pd.read_csv(\"cafe_view_data.csv\")\n",
    "review_df['comment']"
   ]
  },
  {
   "cell_type": "code",
   "execution_count": 2,
   "metadata": {},
   "outputs": [],
   "source": [
    "import re\n",
    "\n",
    "p=re.compile(\"[^가-힣ㄱ-ㅎㅏ-ㅣA-Za-z0-9_.,!?]+\")\n",
    "\n",
    "review_df['comment']=review_df['comment'].apply(lambda x: p.sub(\" \",x))"
   ]
  },
  {
   "cell_type": "code",
   "execution_count": 3,
   "metadata": {},
   "outputs": [
    {
     "data": {
      "text/plain": [
       "0        맞벌이하는 집들 보니 아내쪽에서 일을 더 많이 분담하기는 하더라고요.. 그렇다고 ...\n",
       "1        정말 속상하실꺼 같아요 사람은 고쳐쓰는거 아니라지만, 평생을 살 사람인데 그저 허...\n",
       "2        엄마는 집안일 하는데 아빠는 아이 보는것도 아니고 누워서 핸드폰만 하고 있다 이런...\n",
       "3        저도 30분이나 한시간 정도 보여줘요 그게 제가 저녁 준비하고 쉬는 시간이긴 하고...\n",
       "4        ㅠㅠ.. 짜증날거같기는해요... 힘내세요..!!! , 그래도 챙겨주시네요...맘이...\n",
       "                              ...                        \n",
       "2695     우리집도 여자들 긴 머리카락들이 장난 아니거든요. 외출하면서 로봇청소기 한 번 가...\n",
       "2696     아..저도 대만건물들이 노후된건물들이 많다는데는 동감합니다. 근데 아다르고 어다르...\n",
       "2697     아이 한글정도는 아빠가 혹은 둘째랑 놀아주는것도 날짜요일분담하시는게..힘들어서.....\n",
       "2698     설거지 간편하게 김치랑 밥만주세요 n제새끼품고있믄데 저거하나한다고 생색은 김과 밥...\n",
       "2699     소고기적이랑 현미곤약떡 넘 맛있어보여요 수고하셨어요..남은 운동도 화이팅이요. ,...\n",
       "Name: comment, Length: 2700, dtype: object"
      ]
     },
     "execution_count": 3,
     "metadata": {},
     "output_type": "execute_result"
    }
   ],
   "source": [
    "review_df['comment']"
   ]
  },
  {
   "cell_type": "code",
   "execution_count": null,
   "metadata": {},
   "outputs": [
    {
     "name": "stderr",
     "output_type": "stream",
     "text": [
      "[Korean Sentence Splitter]: Initializing Pynori...\n"
     ]
    }
   ],
   "source": [
    "import kss\n",
    "\n",
    "review_df['comment_n']=review_df['comment'].apply(lambda x: kss.split_sentences(x,num_workers=1))"
   ]
  },
  {
   "cell_type": "code",
   "execution_count": null,
   "metadata": {},
   "outputs": [],
   "source": [
    "review_df['comment_n']"
   ]
  },
  {
   "cell_type": "code",
   "execution_count": null,
   "metadata": {},
   "outputs": [],
   "source": [
    "import re\n",
    "\n",
    "def remove_num(sent_list):\n",
    "    p=re.compile(\"[0-9]+\")\n",
    "    sent_n_remove=[]\n",
    "    for sentence in sent_list:\n",
    "        sent_n_remove.append(p.sub(\" \", sentence))\n",
    "    return(sent_n_remove)\n",
    "\n",
    "review_df['comment_n']=review_df['comment_n'].apply(lambda x: remove_num(x))"
   ]
  },
  {
   "cell_type": "code",
   "execution_count": null,
   "metadata": {},
   "outputs": [],
   "source": []
  }
 ],
 "metadata": {
  "kernelspec": {
   "display_name": "Python 3",
   "language": "python",
   "name": "python3"
  },
  "language_info": {
   "codemirror_mode": {
    "name": "ipython",
    "version": 3
   },
   "file_extension": ".py",
   "mimetype": "text/x-python",
   "name": "python",
   "nbconvert_exporter": "python",
   "pygments_lexer": "ipython3",
   "version": "3.7.4"
  }
 },
 "nbformat": 4,
 "nbformat_minor": 2
}
