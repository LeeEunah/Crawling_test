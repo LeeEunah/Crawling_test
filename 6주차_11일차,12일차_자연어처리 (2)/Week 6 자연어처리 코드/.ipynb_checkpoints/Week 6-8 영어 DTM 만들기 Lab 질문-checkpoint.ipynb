{
 "cells": [
  {
   "cell_type": "markdown",
   "metadata": {},
   "source": [
    "# Week 6-8 영어 DTM 만들기 Lab"
   ]
  },
  {
   "cell_type": "markdown",
   "metadata": {},
   "source": [
    "1. smartthings_e_review_result.csv 파일을 열어서 review_df에 저장하시오."
   ]
  },
  {
   "cell_type": "code",
   "execution_count": 1,
   "metadata": {},
   "outputs": [
    {
     "data": {
      "text/html": [
       "<div>\n",
       "<style scoped>\n",
       "    .dataframe tbody tr th:only-of-type {\n",
       "        vertical-align: middle;\n",
       "    }\n",
       "\n",
       "    .dataframe tbody tr th {\n",
       "        vertical-align: top;\n",
       "    }\n",
       "\n",
       "    .dataframe thead th {\n",
       "        text-align: right;\n",
       "    }\n",
       "</style>\n",
       "<table border=\"1\" class=\"dataframe\">\n",
       "  <thead>\n",
       "    <tr style=\"text-align: right;\">\n",
       "      <th></th>\n",
       "      <th>date</th>\n",
       "      <th>star</th>\n",
       "      <th>like</th>\n",
       "      <th>comment</th>\n",
       "      <th>comment_n</th>\n",
       "    </tr>\n",
       "  </thead>\n",
       "  <tbody>\n",
       "    <tr>\n",
       "      <td>0</td>\n",
       "      <td>September 19, 2021</td>\n",
       "      <td>1</td>\n",
       "      <td>15.0</td>\n",
       "      <td>Really unbelievable you can't even turn on a S...</td>\n",
       "      <td>['really', 'unbelievable', 'even', 'turn', 'sa...</td>\n",
       "    </tr>\n",
       "    <tr>\n",
       "      <td>1</td>\n",
       "      <td>September 17, 2021</td>\n",
       "      <td>1</td>\n",
       "      <td>12.0</td>\n",
       "      <td>This app is so bad. It continually and randoml...</td>\n",
       "      <td>['app', 'bad', 'continually', 'randomly', 'tra...</td>\n",
       "    </tr>\n",
       "    <tr>\n",
       "      <td>2</td>\n",
       "      <td>September 17, 2021</td>\n",
       "      <td>2</td>\n",
       "      <td>11.0</td>\n",
       "      <td>I have this app on Android and iOS. It will no...</td>\n",
       "      <td>['app', 'android', 'io', 'allow', 'add', 'phot...</td>\n",
       "    </tr>\n",
       "    <tr>\n",
       "      <td>3</td>\n",
       "      <td>September 15, 2021</td>\n",
       "      <td>2</td>\n",
       "      <td>15.0</td>\n",
       "      <td>Watch app does not sync current state status f...</td>\n",
       "      <td>['watch', 'app', 'sync', 'current', 'state', '...</td>\n",
       "    </tr>\n",
       "    <tr>\n",
       "      <td>4</td>\n",
       "      <td>September 11, 2021</td>\n",
       "      <td>1</td>\n",
       "      <td>8.0</td>\n",
       "      <td>Unable to add my hue lights, every function co...</td>\n",
       "      <td>['unable', 'add', 'hue', 'light', 'every', 'fu...</td>\n",
       "    </tr>\n",
       "    <tr>\n",
       "      <td>...</td>\n",
       "      <td>...</td>\n",
       "      <td>...</td>\n",
       "      <td>...</td>\n",
       "      <td>...</td>\n",
       "      <td>...</td>\n",
       "    </tr>\n",
       "    <tr>\n",
       "      <td>10955</td>\n",
       "      <td>November 16, 2019</td>\n",
       "      <td>1</td>\n",
       "      <td>NaN</td>\n",
       "      <td>Wont connect to my Samsung tv. Using samsung p...</td>\n",
       "      <td>['wont', 'connect', 'samsung', 'tv', 'using', ...</td>\n",
       "    </tr>\n",
       "    <tr>\n",
       "      <td>10956</td>\n",
       "      <td>December 12, 2020</td>\n",
       "      <td>3</td>\n",
       "      <td>NaN</td>\n",
       "      <td>This is good but have one issue with 4D-pad wh...</td>\n",
       "      <td>['good', 'one', 'issue', 'pad', 'app', 'go', '...</td>\n",
       "    </tr>\n",
       "    <tr>\n",
       "      <td>10957</td>\n",
       "      <td>December 14, 2019</td>\n",
       "      <td>1</td>\n",
       "      <td>NaN</td>\n",
       "      <td>App crashes and stops. Removed, reinstall, try...</td>\n",
       "      <td>['app', 'crash', 'stop', 'removed', 'reinstall...</td>\n",
       "    </tr>\n",
       "    <tr>\n",
       "      <td>10958</td>\n",
       "      <td>January 17, 2019</td>\n",
       "      <td>1</td>\n",
       "      <td>NaN</td>\n",
       "      <td>since this smart things came in they took the ...</td>\n",
       "      <td>['since', 'smart', 'thing', 'came', 'took', 'q...</td>\n",
       "    </tr>\n",
       "    <tr>\n",
       "      <td>10959</td>\n",
       "      <td>January 8, 2020</td>\n",
       "      <td>4</td>\n",
       "      <td>NaN</td>\n",
       "      <td>It is good, you can do a lot, wish if they can...</td>\n",
       "      <td>['good', 'lot', 'wish', 'add', 'flexibility', ...</td>\n",
       "    </tr>\n",
       "  </tbody>\n",
       "</table>\n",
       "<p>10960 rows × 5 columns</p>\n",
       "</div>"
      ],
      "text/plain": [
       "                     date  star  like  \\\n",
       "0      September 19, 2021     1  15.0   \n",
       "1      September 17, 2021     1  12.0   \n",
       "2      September 17, 2021     2  11.0   \n",
       "3      September 15, 2021     2  15.0   \n",
       "4      September 11, 2021     1   8.0   \n",
       "...                   ...   ...   ...   \n",
       "10955   November 16, 2019     1   NaN   \n",
       "10956   December 12, 2020     3   NaN   \n",
       "10957   December 14, 2019     1   NaN   \n",
       "10958    January 17, 2019     1   NaN   \n",
       "10959     January 8, 2020     4   NaN   \n",
       "\n",
       "                                                 comment  \\\n",
       "0      Really unbelievable you can't even turn on a S...   \n",
       "1      This app is so bad. It continually and randoml...   \n",
       "2      I have this app on Android and iOS. It will no...   \n",
       "3      Watch app does not sync current state status f...   \n",
       "4      Unable to add my hue lights, every function co...   \n",
       "...                                                  ...   \n",
       "10955  Wont connect to my Samsung tv. Using samsung p...   \n",
       "10956  This is good but have one issue with 4D-pad wh...   \n",
       "10957  App crashes and stops. Removed, reinstall, try...   \n",
       "10958  since this smart things came in they took the ...   \n",
       "10959  It is good, you can do a lot, wish if they can...   \n",
       "\n",
       "                                               comment_n  \n",
       "0      ['really', 'unbelievable', 'even', 'turn', 'sa...  \n",
       "1      ['app', 'bad', 'continually', 'randomly', 'tra...  \n",
       "2      ['app', 'android', 'io', 'allow', 'add', 'phot...  \n",
       "3      ['watch', 'app', 'sync', 'current', 'state', '...  \n",
       "4      ['unable', 'add', 'hue', 'light', 'every', 'fu...  \n",
       "...                                                  ...  \n",
       "10955  ['wont', 'connect', 'samsung', 'tv', 'using', ...  \n",
       "10956  ['good', 'one', 'issue', 'pad', 'app', 'go', '...  \n",
       "10957  ['app', 'crash', 'stop', 'removed', 'reinstall...  \n",
       "10958  ['since', 'smart', 'thing', 'came', 'took', 'q...  \n",
       "10959  ['good', 'lot', 'wish', 'add', 'flexibility', ...  \n",
       "\n",
       "[10960 rows x 5 columns]"
      ]
     },
     "execution_count": 1,
     "metadata": {},
     "output_type": "execute_result"
    }
   ],
   "source": [
    "import os\n",
    "import pandas as pd\n",
    "\n",
    "os.chdir(r'C:\\Users\\Administrator\\Downloads\\6주차_11일차,12일차_자연어처리\\Week6 자연어처리 Data')\n",
    "review_df=pd.read_csv(\"smartthings_e_review_result.csv\")\n",
    "\n",
    "review_df"
   ]
  },
  {
   "cell_type": "code",
   "execution_count": 2,
   "metadata": {},
   "outputs": [
    {
     "data": {
      "text/plain": [
       "\"['really', 'unbelievable', 'even', 'turn', 'samsung', 'television', 'samsung', 'phone', 'absolutely', 'user', 'friendly', 'time', 'figured', 'forgot', 'next', 'time', 'glitchy', 'never', 'hold', 'setting', 'automation', 'work', 'correctly', 'interface', 'say', 'even', 'bixby', 'full', 'review']\""
      ]
     },
     "execution_count": 2,
     "metadata": {},
     "output_type": "execute_result"
    }
   ],
   "source": [
    "review_df.loc[0,'comment_n']"
   ]
  },
  {
   "cell_type": "code",
   "execution_count": 3,
   "metadata": {},
   "outputs": [
    {
     "data": {
      "text/plain": [
       "['really',\n",
       " 'unbelievable',\n",
       " 'even',\n",
       " 'turn',\n",
       " 'samsung',\n",
       " 'television',\n",
       " 'samsung',\n",
       " 'phone',\n",
       " 'absolutely',\n",
       " 'user',\n",
       " 'friendly',\n",
       " 'time',\n",
       " 'figured',\n",
       " 'forgot',\n",
       " 'next',\n",
       " 'time',\n",
       " 'glitchy',\n",
       " 'never',\n",
       " 'hold',\n",
       " 'setting',\n",
       " 'automation',\n",
       " 'work',\n",
       " 'correctly',\n",
       " 'interface',\n",
       " 'say',\n",
       " 'even',\n",
       " 'bixby',\n",
       " 'full',\n",
       " 'review']"
      ]
     },
     "execution_count": 3,
     "metadata": {},
     "output_type": "execute_result"
    }
   ],
   "source": [
    "eval(review_df.loc[0,'comment_n'])"
   ]
  },
  {
   "cell_type": "markdown",
   "metadata": {},
   "source": [
    "2. comment_n 컬럼값을 리스트로 변환하고 다시 하나의 문자열로 만들어서 comment_n_str 컬럼을 추가하시오."
   ]
  },
  {
   "cell_type": "markdown",
   "metadata": {},
   "source": [
    "3. commnet_n_str 컬럼을 사용하여 CountVectorizer를 이용하여 DTM를 생성하시오."
   ]
  },
  {
   "cell_type": "markdown",
   "metadata": {},
   "source": [
    "4. commnet_n_str 컬럼을 사용하여 TfidfVectorizer를 이용하여 DTM를 생성하시오."
   ]
  }
 ],
 "metadata": {
  "kernelspec": {
   "display_name": "Python 3",
   "language": "python",
   "name": "python3"
  },
  "language_info": {
   "codemirror_mode": {
    "name": "ipython",
    "version": 3
   },
   "file_extension": ".py",
   "mimetype": "text/x-python",
   "name": "python",
   "nbconvert_exporter": "python",
   "pygments_lexer": "ipython3",
   "version": "3.7.4"
  }
 },
 "nbformat": 4,
 "nbformat_minor": 4
}
