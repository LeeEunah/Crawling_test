{
 "cells": [
  {
   "cell_type": "markdown",
   "metadata": {},
   "source": [
    "# Week 6-7 한글 리뷰 데이터 전처리_명사_형용사_동사_영어단어 추출 포함버전"
   ]
  },
  {
   "cell_type": "code",
   "execution_count": 2,
   "metadata": {},
   "outputs": [],
   "source": [
    "# 예시 리뷰\n",
    "review1=\"\"\"\n",
    "업그레이드 후 에어컨 연결이 자주 끊기고,, 에어컨 삭제후 재등록해도 마찬가지이고,, 작년부터 쌓였던 데이터는 다 날라가고,,,사용은 블편하고,, 향편없네요. 앞으로 업그레이드는 층분히 안정화 한다음 시행하세요. 그리고, 고객이 과거버전도 일정기간(가전은 1년정도 더) 그냥 사용하게 해주세요. 효용없는 업그레이드보다는 고객은 안정적 사용을 더 중요하게 생각하는 사람도 많습니다.\n",
    "\"\"\""
   ]
  },
  {
   "cell_type": "code",
   "execution_count": 3,
   "metadata": {},
   "outputs": [
    {
     "data": {
      "text/plain": [
       "['업그레이드 후 에어컨 연결이 자주 끊기고,, 에어컨 삭제후 재등록해도 마찬가지이고,, 작년부터 쌓였던 데이터는 다 날라가고,,,사용은 블편하고,, 향편없네요.',\n",
       " '앞으로 업그레이드는 층분히 안정화 한다음 시행하세요.',\n",
       " '그리고, 고객이 과거버전도 일정기간(가전은 1년정도 더) 그냥 사용하게 해주세요.',\n",
       " '효용없는 업그레이드보다는 고객은 안정적 사용을 더 중요하게 생각하는 사람도 많습니다.']"
      ]
     },
     "execution_count": 3,
     "metadata": {},
     "output_type": "execute_result"
    }
   ],
   "source": [
    "# 문장 분리\n",
    "import kss\n",
    "\n",
    "review1_split=kss.split_sentences(review1)\n",
    "review1_split"
   ]
  },
  {
   "cell_type": "code",
   "execution_count": 4,
   "metadata": {},
   "outputs": [
    {
     "data": {
      "text/plain": [
       "['업그레이드 후 에어컨 연결이 자주 끊기고,, 에어컨 삭제 후 재등록해도 마찬가지이고,, 작년부터 쌓였던 데이터는 다 날아가고,,, 사용은 불편하고,, 향 편 없네요.',\n",
       " '앞으로 업그레이드는 층분히 안정화한 다음 시행하세요.',\n",
       " '그리고, 고객이 과거 버전도 일정 기간(가전은 1년 정도 더) 그냥 사용하게 해주세요.',\n",
       " '효용 없는 업그레이드보다는 고객은 안정적 사용을 더 중요하게 생각하는 사람도 많습니다.']"
      ]
     },
     "execution_count": 4,
     "metadata": {},
     "output_type": "execute_result"
    }
   ],
   "source": [
    "from hanspell import spell_checker\n",
    "review1_checked=list(map((lambda x:spell_checker.check(x).checked),review1_split))\n",
    "review1_checked"
   ]
  },
  {
   "cell_type": "code",
   "execution_count": 5,
   "metadata": {},
   "outputs": [
    {
     "data": {
      "text/plain": [
       "0        추가정보등록은 앱설정에서 충분히 할수있음에도 굳이 기기화면마다 상단배치하여 끈질기게...\n",
       "1        그냥 엘지제품은 리모컨만 사용하는것이 정신 건강에 좋을 듯합니다 앱에서 제품삭제하고...\n",
       "2        퓨리케어 공기청정기 1단짜리 사용 중인데 언제부터 어플에서 공기청정기 수치 표시가 ...\n",
       "3        에너지모니터링 . 지난달 대비 사용량... 이전달하고 이번달하고 바꼈다. 보기는 했...\n",
       "4        LG엡만.서비스오작동기능들이잘안되고짜증나네.통신사이동하고삼성단말기로교체해야것네. 별...\n",
       "                               ...                        \n",
       "11374                                              좋아요....\n",
       "11375                                               좋아요~~~\n",
       "11376                                               굿뜨~~~♡\n",
       "11377                                                  굿~~\n",
       "11378                                             좋아요👍👍👍👍👍\n",
       "Name: comment, Length: 11379, dtype: object"
      ]
     },
     "execution_count": 5,
     "metadata": {},
     "output_type": "execute_result"
    }
   ],
   "source": [
    "import pandas as pd\n",
    "import matplotlib.pyplot as plt\n",
    "import seaborn as sns\n",
    "import os\n",
    "\n",
    "os.chdir('C:\\jwkim\\lecture\\LG전자_22')\n",
    "review_df=pd.read_csv(\"thinq_review.csv\")\n",
    "review_df['comment']"
   ]
  },
  {
   "cell_type": "code",
   "execution_count": 6,
   "metadata": {},
   "outputs": [],
   "source": [
    "# 문장 분리\n",
    "import kss\n",
    "\n",
    "review_df['comment_n']=review_df['comment'].apply(lambda x: kss.split_sentences(x))"
   ]
  },
  {
   "cell_type": "code",
   "execution_count": 7,
   "metadata": {},
   "outputs": [
    {
     "data": {
      "text/plain": [
       "0        [추가정보등록은 앱설정에서 충분히 할수있음에도 굳이 기기화면마다 상단배치하여 끈질기...\n",
       "1        [그냥 엘지제품은 리모컨만 사용하는것이 정신 건강에 좋을 듯합니다, 앱에서 제품삭제...\n",
       "2        [퓨리케어 공기청정기 1단짜리 사용 중인데 언제부터 어플에서 공기청정기 수치 표시가...\n",
       "3        [에너지모니터링 . 지난달 대비 사용량... 이전달하고 이번달하고 바꼈다., 보기는...\n",
       "4        [LG엡만.서비스오작동기능들이잘안되고짜증나네., 통신사이동하고삼성단말기로교체해야것네...\n",
       "                               ...                        \n",
       "11374                                            [좋아요....]\n",
       "11375                                             [좋아요~~~]\n",
       "11376                                             [굿뜨~~~♡]\n",
       "11377                                                [굿~~]\n",
       "11378                                           [좋아요👍👍👍👍👍]\n",
       "Name: comment_n, Length: 11379, dtype: object"
      ]
     },
     "execution_count": 7,
     "metadata": {},
     "output_type": "execute_result"
    }
   ],
   "source": [
    "review_df['comment_n']"
   ]
  },
  {
   "cell_type": "code",
   "execution_count": 8,
   "metadata": {},
   "outputs": [],
   "source": [
    "# 숫자 제거\n",
    "import re\n",
    "\n",
    "def remove_num(sent_list):\n",
    "    p=re.compile(\"[0-9]+\")\n",
    "    sent_n_remove=[]\n",
    "    for sentence in sent_list:\n",
    "        sent_n_remove.append(p.sub(\" \", sentence))\n",
    "    return(sent_n_remove)\n",
    "\n",
    "review_df['comment_n']=review_df['comment_n'].apply(lambda x: remove_num(x))"
   ]
  },
  {
   "cell_type": "code",
   "execution_count": 9,
   "metadata": {},
   "outputs": [
    {
     "data": {
      "text/plain": [
       "0        [추가정보등록은 앱설정에서 충분히 할수있음에도 굳이 기기화면마다 상단배치하여 끈질기...\n",
       "1        [그냥 엘지제품은 리모컨만 사용하는것이 정신 건강에 좋을 듯합니다, 앱에서 제품삭제...\n",
       "2        [퓨리케어 공기청정기  단짜리 사용 중인데 언제부터 어플에서 공기청정기 수치 표시가...\n",
       "3        [에너지모니터링 . 지난달 대비 사용량... 이전달하고 이번달하고 바꼈다., 보기는...\n",
       "4        [LG엡만.서비스오작동기능들이잘안되고짜증나네., 통신사이동하고삼성단말기로교체해야것네...\n",
       "                               ...                        \n",
       "11374                                            [좋아요....]\n",
       "11375                                             [좋아요~~~]\n",
       "11376                                             [굿뜨~~~♡]\n",
       "11377                                                [굿~~]\n",
       "11378                                           [좋아요👍👍👍👍👍]\n",
       "Name: comment_n, Length: 11379, dtype: object"
      ]
     },
     "execution_count": 9,
     "metadata": {},
     "output_type": "execute_result"
    }
   ],
   "source": [
    "review_df['comment_n']"
   ]
  },
  {
   "cell_type": "code",
   "execution_count": 10,
   "metadata": {},
   "outputs": [],
   "source": [
    "# 문장 부호, 특수 문자 제거\n",
    "\n",
    "def remove_punc(sent_list):\n",
    "    p=re.compile(\"\\W+\")\n",
    "    sent_n_remove=[]\n",
    "    for sentence in sent_list:\n",
    "        sent_n_remove.append(p.sub(\" \", sentence))\n",
    "    return(sent_n_remove)\n",
    "\n",
    "review_df['comment_n']=review_df['comment_n'].apply(lambda x: remove_punc(x))"
   ]
  },
  {
   "cell_type": "code",
   "execution_count": 11,
   "metadata": {},
   "outputs": [
    {
     "data": {
      "text/plain": [
       "0        [추가정보등록은 앱설정에서 충분히 할수있음에도 굳이 기기화면마다 상단배치하여 끈질기...\n",
       "1        [그냥 엘지제품은 리모컨만 사용하는것이 정신 건강에 좋을 듯합니다, 앱에서 제품삭제...\n",
       "2        [퓨리케어 공기청정기 단짜리 사용 중인데 언제부터 어플에서 공기청정기 수치 표시가 ...\n",
       "3        [에너지모니터링 지난달 대비 사용량 이전달하고 이번달하고 바꼈다 , 보기는 했는지 ...\n",
       "4        [LG엡만 서비스오작동기능들이잘안되고짜증나네 , 통신사이동하고삼성단말기로교체해야것네...\n",
       "                               ...                        \n",
       "11374                                               [좋아요 ]\n",
       "11375                                               [좋아요 ]\n",
       "11376                                                [굿뜨 ]\n",
       "11377                                                 [굿 ]\n",
       "11378                                               [좋아요 ]\n",
       "Name: comment_n, Length: 11379, dtype: object"
      ]
     },
     "execution_count": 11,
     "metadata": {},
     "output_type": "execute_result"
    }
   ],
   "source": [
    "review_df['comment_n']"
   ]
  },
  {
   "cell_type": "code",
   "execution_count": 12,
   "metadata": {},
   "outputs": [],
   "source": [
    "# 맞춤법 검사 \n",
    "from hanspell import spell_checker\n",
    "\n",
    "def spell_checking(sent_list):\n",
    "    sent_spell=[]\n",
    "    for sentence in sent_list:\n",
    "        sent_spell.append(spell_checker.check(sentence).checked)\n",
    "    return(sent_spell)"
   ]
  },
  {
   "cell_type": "code",
   "execution_count": 13,
   "metadata": {},
   "outputs": [],
   "source": [
    "# 시간 걸림!\n",
    "review_df['comment_n_spell']=review_df['comment_n'].apply(lambda x: spell_checking(x))"
   ]
  },
  {
   "cell_type": "code",
   "execution_count": 24,
   "metadata": {},
   "outputs": [
    {
     "data": {
      "text/plain": [
       "0        [추가 정보 등록은 앱 설정에서 충분히 할 수 있음에도 굳이 기기 화면마다 상단 배...\n",
       "1        [그냥 엘지 제품은 리모컨만 사용하는 것이 정신 건강에 좋을 듯합니다, 앱에서 제품...\n",
       "2        [퓨리 케어 공기청정기 단짜리 사용 중인데 언제부터 어플에서 공기청정기 수치 표시가...\n",
       "3        [에너지 모니터링 지난달 대비 사용량 이 전달하고 이번 달하고 바뀌었다, 보기는 했...\n",
       "4        [LG 옙만 서비스 오작동 기능들이 잘 안되고 짜증 나네, 통신사 이동하고 삼성 단...\n",
       "                               ...                        \n",
       "11374                                               [좋아요 ]\n",
       "11375                                               [좋아요 ]\n",
       "11376                                                  [굿]\n",
       "11377                                                 [굿 ]\n",
       "11378                                               [좋아요 ]\n",
       "Name: comment_n, Length: 11379, dtype: object"
      ]
     },
     "execution_count": 24,
     "metadata": {},
     "output_type": "execute_result"
    }
   ],
   "source": [
    "#기존 맞춤법 검사 결과 읽어오는 경우 사용\n",
    "#review_df=pd.read_csv(\"thinq_review_result.csv\")\n",
    "#review_df['comment_n']=review_df['comment_n_spell'].apply(lambda x: eval(x))\n",
    "#review_df['comment_n']"
   ]
  },
  {
   "cell_type": "code",
   "execution_count": 23,
   "metadata": {},
   "outputs": [
    {
     "data": {
      "text/plain": [
       "0        ['추가 정보 등록은 앱 설정에서 충분히 할 수 있음에도 굳이 기기 화면마다 상단 ...\n",
       "1        ['그냥 엘지 제품은 리모컨만 사용하는 것이 정신 건강에 좋을 듯합니다', '앱에서...\n",
       "2        ['퓨리 케어 공기청정기 단짜리 사용 중인데 언제부터 어플에서 공기청정기 수치 표시...\n",
       "3        ['에너지 모니터링 지난달 대비 사용량 이 전달하고 이번 달하고 바뀌었다', '보기...\n",
       "4        ['LG 옙만 서비스 오작동 기능들이 잘 안되고 짜증 나네', '통신사 이동하고 삼...\n",
       "                               ...                        \n",
       "11374                                             ['좋아요 ']\n",
       "11375                                             ['좋아요 ']\n",
       "11376                                                ['굿']\n",
       "11377                                               ['굿 ']\n",
       "11378                                             ['좋아요 ']\n",
       "Name: comment_n_spell, Length: 11379, dtype: object"
      ]
     },
     "execution_count": 23,
     "metadata": {},
     "output_type": "execute_result"
    }
   ],
   "source": [
    "review_df['comment_n_spell']"
   ]
  },
  {
   "cell_type": "code",
   "execution_count": 14,
   "metadata": {},
   "outputs": [],
   "source": [
    "review_df['comment_n']=review_df['comment_n_spell']"
   ]
  },
  {
   "cell_type": "code",
   "execution_count": 25,
   "metadata": {},
   "outputs": [],
   "source": [
    "from konlpy.tag import Okt  \n",
    "okt=Okt() \n",
    "def n_a_v_selection(sent_list): \n",
    "    sent_tokens=[]\n",
    "    for sentence in sent_list:\n",
    "        pos_result=okt.pos(sentence, stem=True)\n",
    "        filtered_result=[pair[0] for pair in pos_result if (pair[1]=='Alpha')or(pair[1]=='Noun')or(pair[1]=='Verb')or(pair[1]=='Adjective') or(pair[1]=='Adverb')]\n",
    "        sent_tokens.append(filtered_result)\n",
    "    return sent_tokens"
   ]
  },
  {
   "cell_type": "code",
   "execution_count": 26,
   "metadata": {},
   "outputs": [],
   "source": [
    "review_df['comment_n']=review_df['comment_n'].apply(lambda x: n_a_v_selection(x))"
   ]
  },
  {
   "cell_type": "code",
   "execution_count": null,
   "metadata": {},
   "outputs": [],
   "source": [
    "## 위 코드 실행 시 생략\n",
    "# 명사만 추출\n",
    "#from konlpy.tag import Okt  \n",
    "#okt=Okt()  \n",
    "\n",
    "#def noun_selection(sent_list):    \n",
    "#    sent_tokens=[]\n",
    "#    for sentence in sent_list:\n",
    "#        sent_tokens.append(okt.nouns(sentence))\n",
    "#    return(sent_tokens)\n",
    "\n",
    "#review_df['comment_n']=review_df['comment_n'].apply(lambda x: noun_selection(x))"
   ]
  },
  {
   "cell_type": "code",
   "execution_count": 27,
   "metadata": {},
   "outputs": [],
   "source": [
    "# 불용어 처리\n",
    "import json\n",
    "\n",
    "with open('korean_stopword.json',encoding='utf8') as f:\n",
    "    stopwords = json.load(f)\n",
    "\n",
    "stopwords.extend(['안','수','거','왜','것','후','에서','고','이다','는','한','안녕','형','형님','건','안','요','거','피','질','번','용','군','영','스','좀','데','듯','넉','테','런','하다','하나요','되다','안되다','있다','없다'])"
   ]
  },
  {
   "cell_type": "code",
   "execution_count": 28,
   "metadata": {},
   "outputs": [],
   "source": [
    "def rem_n_stopwords(sent_list):\n",
    "    sent_stop=[]\n",
    "    for sentence in sent_list:\n",
    "        new_sent=[]\n",
    "        for token in sentence:\n",
    "            if token not in stopwords:\n",
    "                new_sent.append(token)\n",
    "        sent_stop.append(new_sent)\n",
    "    return(sent_stop)\n",
    "\n",
    "review_df['comment_n']=review_df['comment_n'].apply(lambda x: rem_n_stopwords(x))"
   ]
  },
  {
   "cell_type": "code",
   "execution_count": 29,
   "metadata": {},
   "outputs": [
    {
     "data": {
      "text/plain": [
       "0        [[추가, 정보, 등록, 앱, 설정, 충분하다, 굳이, 기기, 화면, 상단, 배치,...\n",
       "1        [[그냥, 엘지, 제품, 리모컨, 사용, 정신, 건강, 좋다], [앱, 제품, 삭제...\n",
       "2        [[퓨리, 케어, 공기청정기, 단, 짜다, 사용, 중, 어플, 공기청정기, 수치, ...\n",
       "3        [[에너지, 모니터링, 지난달, 대비, 용량, 전달, 달, 바뀌다], [보기, 달,...\n",
       "4        [[LG, 옙, 서비스, 작동, 기능, 자다, 짜증, 나다], [통신사, 이동, 삼...\n",
       "                               ...                        \n",
       "11374                                               [[좋다]]\n",
       "11375                                               [[좋다]]\n",
       "11376                                                [[굿]]\n",
       "11377                                                [[굿]]\n",
       "11378                                               [[좋다]]\n",
       "Name: comment_n, Length: 11379, dtype: object"
      ]
     },
     "execution_count": 29,
     "metadata": {},
     "output_type": "execute_result"
    }
   ],
   "source": [
    "review_df['comment_n']"
   ]
  },
  {
   "cell_type": "code",
   "execution_count": 30,
   "metadata": {},
   "outputs": [],
   "source": [
    "# 빈 리스트 제거\n",
    "def remove_empty_list(sent_list):\n",
    "    removed_list = []\n",
    "    for sentence in sent_list:\n",
    "        if sentence: # sentence가 빈 경우가 아니면\n",
    "            removed_list.append(sentence)    \n",
    "    return removed_list\n",
    "\n",
    "review_df['comment_n']=review_df['comment_n'].apply(lambda x: remove_empty_list(x))\n",
    "\n",
    "review_df.to_csv('thinq_review_result.csv',index=False, encoding='utf-8-sig')"
   ]
  },
  {
   "cell_type": "code",
   "execution_count": 31,
   "metadata": {},
   "outputs": [
    {
     "data": {
      "text/plain": [
       "0        [[추가, 정보, 등록, 앱, 설정, 충분하다, 굳이, 기기, 화면, 상단, 배치,...\n",
       "1        [[그냥, 엘지, 제품, 리모컨, 사용, 정신, 건강, 좋다], [앱, 제품, 삭제...\n",
       "2        [[퓨리, 케어, 공기청정기, 단, 짜다, 사용, 중, 어플, 공기청정기, 수치, ...\n",
       "3        [[에너지, 모니터링, 지난달, 대비, 용량, 전달, 달, 바뀌다], [보기, 달,...\n",
       "4        [[LG, 옙, 서비스, 작동, 기능, 자다, 짜증, 나다], [통신사, 이동, 삼...\n",
       "                               ...                        \n",
       "11374                                               [[좋다]]\n",
       "11375                                               [[좋다]]\n",
       "11376                                                [[굿]]\n",
       "11377                                                [[굿]]\n",
       "11378                                               [[좋다]]\n",
       "Name: comment_n, Length: 11379, dtype: object"
      ]
     },
     "execution_count": 31,
     "metadata": {},
     "output_type": "execute_result"
    }
   ],
   "source": [
    "review_df['comment_n']"
   ]
  },
  {
   "cell_type": "code",
   "execution_count": 32,
   "metadata": {},
   "outputs": [],
   "source": [
    "# 리뷰 전체를 한 리스트로 만들기\n",
    "def one_word_list(sent_list):\n",
    "    one_list=[]\n",
    "    for sentence in sent_list:\n",
    "        one_list.extend(sentence)\n",
    "    return(one_list)\n",
    "\n",
    "review_df['comment_n']=review_df['comment_n'].apply(lambda x: one_word_list(x))"
   ]
  },
  {
   "cell_type": "code",
   "execution_count": 33,
   "metadata": {},
   "outputs": [
    {
     "data": {
      "text/plain": [
       "0        [추가, 정보, 등록, 앱, 설정, 충분하다, 굳이, 기기, 화면, 상단, 배치, ...\n",
       "1        [그냥, 엘지, 제품, 리모컨, 사용, 정신, 건강, 좋다, 앱, 제품, 삭제, 제...\n",
       "2        [퓨리, 케어, 공기청정기, 단, 짜다, 사용, 중, 어플, 공기청정기, 수치, 표...\n",
       "3        [에너지, 모니터링, 지난달, 대비, 용량, 전달, 달, 바뀌다, 보기, 달, 시작...\n",
       "4        [LG, 옙, 서비스, 작동, 기능, 자다, 짜증, 나다, 통신사, 이동, 삼성, ...\n",
       "                               ...                        \n",
       "11374                                                 [좋다]\n",
       "11375                                                 [좋다]\n",
       "11376                                                  [굿]\n",
       "11377                                                  [굿]\n",
       "11378                                                 [좋다]\n",
       "Name: comment_n, Length: 11379, dtype: object"
      ]
     },
     "execution_count": 33,
     "metadata": {},
     "output_type": "execute_result"
    }
   ],
   "source": [
    "review_df['comment_n']"
   ]
  },
  {
   "cell_type": "code",
   "execution_count": 34,
   "metadata": {},
   "outputs": [
    {
     "data": {
      "text/plain": [
       "좋다      3785\n",
       "연결      1810\n",
       "사용      1700\n",
       "앱       1600\n",
       "자다      1336\n",
       "편하다     1092\n",
       "에어컨     1062\n",
       "제품      1048\n",
       "업데이트    1027\n",
       "편리하다    1003\n",
       "등록       998\n",
       "기능       911\n",
       "너무       879\n",
       "쓰다       846\n",
       "어플       845\n",
       "dtype: int64"
      ]
     },
     "execution_count": 34,
     "metadata": {},
     "output_type": "execute_result"
    }
   ],
   "source": [
    "# 단어 빈도 그래프\n",
    "total_word=[]\n",
    "for i in range(len(review_df)):\n",
    "    total_word.extend(review_df.loc[i,'comment_n'])\n",
    "\n",
    "pd.Series(total_word).value_counts().head(15)\n"
   ]
  },
  {
   "cell_type": "code",
   "execution_count": 35,
   "metadata": {},
   "outputs": [
    {
     "data": {
      "text/plain": [
       "<AxesSubplot:>"
      ]
     },
     "execution_count": 35,
     "metadata": {},
     "output_type": "execute_result"
    },
    {
     "data": {
      "image/png": "[encoded data removed]",
      "text/plain": [
       "<Figure size 432x288 with 1 Axes>"
      ]
     },
     "metadata": {
      "needs_background": "light"
     },
     "output_type": "display_data"
    }
   ],
   "source": [
    "# 단어 빈도 그래프\n",
    "# 한글 폰트 사용\n",
    "from matplotlib import font_manager, rc\n",
    "\n",
    "font_name = font_manager.FontProperties(fname=\"c:/Windows/Fonts/malgun.ttf\").get_name()\n",
    "rc('font', family=font_name)\n",
    "\n",
    "pd.Series(total_word).value_counts().head(15).plot(kind='bar')\n"
   ]
  },
  {
   "cell_type": "code",
   "execution_count": 36,
   "metadata": {},
   "outputs": [
    {
     "data": {
      "text/plain": [
       "<AxesSubplot:>"
      ]
     },
     "execution_count": 36,
     "metadata": {},
     "output_type": "execute_result"
    },
    {
     "data": {
      "image/png": "[encoded data removed]",
      "text/plain": [
       "<Figure size 432x288 with 1 Axes>"
      ]
     },
     "metadata": {
      "needs_background": "light"
     },
     "output_type": "display_data"
    }
   ],
   "source": [
    "pd.Series(total_word).value_counts().head(15).plot(kind='barh')"
   ]
  },
  {
   "cell_type": "code",
   "execution_count": 38,
   "metadata": {},
   "outputs": [
    {
     "data": {
      "image/png": "[encoded data removed]",
      "text/plain": [
       "<Figure size 432x288 with 1 Axes>"
      ]
     },
     "metadata": {
      "needs_background": "light"
     },
     "output_type": "display_data"
    }
   ],
   "source": [
    "pd.Series(total_word).value_counts().head(15).plot(kind='barh').invert_yaxis()"
   ]
  }
 ],
 "metadata": {
  "kernelspec": {
   "display_name": "Python 3",
   "language": "python",
   "name": "python3"
  },
  "language_info": {
   "codemirror_mode": {
    "name": "ipython",
    "version": 3
   },
   "file_extension": ".py",
   "mimetype": "text/x-python",
   "name": "python",
   "nbconvert_exporter": "python",
   "pygments_lexer": "ipython3",
   "version": "3.7.4"
  }
 },
 "nbformat": 4,
 "nbformat_minor": 4
}
