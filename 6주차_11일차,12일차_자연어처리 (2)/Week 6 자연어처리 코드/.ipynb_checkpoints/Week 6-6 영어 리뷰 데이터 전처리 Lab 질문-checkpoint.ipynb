{
 "cells": [
  {
   "cell_type": "markdown",
   "metadata": {},
   "source": [
    "# Week 6-6 영어 리뷰 데이터 전처리  Lab"
   ]
  },
  {
   "cell_type": "markdown",
   "metadata": {},
   "source": [
    "1. 삼성 smartthings에 대한 영문 리뷰 파일을 열어서 review_df에 저장하시오."
   ]
  },
  {
   "cell_type": "code",
   "execution_count": 2,
   "metadata": {},
   "outputs": [
    {
     "data": {
      "text/html": [
       "<div>\n",
       "<style scoped>\n",
       "    .dataframe tbody tr th:only-of-type {\n",
       "        vertical-align: middle;\n",
       "    }\n",
       "\n",
       "    .dataframe tbody tr th {\n",
       "        vertical-align: top;\n",
       "    }\n",
       "\n",
       "    .dataframe thead th {\n",
       "        text-align: right;\n",
       "    }\n",
       "</style>\n",
       "<table border=\"1\" class=\"dataframe\">\n",
       "  <thead>\n",
       "    <tr style=\"text-align: right;\">\n",
       "      <th></th>\n",
       "      <th>date</th>\n",
       "      <th>star</th>\n",
       "      <th>like</th>\n",
       "      <th>comment</th>\n",
       "    </tr>\n",
       "  </thead>\n",
       "  <tbody>\n",
       "    <tr>\n",
       "      <td>0</td>\n",
       "      <td>September 19, 2021</td>\n",
       "      <td>1</td>\n",
       "      <td>15.0</td>\n",
       "      <td>Really unbelievable you can't even turn on a S...</td>\n",
       "    </tr>\n",
       "    <tr>\n",
       "      <td>1</td>\n",
       "      <td>September 17, 2021</td>\n",
       "      <td>1</td>\n",
       "      <td>12.0</td>\n",
       "      <td>This app is so bad. It continually and randoml...</td>\n",
       "    </tr>\n",
       "    <tr>\n",
       "      <td>2</td>\n",
       "      <td>September 17, 2021</td>\n",
       "      <td>2</td>\n",
       "      <td>11.0</td>\n",
       "      <td>I have this app on Android and iOS. It will no...</td>\n",
       "    </tr>\n",
       "    <tr>\n",
       "      <td>3</td>\n",
       "      <td>September 15, 2021</td>\n",
       "      <td>2</td>\n",
       "      <td>15.0</td>\n",
       "      <td>Watch app does not sync current state status f...</td>\n",
       "    </tr>\n",
       "    <tr>\n",
       "      <td>4</td>\n",
       "      <td>September 11, 2021</td>\n",
       "      <td>1</td>\n",
       "      <td>8.0</td>\n",
       "      <td>Unable to add my hue lights, every function co...</td>\n",
       "    </tr>\n",
       "    <tr>\n",
       "      <td>...</td>\n",
       "      <td>...</td>\n",
       "      <td>...</td>\n",
       "      <td>...</td>\n",
       "      <td>...</td>\n",
       "    </tr>\n",
       "    <tr>\n",
       "      <td>10955</td>\n",
       "      <td>November 16, 2019</td>\n",
       "      <td>1</td>\n",
       "      <td>NaN</td>\n",
       "      <td>Wont connect to my Samsung tv. Using samsung p...</td>\n",
       "    </tr>\n",
       "    <tr>\n",
       "      <td>10956</td>\n",
       "      <td>December 12, 2020</td>\n",
       "      <td>3</td>\n",
       "      <td>NaN</td>\n",
       "      <td>This is good but have one issue with 4D-pad wh...</td>\n",
       "    </tr>\n",
       "    <tr>\n",
       "      <td>10957</td>\n",
       "      <td>December 14, 2019</td>\n",
       "      <td>1</td>\n",
       "      <td>NaN</td>\n",
       "      <td>App crashes and stops. Removed, reinstall, try...</td>\n",
       "    </tr>\n",
       "    <tr>\n",
       "      <td>10958</td>\n",
       "      <td>January 17, 2019</td>\n",
       "      <td>1</td>\n",
       "      <td>NaN</td>\n",
       "      <td>since this smart things came in they took the ...</td>\n",
       "    </tr>\n",
       "    <tr>\n",
       "      <td>10959</td>\n",
       "      <td>January 8, 2020</td>\n",
       "      <td>4</td>\n",
       "      <td>NaN</td>\n",
       "      <td>It is good, you can do a lot, wish if they can...</td>\n",
       "    </tr>\n",
       "  </tbody>\n",
       "</table>\n",
       "<p>10960 rows × 4 columns</p>\n",
       "</div>"
      ],
      "text/plain": [
       "                     date  star  like  \\\n",
       "0      September 19, 2021     1  15.0   \n",
       "1      September 17, 2021     1  12.0   \n",
       "2      September 17, 2021     2  11.0   \n",
       "3      September 15, 2021     2  15.0   \n",
       "4      September 11, 2021     1   8.0   \n",
       "...                   ...   ...   ...   \n",
       "10955   November 16, 2019     1   NaN   \n",
       "10956   December 12, 2020     3   NaN   \n",
       "10957   December 14, 2019     1   NaN   \n",
       "10958    January 17, 2019     1   NaN   \n",
       "10959     January 8, 2020     4   NaN   \n",
       "\n",
       "                                                 comment  \n",
       "0      Really unbelievable you can't even turn on a S...  \n",
       "1      This app is so bad. It continually and randoml...  \n",
       "2      I have this app on Android and iOS. It will no...  \n",
       "3      Watch app does not sync current state status f...  \n",
       "4      Unable to add my hue lights, every function co...  \n",
       "...                                                  ...  \n",
       "10955  Wont connect to my Samsung tv. Using samsung p...  \n",
       "10956  This is good but have one issue with 4D-pad wh...  \n",
       "10957  App crashes and stops. Removed, reinstall, try...  \n",
       "10958  since this smart things came in they took the ...  \n",
       "10959  It is good, you can do a lot, wish if they can...  \n",
       "\n",
       "[10960 rows x 4 columns]"
      ]
     },
     "execution_count": 2,
     "metadata": {},
     "output_type": "execute_result"
    }
   ],
   "source": [
    "import pandas as pd\n",
    "import matplotlib.pyplot as plt\n",
    "import seaborn as sns\n",
    "import os\n",
    "\n",
    "os.chdir(r'C:\\Users\\Administrator\\Downloads\\6주차_11일차,12일차_자연어처리\\Week6 자연어처리 Data')\n",
    "review_df=pd.read_csv(\"smartthings_e_review.csv\")\n",
    "review_df"
   ]
  },
  {
   "cell_type": "markdown",
   "metadata": {},
   "source": [
    "2. 대소문자를 모두 소문자로 변환하시오."
   ]
  },
  {
   "cell_type": "code",
   "execution_count": 3,
   "metadata": {},
   "outputs": [
    {
     "data": {
      "text/plain": [
       "0        really unbelievable you can't even turn on a s...\n",
       "1        this app is so bad. it continually and randoml...\n",
       "2        i have this app on android and ios. it will no...\n",
       "3        watch app does not sync current state status f...\n",
       "4        unable to add my hue lights, every function co...\n",
       "                               ...                        \n",
       "10955    wont connect to my samsung tv. using samsung p...\n",
       "10956    this is good but have one issue with 4d-pad wh...\n",
       "10957    app crashes and stops. removed, reinstall, try...\n",
       "10958    since this smart things came in they took the ...\n",
       "10959    it is good, you can do a lot, wish if they can...\n",
       "Name: comment_n, Length: 10960, dtype: object"
      ]
     },
     "execution_count": 3,
     "metadata": {},
     "output_type": "execute_result"
    }
   ],
   "source": [
    "review_df['comment_n']=review_df['comment'].apply(lambda x: x.lower())\n",
    "review_df['comment_n']"
   ]
  },
  {
   "cell_type": "markdown",
   "metadata": {},
   "source": [
    "3. 숫자, 문장부호, 특수문자를 제거하시오."
   ]
  },
  {
   "cell_type": "code",
   "execution_count": 4,
   "metadata": {},
   "outputs": [
    {
     "data": {
      "text/plain": [
       "0        really unbelievable you can't even turn on a s...\n",
       "1        this app is so bad. it continually and randoml...\n",
       "2        i have this app on android and ios. it will no...\n",
       "3        watch app does not sync current state status f...\n",
       "4        unable to add my hue lights, every function co...\n",
       "                               ...                        \n",
       "10955    wont connect to my samsung tv. using samsung p...\n",
       "10956    this is good but have one issue with  d-pad wh...\n",
       "10957    app crashes and stops. removed, reinstall, try...\n",
       "10958    since this smart things came in they took the ...\n",
       "10959    it is good, you can do a lot, wish if they can...\n",
       "Name: comment_n, Length: 10960, dtype: object"
      ]
     },
     "execution_count": 4,
     "metadata": {},
     "output_type": "execute_result"
    }
   ],
   "source": [
    "import re\n",
    "p=re.compile(\"[0-9]+\")\n",
    "review_df['comment_n']=review_df['comment_n'].apply(lambda x: p.sub(\" \", x))\n",
    "review_df['comment_n']"
   ]
  },
  {
   "cell_type": "markdown",
   "metadata": {},
   "source": [
    "4. 단어 토콘화를 하고 불용어를 제거하시오."
   ]
  },
  {
   "cell_type": "code",
   "execution_count": 5,
   "metadata": {},
   "outputs": [
    {
     "data": {
      "text/plain": [
       "0        really unbelievable you can t even turn on a s...\n",
       "1        this app is so bad it continually and randomly...\n",
       "2        i have this app on android and ios it will not...\n",
       "3        watch app does not sync current state status f...\n",
       "4        unable to add my hue lights every function com...\n",
       "                               ...                        \n",
       "10955    wont connect to my samsung tv using samsung ph...\n",
       "10956    this is good but have one issue with d pad whe...\n",
       "10957    app crashes and stops removed reinstall try to...\n",
       "10958    since this smart things came in they took the ...\n",
       "10959    it is good you can do a lot wish if they can a...\n",
       "Name: comment_n, Length: 10960, dtype: object"
      ]
     },
     "execution_count": 5,
     "metadata": {},
     "output_type": "execute_result"
    }
   ],
   "source": [
    "p=re.compile(\"\\W+\")\n",
    "review_df['comment_n']=review_df['comment_n'].apply(lambda x: p.sub(\" \", x))\n",
    "review_df['comment_n']"
   ]
  },
  {
   "cell_type": "markdown",
   "metadata": {},
   "source": [
    "5. 어간 추출을 하시오."
   ]
  },
  {
   "cell_type": "code",
   "execution_count": null,
   "metadata": {},
   "outputs": [],
   "source": [
    "from nltk.tokenize import word_tokenize \n",
    "from nltk.corpus import stopwords  \n",
    "\n",
    "stop_words = set(stopwords.words('english')) \n",
    "\n",
    "review_df['comment_n']=review_df['comment_n'].apply(lambda x: word_tokenize(x))\n",
    "review_df['comment_n']"
   ]
  },
  {
   "cell_type": "markdown",
   "metadata": {},
   "source": [
    "6. Top-15 단어 빈도 그래프를 그리시오."
   ]
  },
  {
   "cell_type": "code",
   "execution_count": null,
   "metadata": {},
   "outputs": [],
   "source": []
  }
 ],
 "metadata": {
  "kernelspec": {
   "display_name": "Python 3",
   "language": "python",
   "name": "python3"
  },
  "language_info": {
   "codemirror_mode": {
    "name": "ipython",
    "version": 3
   },
   "file_extension": ".py",
   "mimetype": "text/x-python",
   "name": "python",
   "nbconvert_exporter": "python",
   "pygments_lexer": "ipython3",
   "version": "3.7.4"
  }
 },
 "nbformat": 4,
 "nbformat_minor": 4
}
